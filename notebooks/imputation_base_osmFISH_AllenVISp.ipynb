{
 "cells": [
  {
   "cell_type": "code",
   "execution_count": 1,
   "metadata": {},
   "outputs": [
    {
     "name": "stderr",
     "output_type": "stream",
     "text": [
      "Global seed set to 0\n"
     ]
    }
   ],
   "source": [
    "import anndata\n",
    "import torch\n",
    "import stPlus\n",
    "\n",
    "import squidpy as sq\n",
    "import numpy as np\n",
    "import scanpy as sc\n",
    "import pandas as pd\n",
    "\n",
    "from sklearn.model_selection import KFold\n",
    "from transpa.eval_util import calc_corr\n",
    "from transpa.util import expTransImp, leiden_cluster, compute_autocorr\n",
    "from benchmark import SpaGE_impute, Tangram_impute\n",
    "import warnings\n",
    "\n",
    "warnings.filterwarnings('ignore')\n",
    "\n",
    "seed = 10\n",
    "device = torch.device(\"cuda:2\") if torch.cuda.is_available() else torch.device(\"cpu\")"
   ]
  },
  {
   "cell_type": "code",
   "execution_count": 2,
   "metadata": {},
   "outputs": [
    {
     "name": "stderr",
     "output_type": "stream",
     "text": [
      "Trying to set attribute `.obs` of view, copying.\n"
     ]
    },
    {
     "data": {
      "text/plain": [
       "AnnData object with n_obs × n_vars = 14249 × 34617\n",
       "    obs: 'sample_name', 'sample_id', 'sample_type', 'organism', 'donor', 'sex', 'age_days', 'eye_condition', 'genotype', 'driver_lines', 'reporter_lines', 'brain_hemisphere', 'brain_region', 'brain_subregion', 'injection_label_direction', 'injection_primary', 'injection_secondary', 'injection_tract', 'injection_material', 'injection_exclusion_criterion', 'facs_date', 'facs_container', 'facs_sort_criteria', 'rna_amplification_set', 'library_prep_set', 'library_prep_avg_size_bp', 'seq_name', 'seq_tube', 'seq_batch', 'total_reads', 'percent_exon_reads', 'percent_intron_reads', 'percent_intergenic_reads', 'percent_rrna_reads', 'percent_mt_exon_reads', 'percent_reads_unique', 'percent_synth_reads', 'percent_ecoli_reads', 'percent_aligned_reads_total', 'complexity_cg', 'genes_detected_cpm_criterion', 'genes_detected_fpkm_criterion', 'tdt_cpm', 'gfp_cpm', 'class', 'subclass', 'cluster', 'confusion_score', 'cluster_correlation', 'core_intermediate_call', 'leiden'\n",
       "    var: 'n_cells'\n",
       "    uns: 'log1p'"
      ]
     },
     "execution_count": 2,
     "metadata": {},
     "output_type": "execute_result"
    }
   ],
   "source": [
    "spatial_df_file = '/data/users/cqiao/data/stPlus/data/osmFISH_df.csv'\n",
    "spatial_loom_file = '/data/users/cqiao/data/stPlus/data/osmFISH_SScortex_mouse_all_cells.loom'\n",
    "\n",
    "VISp_adata = sc.read(\"/data/users/cqiao/data/stPlus/data/SpaGE Datasets/scRNAseq/Allen_VISp/mouse_VISp_2018-06-14_exon-matrix.csv\").T\n",
    "genes = pd.read_csv(\"/data/users/cqiao/data/stPlus/data/SpaGE Datasets/scRNAseq/Allen_VISp/mouse_VISp_2018-06-14_genes-rows.csv\", header=0,sep=',')\n",
    "VISp_meta = pd.read_csv(\"/data/users/cqiao/data/stPlus/data/SpaGE Datasets/scRNAseq/Allen_VISp/mouse_VISp_2018-06-14_samples-columns.csv\", header=0,sep=',')\n",
    "\n",
    "VISp_adata.obs = VISp_meta\n",
    "VISp_adata.var_names = genes.gene_symbol\n",
    "\n",
    "sc.pp.filter_genes(VISp_adata, min_cells=10)\n",
    "VISp_adata = VISp_adata[(VISp_adata.obs['class'] != 'No Class') & (VISp_adata.obs['class'] != 'Low Quality')]\n",
    "classes, ct_list = leiden_cluster(VISp_adata)\n",
    "cls_key = 'leiden'\n",
    "VISp_adata.obs[cls_key] = classes\n",
    "sc.pp.normalize_total(VISp_adata)\n",
    "sc.pp.log1p(VISp_adata)\n",
    "VISp_adata\n"
   ]
  },
  {
   "cell_type": "code",
   "execution_count": 3,
   "metadata": {},
   "outputs": [
    {
     "data": {
      "text/plain": [
       "((3405, 33), (14249, 34617), (33,))"
      ]
     },
     "execution_count": 3,
     "metadata": {},
     "output_type": "execute_result"
    }
   ],
   "source": [
    "osmFISH = sc.read_loom(spatial_loom_file)\n",
    "osmFISH = osmFISH[~np.isin(osmFISH.obs.Region, ['Excluded', 'Hippocampus', 'Internal Capsule Caudoputamen','Ventricle', 'White matter'])]\n",
    "raw_spatial_df  = pd.read_csv(spatial_df_file)\n",
    "osmFISH.X = raw_spatial_df.values\n",
    "\n",
    "\n",
    "raw_scrna_df    = pd.DataFrame(VISp_adata.X, columns=VISp_adata.var_names)\n",
    "adata_scrna   = VISp_adata\n",
    "\n",
    "\n",
    "raw_shared_gene = np.intersect1d(raw_spatial_df.columns, raw_scrna_df.columns)\n",
    "raw_spatial_df.shape, raw_scrna_df.shape, raw_shared_gene.shape"
   ]
  },
  {
   "cell_type": "code",
   "execution_count": 4,
   "metadata": {},
   "outputs": [],
   "source": [
    "osmFISH.obsm['spatial'] = np.hstack([osmFISH.obs.X.values.reshape(-1,1), osmFISH.obs.Y.values.reshape(-1,1)])\n",
    "sq.gr.spatial_neighbors(osmFISH)"
   ]
  },
  {
   "cell_type": "code",
   "execution_count": 5,
   "metadata": {},
   "outputs": [
    {
     "name": "stdout",
     "output_type": "stream",
     "text": [
      "\n",
      "===== Fold 1 =====\n",
      "Number of train genes: 26, Number of test genes: 7\n"
     ]
    },
    {
     "name": "stderr",
     "output_type": "stream",
     "text": [
      "[TransImp] Epoch: 1000/1000, loss: 0.141073, (IMP) 0.140986, (SPA) 1.0 x 0.000087: 100%|██████████| 1000/1000 [00:07<00:00, 133.09it/s]\n"
     ]
    },
    {
     "name": "stdout",
     "output_type": "stream",
     "text": [
      "fold 0, median correlation: 0.28346131131284824 (TransImpSpa)\n"
     ]
    },
    {
     "name": "stderr",
     "output_type": "stream",
     "text": [
      "[TransImp] Epoch: 1000/1000, loss: 0.221081, (IMP) 0.221081: 100%|██████████| 1000/1000 [00:03<00:00, 250.66it/s]\n"
     ]
    },
    {
     "name": "stdout",
     "output_type": "stream",
     "text": [
      "fold 0, median correlation: 0.2048065735516214 (TransImpCls)\n"
     ]
    },
    {
     "name": "stderr",
     "output_type": "stream",
     "text": [
      "[TransImp] Epoch: 1000/1000, loss: 0.098238, (IMP) 0.098238: 100%|██████████| 1000/1000 [00:05<00:00, 174.25it/s]\n"
     ]
    },
    {
     "name": "stdout",
     "output_type": "stream",
     "text": [
      "fold 0, median correlation: 0.2429161038469413 (TransImp)\n"
     ]
    },
    {
     "name": "stderr",
     "output_type": "stream",
     "text": [
      "[TransImp] Epoch: 1000/1000, loss: 0.226056, (IMP) 0.225265, (SPA) 1.0 x 0.000792: 100%|██████████| 1000/1000 [00:06<00:00, 155.13it/s]\n"
     ]
    },
    {
     "name": "stdout",
     "output_type": "stream",
     "text": [
      "fold 0, median correlation: 0.20462590695090105 (TransImpClsSpa)\n",
      "\t\t\t0.10499903794691269 (stPlus)\n",
      "\t\t\t0.18762833535787943 (spaGE)\n"
     ]
    },
    {
     "name": "stderr",
     "output_type": "stream",
     "text": [
      "INFO:root:26 training genes are saved in `uns``training_genes` of both single cell and spatial Anndatas.\n",
      "INFO:root:26 overlapped genes are saved in `uns``overlap_genes` of both single cell and spatial Anndatas.\n",
      "INFO:root:uniform based density prior is calculated and saved in `obs``uniform_density` of the spatial Anndata.\n",
      "INFO:root:rna count based density prior is calculated and saved in `obs``rna_count_based_density` of the spatial Anndata.\n",
      "INFO:root:Allocate tensors for mapping.\n",
      "INFO:root:Begin training with 26 genes and rna_count_based density_prior in clusters mode...\n",
      "INFO:root:Printing scores every 100 epochs.\n"
     ]
    },
    {
     "name": "stdout",
     "output_type": "stream",
     "text": [
      "Score: 0.646, KL reg: 0.069\n",
      "Score: 0.902, KL reg: 0.001\n",
      "Score: 0.904, KL reg: 0.001\n",
      "Score: 0.905, KL reg: 0.001\n",
      "Score: 0.905, KL reg: 0.001\n",
      "Score: 0.905, KL reg: 0.001\n",
      "Score: 0.905, KL reg: 0.001\n",
      "Score: 0.905, KL reg: 0.001\n",
      "Score: 0.905, KL reg: 0.001\n",
      "Score: 0.905, KL reg: 0.001\n"
     ]
    },
    {
     "name": "stderr",
     "output_type": "stream",
     "text": [
      "INFO:root:Saving results..\n"
     ]
    },
    {
     "name": "stdout",
     "output_type": "stream",
     "text": [
      "\t\t\t0.15456673072599394 (Tangram)\n",
      "\n",
      "===== Fold 2 =====\n",
      "Number of train genes: 26, Number of test genes: 7\n"
     ]
    },
    {
     "name": "stderr",
     "output_type": "stream",
     "text": [
      "[TransImp] Epoch: 1000/1000, loss: 0.141829, (IMP) 0.141769, (SPA) 1.0 x 0.000060: 100%|██████████| 1000/1000 [00:08<00:00, 116.63it/s]\n"
     ]
    },
    {
     "name": "stdout",
     "output_type": "stream",
     "text": [
      "fold 1, median correlation: 0.3007968228792702 (TransImpSpa)\n"
     ]
    },
    {
     "name": "stderr",
     "output_type": "stream",
     "text": [
      "[TransImp] Epoch: 1000/1000, loss: 0.245408, (IMP) 0.245408: 100%|██████████| 1000/1000 [00:03<00:00, 258.03it/s]\n"
     ]
    },
    {
     "name": "stdout",
     "output_type": "stream",
     "text": [
      "fold 1, median correlation: 0.21053161518543806 (TransImpCls)\n"
     ]
    },
    {
     "name": "stderr",
     "output_type": "stream",
     "text": [
      "[TransImp] Epoch: 1000/1000, loss: 0.107564, (IMP) 0.107564: 100%|██████████| 1000/1000 [00:05<00:00, 167.59it/s]\n"
     ]
    },
    {
     "name": "stdout",
     "output_type": "stream",
     "text": [
      "fold 1, median correlation: 0.3046906833314437 (TransImp)\n"
     ]
    },
    {
     "name": "stderr",
     "output_type": "stream",
     "text": [
      "[TransImp] Epoch: 1000/1000, loss: 0.250470, (IMP) 0.249338, (SPA) 1.0 x 0.001132: 100%|██████████| 1000/1000 [00:06<00:00, 164.93it/s]\n"
     ]
    },
    {
     "name": "stdout",
     "output_type": "stream",
     "text": [
      "fold 1, median correlation: 0.2096301121751043 (TransImpClsSpa)\n",
      "\t\t\t0.2352158206197935 (stPlus)\n",
      "\t\t\t0.2878425436935992 (spaGE)\n"
     ]
    },
    {
     "name": "stderr",
     "output_type": "stream",
     "text": [
      "INFO:root:26 training genes are saved in `uns``training_genes` of both single cell and spatial Anndatas.\n",
      "INFO:root:26 overlapped genes are saved in `uns``overlap_genes` of both single cell and spatial Anndatas.\n",
      "INFO:root:uniform based density prior is calculated and saved in `obs``uniform_density` of the spatial Anndata.\n",
      "INFO:root:rna count based density prior is calculated and saved in `obs``rna_count_based_density` of the spatial Anndata.\n",
      "INFO:root:Allocate tensors for mapping.\n",
      "INFO:root:Begin training with 26 genes and rna_count_based density_prior in clusters mode...\n",
      "INFO:root:Printing scores every 100 epochs.\n"
     ]
    },
    {
     "name": "stdout",
     "output_type": "stream",
     "text": [
      "Score: 0.664, KL reg: 0.068\n",
      "Score: 0.896, KL reg: 0.001\n",
      "Score: 0.898, KL reg: 0.001\n",
      "Score: 0.898, KL reg: 0.001\n",
      "Score: 0.898, KL reg: 0.001\n",
      "Score: 0.898, KL reg: 0.001\n",
      "Score: 0.898, KL reg: 0.001\n",
      "Score: 0.899, KL reg: 0.001\n",
      "Score: 0.899, KL reg: 0.001\n",
      "Score: 0.899, KL reg: 0.001\n"
     ]
    },
    {
     "name": "stderr",
     "output_type": "stream",
     "text": [
      "INFO:root:Saving results..\n"
     ]
    },
    {
     "name": "stdout",
     "output_type": "stream",
     "text": [
      "\t\t\t0.20969720930184893 (Tangram)\n",
      "\n",
      "===== Fold 3 =====\n",
      "Number of train genes: 26, Number of test genes: 7\n"
     ]
    },
    {
     "name": "stderr",
     "output_type": "stream",
     "text": [
      "[TransImp] Epoch: 1000/1000, loss: 0.123606, (IMP) 0.123535, (SPA) 1.0 x 0.000072: 100%|██████████| 1000/1000 [00:08<00:00, 116.80it/s]\n"
     ]
    },
    {
     "name": "stdout",
     "output_type": "stream",
     "text": [
      "fold 2, median correlation: 0.15984409735893187 (TransImpSpa)\n"
     ]
    },
    {
     "name": "stderr",
     "output_type": "stream",
     "text": [
      "[TransImp] Epoch: 1000/1000, loss: 0.216710, (IMP) 0.216710: 100%|██████████| 1000/1000 [00:04<00:00, 220.45it/s]\n"
     ]
    },
    {
     "name": "stdout",
     "output_type": "stream",
     "text": [
      "fold 2, median correlation: 0.20616132597790235 (TransImpCls)\n"
     ]
    },
    {
     "name": "stderr",
     "output_type": "stream",
     "text": [
      "[TransImp] Epoch: 1000/1000, loss: 0.086034, (IMP) 0.086034: 100%|██████████| 1000/1000 [00:05<00:00, 180.04it/s]\n"
     ]
    },
    {
     "name": "stdout",
     "output_type": "stream",
     "text": [
      "fold 2, median correlation: 0.1935738746678016 (TransImp)\n"
     ]
    },
    {
     "name": "stderr",
     "output_type": "stream",
     "text": [
      "[TransImp] Epoch: 1000/1000, loss: 0.221146, (IMP) 0.220186, (SPA) 1.0 x 0.000960: 100%|██████████| 1000/1000 [00:06<00:00, 164.23it/s]\n"
     ]
    },
    {
     "name": "stdout",
     "output_type": "stream",
     "text": [
      "fold 2, median correlation: 0.19773165268600285 (TransImpClsSpa)\n",
      "\t\t\t0.2405757440329698 (stPlus)\n",
      "\t\t\t0.17657184978228513 (spaGE)\n"
     ]
    },
    {
     "name": "stderr",
     "output_type": "stream",
     "text": [
      "INFO:root:26 training genes are saved in `uns``training_genes` of both single cell and spatial Anndatas.\n",
      "INFO:root:26 overlapped genes are saved in `uns``overlap_genes` of both single cell and spatial Anndatas.\n",
      "INFO:root:uniform based density prior is calculated and saved in `obs``uniform_density` of the spatial Anndata.\n",
      "INFO:root:rna count based density prior is calculated and saved in `obs``rna_count_based_density` of the spatial Anndata.\n",
      "INFO:root:Allocate tensors for mapping.\n",
      "INFO:root:Begin training with 26 genes and rna_count_based density_prior in clusters mode...\n",
      "INFO:root:Printing scores every 100 epochs.\n"
     ]
    },
    {
     "name": "stdout",
     "output_type": "stream",
     "text": [
      "Score: 0.636, KL reg: 0.068\n",
      "Score: 0.903, KL reg: 0.001\n",
      "Score: 0.905, KL reg: 0.001\n",
      "Score: 0.906, KL reg: 0.001\n",
      "Score: 0.906, KL reg: 0.001\n",
      "Score: 0.906, KL reg: 0.001\n",
      "Score: 0.906, KL reg: 0.001\n",
      "Score: 0.906, KL reg: 0.001\n",
      "Score: 0.906, KL reg: 0.001\n",
      "Score: 0.906, KL reg: 0.001\n"
     ]
    },
    {
     "name": "stderr",
     "output_type": "stream",
     "text": [
      "INFO:root:Saving results..\n"
     ]
    },
    {
     "name": "stdout",
     "output_type": "stream",
     "text": [
      "\t\t\t0.24095381368541258 (Tangram)\n",
      "\n",
      "===== Fold 4 =====\n",
      "Number of train genes: 27, Number of test genes: 6\n"
     ]
    },
    {
     "name": "stderr",
     "output_type": "stream",
     "text": [
      "[TransImp] Epoch: 1000/1000, loss: 0.131782, (IMP) 0.131717, (SPA) 1.0 x 0.000065: 100%|██████████| 1000/1000 [00:08<00:00, 122.72it/s]\n"
     ]
    },
    {
     "name": "stdout",
     "output_type": "stream",
     "text": [
      "fold 3, median correlation: 0.32451253386982104 (TransImpSpa)\n"
     ]
    },
    {
     "name": "stderr",
     "output_type": "stream",
     "text": [
      "[TransImp] Epoch: 1000/1000, loss: 0.214348, (IMP) 0.214348: 100%|██████████| 1000/1000 [00:04<00:00, 223.44it/s]\n"
     ]
    },
    {
     "name": "stdout",
     "output_type": "stream",
     "text": [
      "fold 3, median correlation: 0.24544024293632782 (TransImpCls)\n"
     ]
    },
    {
     "name": "stderr",
     "output_type": "stream",
     "text": [
      "[TransImp] Epoch: 1000/1000, loss: 0.093113, (IMP) 0.093113: 100%|██████████| 1000/1000 [00:05<00:00, 175.18it/s]\n"
     ]
    },
    {
     "name": "stdout",
     "output_type": "stream",
     "text": [
      "fold 3, median correlation: 0.3175534400478624 (TransImp)\n"
     ]
    },
    {
     "name": "stderr",
     "output_type": "stream",
     "text": [
      "[TransImp] Epoch: 1000/1000, loss: 0.218864, (IMP) 0.218477, (SPA) 1.0 x 0.000386: 100%|██████████| 1000/1000 [00:06<00:00, 150.78it/s]\n"
     ]
    },
    {
     "name": "stdout",
     "output_type": "stream",
     "text": [
      "fold 3, median correlation: 0.2400171001909862 (TransImpClsSpa)\n",
      "\t\t\t0.21880587525761142 (stPlus)\n",
      "\t\t\t0.1846113047611807 (spaGE)\n"
     ]
    },
    {
     "name": "stderr",
     "output_type": "stream",
     "text": [
      "INFO:root:27 training genes are saved in `uns``training_genes` of both single cell and spatial Anndatas.\n",
      "INFO:root:27 overlapped genes are saved in `uns``overlap_genes` of both single cell and spatial Anndatas.\n",
      "INFO:root:uniform based density prior is calculated and saved in `obs``uniform_density` of the spatial Anndata.\n",
      "INFO:root:rna count based density prior is calculated and saved in `obs``rna_count_based_density` of the spatial Anndata.\n",
      "INFO:root:Allocate tensors for mapping.\n",
      "INFO:root:Begin training with 27 genes and rna_count_based density_prior in clusters mode...\n",
      "INFO:root:Printing scores every 100 epochs.\n"
     ]
    },
    {
     "name": "stdout",
     "output_type": "stream",
     "text": [
      "Score: 0.645, KL reg: 0.066\n",
      "Score: 0.906, KL reg: 0.001\n",
      "Score: 0.908, KL reg: 0.001\n",
      "Score: 0.908, KL reg: 0.001\n",
      "Score: 0.908, KL reg: 0.001\n",
      "Score: 0.908, KL reg: 0.001\n",
      "Score: 0.908, KL reg: 0.001\n",
      "Score: 0.909, KL reg: 0.001\n",
      "Score: 0.909, KL reg: 0.001\n",
      "Score: 0.909, KL reg: 0.001\n"
     ]
    },
    {
     "name": "stderr",
     "output_type": "stream",
     "text": [
      "INFO:root:Saving results..\n"
     ]
    },
    {
     "name": "stdout",
     "output_type": "stream",
     "text": [
      "\t\t\t0.2639745565508909 (Tangram)\n",
      "\n",
      "===== Fold 5 =====\n",
      "Number of train genes: 27, Number of test genes: 6\n"
     ]
    },
    {
     "name": "stderr",
     "output_type": "stream",
     "text": [
      "[TransImp] Epoch: 1000/1000, loss: 0.139095, (IMP) 0.138998, (SPA) 1.0 x 0.000097: 100%|██████████| 1000/1000 [00:08<00:00, 124.23it/s]\n"
     ]
    },
    {
     "name": "stdout",
     "output_type": "stream",
     "text": [
      "fold 4, median correlation: 0.18998921261809898 (TransImpSpa)\n"
     ]
    },
    {
     "name": "stderr",
     "output_type": "stream",
     "text": [
      "[TransImp] Epoch: 1000/1000, loss: 0.226750, (IMP) 0.226750: 100%|██████████| 1000/1000 [00:03<00:00, 251.43it/s]\n"
     ]
    },
    {
     "name": "stdout",
     "output_type": "stream",
     "text": [
      "fold 4, median correlation: 0.14312709614141703 (TransImpCls)\n"
     ]
    },
    {
     "name": "stderr",
     "output_type": "stream",
     "text": [
      "[TransImp] Epoch: 1000/1000, loss: 0.103514, (IMP) 0.103514: 100%|██████████| 1000/1000 [00:05<00:00, 183.11it/s]\n"
     ]
    },
    {
     "name": "stdout",
     "output_type": "stream",
     "text": [
      "fold 4, median correlation: 0.22157332319150513 (TransImp)\n"
     ]
    },
    {
     "name": "stderr",
     "output_type": "stream",
     "text": [
      "[TransImp] Epoch: 1000/1000, loss: 0.231537, (IMP) 0.230404, (SPA) 1.0 x 0.001133: 100%|██████████| 1000/1000 [00:06<00:00, 158.98it/s]\n"
     ]
    },
    {
     "name": "stdout",
     "output_type": "stream",
     "text": [
      "fold 4, median correlation: 0.1615625510041534 (TransImpClsSpa)\n",
      "\t\t\t0.12186984030028128 (stPlus)\n",
      "\t\t\t0.13650136432997356 (spaGE)\n"
     ]
    },
    {
     "name": "stderr",
     "output_type": "stream",
     "text": [
      "INFO:root:27 training genes are saved in `uns``training_genes` of both single cell and spatial Anndatas.\n",
      "INFO:root:27 overlapped genes are saved in `uns``overlap_genes` of both single cell and spatial Anndatas.\n",
      "INFO:root:uniform based density prior is calculated and saved in `obs``uniform_density` of the spatial Anndata.\n",
      "INFO:root:rna count based density prior is calculated and saved in `obs``rna_count_based_density` of the spatial Anndata.\n",
      "INFO:root:Allocate tensors for mapping.\n",
      "INFO:root:Begin training with 27 genes and rna_count_based density_prior in clusters mode...\n",
      "INFO:root:Printing scores every 100 epochs.\n"
     ]
    },
    {
     "name": "stdout",
     "output_type": "stream",
     "text": [
      "Score: 0.651, KL reg: 0.064\n",
      "Score: 0.899, KL reg: 0.001\n",
      "Score: 0.901, KL reg: 0.001\n",
      "Score: 0.902, KL reg: 0.001\n",
      "Score: 0.902, KL reg: 0.001\n",
      "Score: 0.902, KL reg: 0.001\n",
      "Score: 0.902, KL reg: 0.001\n",
      "Score: 0.902, KL reg: 0.001\n",
      "Score: 0.902, KL reg: 0.001\n",
      "Score: 0.902, KL reg: 0.001\n"
     ]
    },
    {
     "name": "stderr",
     "output_type": "stream",
     "text": [
      "INFO:root:Saving results..\n"
     ]
    },
    {
     "name": "stdout",
     "output_type": "stream",
     "text": [
      "\t\t\t0.13321894252161076 (Tangram)\n",
      "0.2518858934227403 (TransImpSpa) 0.2467380488636398 (TransImp) 0.2048065735516214 (TransImpCls) 0.20462590695090105 (TransImpClsSpa) 0.18881567157568477 (stPlus) 0.17948876458635804 (spaGE) 0.1838450135944357 (Tangram)\n"
     ]
    }
   ],
   "source": [
    "kf = KFold(n_splits=5, shuffle=True, random_state=0)\n",
    "kf.get_n_splits(raw_shared_gene)\n",
    "\n",
    "df_transImpSpa = pd.DataFrame(np.zeros((osmFISH.n_obs, len(raw_shared_gene))), columns=raw_shared_gene)\n",
    "df_transImpCls = pd.DataFrame(np.zeros((osmFISH.n_obs, len(raw_shared_gene))), columns=raw_shared_gene)\n",
    "df_transImpClsSpa = pd.DataFrame(np.zeros((osmFISH.n_obs, len(raw_shared_gene))), columns=raw_shared_gene)\n",
    "df_transImp = pd.DataFrame(np.zeros((osmFISH.n_obs, len(raw_shared_gene))), columns=raw_shared_gene)\n",
    "df_stplus_res = pd.DataFrame(np.zeros((osmFISH.n_obs, len(raw_shared_gene))), columns=raw_shared_gene)\n",
    "df_spaGE_res = pd.DataFrame(np.zeros((osmFISH.n_obs, len(raw_shared_gene))), columns=raw_shared_gene)\n",
    "df_tangram_res = pd.DataFrame(np.zeros((osmFISH.n_obs, len(raw_shared_gene))), columns=raw_shared_gene)\n",
    "\n",
    "\n",
    "for idx, (train_ind, test_ind) in enumerate(kf.split(raw_shared_gene)):    \n",
    "    print(f\"\\n===== Fold {idx+1} =====\\nNumber of train genes: {len(train_ind)}, Number of test genes: {len(test_ind)}\")\n",
    "    train_gene = raw_shared_gene[train_ind]\n",
    "    test_gene  = raw_shared_gene[test_ind]\n",
    "    \n",
    "    test_spatial_df = raw_spatial_df[test_gene]\n",
    "    spatial_df = raw_spatial_df[train_gene]\n",
    "    scrna_df   = raw_scrna_df\n",
    "\n",
    "    df_transImpSpa[test_gene] = expTransImp(\n",
    "            df_ref=raw_scrna_df,\n",
    "            df_tgt=raw_spatial_df,\n",
    "            train_gene=train_gene,\n",
    "            test_gene=test_gene,\n",
    "            signature_mode='cell',\n",
    "            mapping_mode='lowrank',\n",
    "            mapping_lowdim=128,\n",
    "            spa_adj=osmFISH.obsp['spatial_connectivities'].tocoo(),\n",
    "            seed=seed,\n",
    "            device=device)\n",
    "\n",
    "    corr_transImpSpa_res = calc_corr(raw_spatial_df, df_transImpSpa, test_gene)\n",
    "    print(f'fold {idx}, median correlation: {np.median(corr_transImpSpa_res)} (TransImpSpa)')\n",
    "\n",
    "    df_transImpCls[test_gene] = expTransImp(\n",
    "            df_ref=raw_scrna_df,\n",
    "            df_tgt=raw_spatial_df,\n",
    "            train_gene=train_gene,\n",
    "            test_gene=test_gene,\n",
    "            ct_list=ct_list,\n",
    "            classes=classes,\n",
    "            signature_mode='cluster',\n",
    "            mapping_mode='full',\n",
    "            seed=seed,\n",
    "            device=device)\n",
    "\n",
    "    corr_transImpSpa_res = calc_corr(raw_spatial_df, df_transImpCls, test_gene)\n",
    "    print(f'fold {idx}, median correlation: {np.median(corr_transImpSpa_res)} (TransImpCls)')\n",
    "\n",
    "    df_transImp[test_gene] = expTransImp(\n",
    "            df_ref=raw_scrna_df,\n",
    "            df_tgt=raw_spatial_df,\n",
    "            train_gene=train_gene,\n",
    "            test_gene=test_gene,\n",
    "            signature_mode='cell',\n",
    "            mapping_mode='lowrank',\n",
    "            mapping_lowdim=128,\n",
    "            seed=seed,\n",
    "            device=device)\n",
    "\n",
    "    corr_transImpSpa_res = calc_corr(raw_spatial_df, df_transImp, test_gene)\n",
    "    print(f'fold {idx}, median correlation: {np.median(corr_transImpSpa_res)} (TransImp)')\n",
    "\n",
    "    df_transImpClsSpa[test_gene] = expTransImp(\n",
    "            df_ref=raw_scrna_df,\n",
    "            df_tgt=raw_spatial_df,\n",
    "            train_gene=train_gene,\n",
    "            test_gene=test_gene,\n",
    "            ct_list=ct_list,\n",
    "            classes=classes,\n",
    "            spa_adj=osmFISH.obsp['spatial_connectivities'].tocoo(),\n",
    "            signature_mode='cluster',\n",
    "            mapping_mode='full',\n",
    "            wt_spa=1.0,\n",
    "            seed=seed,\n",
    "            device=device)\n",
    "\n",
    "    corr_transImpSpa_res = calc_corr(raw_spatial_df, df_transImpClsSpa, test_gene)\n",
    "    print(f'fold {idx}, median correlation: {np.median(corr_transImpSpa_res)} (TransImpClsSpa)')\n",
    "\n",
    "    df_stplus_res[test_gene] = stPlus.stPlus(spatial_df, scrna_df, test_gene, \"tmp_osmvisp\", verbose=False, random_seed=seed, device=device)\n",
    "    corr_res_stplus = calc_corr(raw_spatial_df, df_stplus_res, test_gene)\n",
    "    print(f'\\t\\t\\t{np.median(corr_res_stplus)} (stPlus)')\n",
    "\n",
    "    df_spaGE_res[test_gene]  = SpaGE_impute(scrna_df, spatial_df, train_gene, test_gene)\n",
    "    corr_res_spaGE = calc_corr(raw_spatial_df, df_spaGE_res, test_gene)\n",
    "    print(f'\\t\\t\\t{np.median(corr_res_spaGE)} (spaGE)')\n",
    "\n",
    "    df_tangram_res[test_gene] = Tangram_impute(adata_scrna, osmFISH, train_gene, test_gene, device, cls_key)\n",
    "    corr_res_tangram = calc_corr(raw_spatial_df, df_tangram_res, test_gene)\n",
    "    print(f'\\t\\t\\t{np.median(corr_res_tangram)} (Tangram)')\n",
    "\n",
    "corr_transImpSpa_res = calc_corr(raw_spatial_df, df_transImpSpa, raw_shared_gene)\n",
    "corr_transImp_res = calc_corr(raw_spatial_df, df_transImp, raw_shared_gene)\n",
    "corr_transImpCls_res = calc_corr(raw_spatial_df, df_transImpCls, raw_shared_gene)\n",
    "corr_transImpClsSpa_res = calc_corr(raw_spatial_df, df_transImpClsSpa, raw_shared_gene)\n",
    "corr_res_stplus = calc_corr(raw_spatial_df, df_stplus_res, raw_shared_gene)\n",
    "corr_res_spaGE = calc_corr(raw_spatial_df, df_spaGE_res, raw_shared_gene)\n",
    "corr_res_tangram = calc_corr(raw_spatial_df, df_tangram_res, raw_shared_gene)   \n",
    "\n",
    "print(np.median(corr_transImpSpa_res), \"(TransImpSpa)\", \n",
    "      np.median(corr_transImp_res), \"(TransImp)\", \n",
    "      np.median(corr_transImpCls_res), \"(TransImpCls)\", \n",
    "      np.median(corr_transImpClsSpa_res), \"(TransImpClsSpa)\", \n",
    "      np.median(corr_res_stplus), \"(stPlus)\", \n",
    "      np.median(corr_res_spaGE), \"(spaGE)\",\n",
    "      np.median(corr_res_tangram), \"(Tangram)\"\n",
    "      )"
   ]
  },
  {
   "cell_type": "code",
   "execution_count": 6,
   "metadata": {},
   "outputs": [],
   "source": [
    "df_transImp.to_csv('output/osmFISH_AllenVISp_transImpute.csv')\n",
    "df_transImpSpa.to_csv('output/osmFISH_AllenVISp_transImpSpa.csv')\n",
    "df_transImpCls.to_csv('output/osmFISH_AllenVISp_transImpCls.csv')\n",
    "df_transImpClsSpa.to_csv('output/osmFISH_AllenVISp_transImpClsSpa.csv')\n",
    "df_spaGE_res.to_csv('output/osmFISH_AllenVISp_spaGE.csv')\n",
    "df_stplus_res.to_csv('output/osmFISH_AllenVISp_stPlus.csv')\n",
    "df_tangram_res.to_csv('output/osmFISH_AllenVISp_Tangram.csv')"
   ]
  },
  {
   "cell_type": "code",
   "execution_count": 7,
   "metadata": {},
   "outputs": [],
   "source": [
    "dict_df = {\"TransImp\":df_transImp, \n",
    "           \"TransImpSpa\":df_transImpSpa, \n",
    "           \"TransImpCls\":df_transImpCls,\n",
    "           \"TransImpClsSpa\":df_transImpClsSpa,\n",
    "           \"spaGE\": df_spaGE_res, \"stPlus\": df_stplus_res, \n",
    "           \"Tangram\":df_tangram_res\n",
    "           }\n",
    "sq.gr.spatial_autocorr(\n",
    "    osmFISH,\n",
    "    n_jobs=10,\n",
    ")\n",
    "sq.gr.spatial_autocorr(\n",
    "    osmFISH,\n",
    "    n_jobs=10,\n",
    "    mode='geary',\n",
    ")\n",
    "\n",
    "dict_adata = {name: compute_autocorr(osmFISH[:, raw_shared_gene].copy(), df) for name, df in dict_df.items()}\n"
   ]
  },
  {
   "cell_type": "code",
   "execution_count": 8,
   "metadata": {},
   "outputs": [
    {
     "name": "stdout",
     "output_type": "stream",
     "text": [
      "Mean Squared Error\n",
      "Moran's I:\n",
      "\n",
      "\tTrue vs TransImp: 0.017087\n",
      "\tTrue vs TransImpSpa: 0.015985\n",
      "\tTrue vs TransImpCls: 0.023960\n",
      "\tTrue vs TransImpClsSpa: 0.023225\n",
      "\tTrue vs spaGE: 0.023274\n",
      "\tTrue vs stPlus: 0.025371\n",
      "\tTrue vs Tangram: 0.032351\n",
      "Geary's C:\n",
      "\n",
      "\tTrue vs TransImp: 0.016970\n",
      "\tTrue vs TransImpSpa: 0.016141\n",
      "\tTrue vs TransImpCls: 0.024218\n",
      "\tTrue vs TransImpClsSpa: 0.023531\n",
      "\tTrue vs spaGE: 0.024567\n",
      "\tTrue vs stPlus: 0.025847\n",
      "\tTrue vs Tangram: 0.032477\n"
     ]
    }
   ],
   "source": [
    "from sklearn.metrics import mean_squared_error\n",
    "moranIs = {name:mean_squared_error(osmFISH.uns['moranI'].loc[raw_shared_gene].I, imp_adata.uns['moranI'].loc[raw_shared_gene].I) for name, imp_adata in dict_adata.items()}\n",
    "gearyCs = {name:mean_squared_error(osmFISH.uns['gearyC'].loc[raw_shared_gene].C, imp_adata.uns['gearyC'].loc[raw_shared_gene].C) for name, imp_adata in dict_adata.items()}\n",
    "\n",
    "print(\"Mean Squared Error\\nMoran's I:\\n\")\n",
    "print(\"\\n\".join([f\"\\tTrue vs {method}: {score:.6f}\" for method, score in moranIs.items()]))\n",
    "print(\"Geary's C:\\n\")\n",
    "print(\"\\n\".join([f\"\\tTrue vs {method}: {score:.6f}\" for method, score in gearyCs.items()]))\n"
   ]
  },
  {
   "cell_type": "code",
   "execution_count": null,
   "metadata": {},
   "outputs": [],
   "source": []
  }
 ],
 "metadata": {
  "interpreter": {
   "hash": "6882e18cf33c55392f753cb1e86fe7d6ba9af380909deeca032ff41f78588c0c"
  },
  "kernelspec": {
   "display_name": "Python 3",
   "language": "python",
   "name": "python3"
  },
  "language_info": {
   "codemirror_mode": {
    "name": "ipython",
    "version": 3
   },
   "file_extension": ".py",
   "mimetype": "text/x-python",
   "name": "python",
   "nbconvert_exporter": "python",
   "pygments_lexer": "ipython3",
   "version": "3.7.12"
  }
 },
 "nbformat": 4,
 "nbformat_minor": 4
}
