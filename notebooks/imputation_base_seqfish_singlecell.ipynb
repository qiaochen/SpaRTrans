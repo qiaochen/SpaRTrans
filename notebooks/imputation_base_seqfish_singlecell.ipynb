{
 "cells": [
  {
   "cell_type": "code",
   "execution_count": 1,
   "metadata": {},
   "outputs": [],
   "source": [
    "import anndata\n",
    "import torch\n",
    "import stPlus\n",
    "import os\n",
    "import random\n",
    "import warnings\n",
    "\n",
    "import squidpy as sq\n",
    "import numpy as np\n",
    "import scanpy as sc\n",
    "import pandas as pd\n",
    "\n",
    "from sklearn.model_selection import KFold\n",
    "from transpa.eval_util import calc_corr\n",
    "from transpa.util import expTransImp, leiden_cluster, compute_autocorr\n",
    "from benchmark import SpaGE_impute, Tangram_impute\n",
    "\n",
    "\n",
    "warnings.filterwarnings('ignore')\n",
    "\n",
    "seed = 10\n",
    "device = torch.device(\"cuda:1\") if torch.cuda.is_available() else torch.device(\"cpu\")"
   ]
  },
  {
   "cell_type": "code",
   "execution_count": 2,
   "metadata": {},
   "outputs": [],
   "source": [
    "spa_adata = sc.read_h5ad(\"../../data/ST/seqfish/seqfish_data.h5ad\")\n",
    "scrna_adata = sc.read_h5ad(\"../../data/scRNAseq/seqfish/scRNAseq_seqfish.h5ad\")\n",
    "classes, ct_list = leiden_cluster(scrna_adata)\n",
    "cls_key = 'leiden'\n",
    "sc.pp.normalize_total(spa_adata)\n",
    "sc.pp.normalize_total(scrna_adata)\n",
    "sc.pp.log1p(spa_adata)\n",
    "sc.pp.log1p(scrna_adata)\n",
    "\n",
    "var_name = scrna_adata.var_names.values.copy()\n",
    "var_name[np.argmax((scrna_adata.var_names == \"Prkcdbp\"))] = \"Cavin3\"\n",
    "scrna_adata.var_names = var_name\n",
    "\n",
    "scrna_adata.obs[cls_key] = classes"
   ]
  },
  {
   "cell_type": "code",
   "execution_count": 3,
   "metadata": {},
   "outputs": [
    {
     "data": {
      "text/plain": [
       "((57536, 351), (32844, 29452), (351,))"
      ]
     },
     "execution_count": 3,
     "metadata": {},
     "output_type": "execute_result"
    }
   ],
   "source": [
    "raw_spatial_df  = pd.DataFrame(spa_adata.X.toarray(), columns=spa_adata.var_names)\n",
    "raw_spatial_df.to_csv('../../output/seqfish_raw.csv')\n",
    "raw_scrna_df    = pd.DataFrame(scrna_adata.X.toarray(), columns=scrna_adata.var_names).astype(pd.SparseDtype(\"float32\", 0))\n",
    "raw_shared_gene = np.intersect1d(raw_spatial_df.columns, raw_scrna_df.columns)\n",
    "raw_spatial_df.shape, raw_scrna_df.shape, raw_shared_gene.shape,"
   ]
  },
  {
   "cell_type": "code",
   "execution_count": 4,
   "metadata": {},
   "outputs": [],
   "source": [
    "spa_adata.obsm['spatial'] = np.hstack([spa_adata.obs.x_global_affine.values.reshape(-1,1), spa_adata.obs.y_global_affine.values.reshape(-1,1)])\n",
    "np.save('../../output/seqfish_locations.npy', spa_adata.obsm['spatial'])\n",
    "sq.gr.spatial_neighbors(spa_adata)\n"
   ]
  },
  {
   "cell_type": "code",
   "execution_count": 5,
   "metadata": {},
   "outputs": [
    {
     "name": "stdout",
     "output_type": "stream",
     "text": [
      "\n",
      "===== Fold 1 =====\n",
      "Number of train genes: 280, Number of test genes: 71\n"
     ]
    },
    {
     "name": "stderr",
     "output_type": "stream",
     "text": [
      "[TransImp] Epoch: 2000/2000, loss: 0.756026, (IMP) 0.753120, (SPA) 1.0 x 0.002906: 100%|██████████| 2000/2000 [00:33<00:00, 59.71it/s]\n"
     ]
    },
    {
     "name": "stdout",
     "output_type": "stream",
     "text": [
      "fold 0, median cosine similarity: 0.44133231043815613 (TransImpSpa)\n"
     ]
    },
    {
     "name": "stderr",
     "output_type": "stream",
     "text": [
      "[TransImp] Epoch: 1000/1000, loss: 0.907009, (IMP) 0.907009, (SPA) 1.0 x 0.000000: 100%|██████████| 1000/1000 [00:07<00:00, 126.82it/s]\n"
     ]
    },
    {
     "name": "stdout",
     "output_type": "stream",
     "text": [
      "fold 0, median cosine similarity: 0.4470369219779968 (TransImpCls)\n"
     ]
    },
    {
     "name": "stderr",
     "output_type": "stream",
     "text": [
      "[TransImp] Epoch: 1000/1000, loss: 0.805868, (IMP) 0.805868, (SPA) 1.0 x 0.000000: 100%|██████████| 1000/1000 [00:10<00:00, 97.17it/s]\n"
     ]
    },
    {
     "name": "stdout",
     "output_type": "stream",
     "text": [
      "fold 0, median cosine similarity: 0.447448194026947 (TransImp)\n"
     ]
    },
    {
     "name": "stderr",
     "output_type": "stream",
     "text": [
      "[TransImp] Epoch: 1000/1000, loss: 0.917254, (IMP) 0.912251, (SPA) 1.0 x 0.005002: 100%|██████████| 1000/1000 [00:14<00:00, 70.95it/s]\n"
     ]
    },
    {
     "name": "stdout",
     "output_type": "stream",
     "text": [
      "fold 0, median cosine similarity: 0.44241824746131897 (TransImpClsSpa)\n",
      "fold 0, median cosine similarity: 0.40345598370826896 (stPlus)\n",
      "fold 0, median cosine similarity: 0.3743658340809235 (spaGE)\n"
     ]
    },
    {
     "name": "stderr",
     "output_type": "stream",
     "text": [
      "INFO:root:280 training genes are saved in `uns``training_genes` of both single cell and spatial Anndatas.\n",
      "INFO:root:280 overlapped genes are saved in `uns``overlap_genes` of both single cell and spatial Anndatas.\n",
      "INFO:root:uniform based density prior is calculated and saved in `obs``uniform_density` of the spatial Anndata.\n",
      "INFO:root:rna count based density prior is calculated and saved in `obs``rna_count_based_density` of the spatial Anndata.\n",
      "INFO:root:Allocate tensors for mapping.\n",
      "INFO:root:Begin training with 280 genes and rna_count_based density_prior in clusters mode...\n",
      "INFO:root:Printing scores every 100 epochs.\n"
     ]
    },
    {
     "name": "stdout",
     "output_type": "stream",
     "text": [
      "Score: 0.381, KL reg: 0.066\n",
      "Score: 0.566, KL reg: 0.001\n",
      "Score: 0.567, KL reg: 0.001\n",
      "Score: 0.568, KL reg: 0.001\n",
      "Score: 0.568, KL reg: 0.001\n",
      "Score: 0.568, KL reg: 0.001\n",
      "Score: 0.568, KL reg: 0.001\n",
      "Score: 0.568, KL reg: 0.001\n",
      "Score: 0.568, KL reg: 0.001\n",
      "Score: 0.568, KL reg: 0.001\n"
     ]
    },
    {
     "name": "stderr",
     "output_type": "stream",
     "text": [
      "INFO:root:Saving results..\n"
     ]
    },
    {
     "name": "stdout",
     "output_type": "stream",
     "text": [
      "fold 0, median cosine similarity: 0.44875872135162354 (Tangram)\n",
      "\n",
      "===== Fold 2 =====\n",
      "Number of train genes: 281, Number of test genes: 70\n"
     ]
    },
    {
     "name": "stderr",
     "output_type": "stream",
     "text": [
      "[TransImp] Epoch: 2000/2000, loss: 0.763759, (IMP) 0.761150, (SPA) 1.0 x 0.002608: 100%|██████████| 2000/2000 [00:32<00:00, 61.86it/s]\n"
     ]
    },
    {
     "name": "stdout",
     "output_type": "stream",
     "text": [
      "fold 1, median cosine similarity: 0.47287580370903015 (TransImpSpa)\n"
     ]
    },
    {
     "name": "stderr",
     "output_type": "stream",
     "text": [
      "[TransImp] Epoch: 1000/1000, loss: 0.921396, (IMP) 0.921396, (SPA) 1.0 x 0.000000: 100%|██████████| 1000/1000 [00:07<00:00, 129.41it/s]\n"
     ]
    },
    {
     "name": "stdout",
     "output_type": "stream",
     "text": [
      "fold 1, median cosine similarity: 0.4673541933298111 (TransImpCls)\n"
     ]
    },
    {
     "name": "stderr",
     "output_type": "stream",
     "text": [
      "[TransImp] Epoch: 1000/1000, loss: 0.817291, (IMP) 0.817291, (SPA) 1.0 x 0.000000: 100%|██████████| 1000/1000 [00:10<00:00, 98.71it/s]\n"
     ]
    },
    {
     "name": "stdout",
     "output_type": "stream",
     "text": [
      "fold 1, median cosine similarity: 0.47772498428821564 (TransImp)\n"
     ]
    },
    {
     "name": "stderr",
     "output_type": "stream",
     "text": [
      "[TransImp] Epoch: 1000/1000, loss: 0.931786, (IMP) 0.926776, (SPA) 1.0 x 0.005010: 100%|██████████| 1000/1000 [00:13<00:00, 72.41it/s]\n"
     ]
    },
    {
     "name": "stdout",
     "output_type": "stream",
     "text": [
      "fold 1, median cosine similarity: 0.4622329920530319 (TransImpClsSpa)\n",
      "fold 1, median cosine similarity: 0.464768763336318 (stPlus)\n",
      "fold 1, median cosine similarity: 0.4503158911515992 (spaGE)\n"
     ]
    },
    {
     "name": "stderr",
     "output_type": "stream",
     "text": [
      "INFO:root:281 training genes are saved in `uns``training_genes` of both single cell and spatial Anndatas.\n",
      "INFO:root:281 overlapped genes are saved in `uns``overlap_genes` of both single cell and spatial Anndatas.\n",
      "INFO:root:uniform based density prior is calculated and saved in `obs``uniform_density` of the spatial Anndata.\n",
      "INFO:root:rna count based density prior is calculated and saved in `obs``rna_count_based_density` of the spatial Anndata.\n",
      "INFO:root:Allocate tensors for mapping.\n",
      "INFO:root:Begin training with 281 genes and rna_count_based density_prior in clusters mode...\n",
      "INFO:root:Printing scores every 100 epochs.\n"
     ]
    },
    {
     "name": "stdout",
     "output_type": "stream",
     "text": [
      "Score: 0.390, KL reg: 0.067\n",
      "Score: 0.564, KL reg: 0.001\n",
      "Score: 0.566, KL reg: 0.001\n",
      "Score: 0.566, KL reg: 0.001\n",
      "Score: 0.566, KL reg: 0.001\n",
      "Score: 0.566, KL reg: 0.001\n",
      "Score: 0.567, KL reg: 0.001\n",
      "Score: 0.567, KL reg: 0.001\n",
      "Score: 0.567, KL reg: 0.001\n",
      "Score: 0.567, KL reg: 0.001\n"
     ]
    },
    {
     "name": "stderr",
     "output_type": "stream",
     "text": [
      "INFO:root:Saving results..\n"
     ]
    },
    {
     "name": "stdout",
     "output_type": "stream",
     "text": [
      "fold 1, median cosine similarity: 0.4661356508731842 (Tangram)\n",
      "\n",
      "===== Fold 3 =====\n",
      "Number of train genes: 281, Number of test genes: 70\n"
     ]
    },
    {
     "name": "stderr",
     "output_type": "stream",
     "text": [
      "[TransImp] Epoch: 2000/2000, loss: 0.779893, (IMP) 0.777234, (SPA) 1.0 x 0.002658: 100%|██████████| 2000/2000 [00:32<00:00, 62.21it/s]\n"
     ]
    },
    {
     "name": "stdout",
     "output_type": "stream",
     "text": [
      "fold 2, median cosine similarity: 0.519982248544693 (TransImpSpa)\n"
     ]
    },
    {
     "name": "stderr",
     "output_type": "stream",
     "text": [
      "[TransImp] Epoch: 1000/1000, loss: 0.938297, (IMP) 0.938297, (SPA) 1.0 x 0.000000: 100%|██████████| 1000/1000 [00:07<00:00, 130.44it/s]\n"
     ]
    },
    {
     "name": "stdout",
     "output_type": "stream",
     "text": [
      "fold 2, median cosine similarity: 0.517031192779541 (TransImpCls)\n"
     ]
    },
    {
     "name": "stderr",
     "output_type": "stream",
     "text": [
      "[TransImp] Epoch: 1000/1000, loss: 0.836944, (IMP) 0.836944, (SPA) 1.0 x 0.000000: 100%|██████████| 1000/1000 [00:10<00:00, 99.43it/s]\n"
     ]
    },
    {
     "name": "stdout",
     "output_type": "stream",
     "text": [
      "fold 2, median cosine similarity: 0.5254126191139221 (TransImp)\n"
     ]
    },
    {
     "name": "stderr",
     "output_type": "stream",
     "text": [
      "[TransImp] Epoch: 1000/1000, loss: 0.948609, (IMP) 0.943566, (SPA) 1.0 x 0.005042: 100%|██████████| 1000/1000 [00:13<00:00, 72.76it/s]\n"
     ]
    },
    {
     "name": "stdout",
     "output_type": "stream",
     "text": [
      "fold 2, median cosine similarity: 0.5009381920099258 (TransImpClsSpa)\n",
      "fold 2, median cosine similarity: 0.5123934822519582 (stPlus)\n",
      "fold 2, median cosine similarity: 0.4859987221892537 (spaGE)\n"
     ]
    },
    {
     "name": "stderr",
     "output_type": "stream",
     "text": [
      "INFO:root:281 training genes are saved in `uns``training_genes` of both single cell and spatial Anndatas.\n",
      "INFO:root:281 overlapped genes are saved in `uns``overlap_genes` of both single cell and spatial Anndatas.\n",
      "INFO:root:uniform based density prior is calculated and saved in `obs``uniform_density` of the spatial Anndata.\n",
      "INFO:root:rna count based density prior is calculated and saved in `obs``rna_count_based_density` of the spatial Anndata.\n",
      "INFO:root:Allocate tensors for mapping.\n",
      "INFO:root:Begin training with 281 genes and rna_count_based density_prior in clusters mode...\n",
      "INFO:root:Printing scores every 100 epochs.\n"
     ]
    },
    {
     "name": "stdout",
     "output_type": "stream",
     "text": [
      "Score: 0.376, KL reg: 0.067\n",
      "Score: 0.557, KL reg: 0.001\n",
      "Score: 0.559, KL reg: 0.001\n",
      "Score: 0.559, KL reg: 0.001\n",
      "Score: 0.559, KL reg: 0.001\n",
      "Score: 0.559, KL reg: 0.001\n",
      "Score: 0.559, KL reg: 0.001\n",
      "Score: 0.559, KL reg: 0.001\n",
      "Score: 0.559, KL reg: 0.001\n",
      "Score: 0.559, KL reg: 0.001\n"
     ]
    },
    {
     "name": "stderr",
     "output_type": "stream",
     "text": [
      "INFO:root:Saving results..\n"
     ]
    },
    {
     "name": "stdout",
     "output_type": "stream",
     "text": [
      "fold 2, median cosine similarity: 0.5115938782691956 (Tangram)\n",
      "\n",
      "===== Fold 4 =====\n",
      "Number of train genes: 281, Number of test genes: 70\n"
     ]
    },
    {
     "name": "stderr",
     "output_type": "stream",
     "text": [
      "[TransImp] Epoch: 2000/2000, loss: 0.769686, (IMP) 0.766796, (SPA) 1.0 x 0.002890: 100%|██████████| 2000/2000 [00:32<00:00, 61.98it/s]\n"
     ]
    },
    {
     "name": "stdout",
     "output_type": "stream",
     "text": [
      "fold 3, median cosine similarity: 0.5173015892505646 (TransImpSpa)\n"
     ]
    },
    {
     "name": "stderr",
     "output_type": "stream",
     "text": [
      "[TransImp] Epoch: 1000/1000, loss: 0.920430, (IMP) 0.920430, (SPA) 1.0 x 0.000000: 100%|██████████| 1000/1000 [00:07<00:00, 129.39it/s]\n"
     ]
    },
    {
     "name": "stdout",
     "output_type": "stream",
     "text": [
      "fold 3, median cosine similarity: 0.48491227626800537 (TransImpCls)\n"
     ]
    },
    {
     "name": "stderr",
     "output_type": "stream",
     "text": [
      "[TransImp] Epoch: 1000/1000, loss: 0.821982, (IMP) 0.821982, (SPA) 1.0 x 0.000000: 100%|██████████| 1000/1000 [00:10<00:00, 99.09it/s]\n"
     ]
    },
    {
     "name": "stdout",
     "output_type": "stream",
     "text": [
      "fold 3, median cosine similarity: 0.5165401697158813 (TransImp)\n"
     ]
    },
    {
     "name": "stderr",
     "output_type": "stream",
     "text": [
      "[TransImp] Epoch: 1000/1000, loss: 0.931049, (IMP) 0.926048, (SPA) 1.0 x 0.005001: 100%|██████████| 1000/1000 [00:13<00:00, 72.53it/s]\n"
     ]
    },
    {
     "name": "stdout",
     "output_type": "stream",
     "text": [
      "fold 3, median cosine similarity: 0.48056331276893616 (TransImpClsSpa)\n",
      "fold 3, median cosine similarity: 0.49734210554638325 (stPlus)\n",
      "fold 3, median cosine similarity: 0.47133417104241393 (spaGE)\n"
     ]
    },
    {
     "name": "stderr",
     "output_type": "stream",
     "text": [
      "INFO:root:281 training genes are saved in `uns``training_genes` of both single cell and spatial Anndatas.\n",
      "INFO:root:281 overlapped genes are saved in `uns``overlap_genes` of both single cell and spatial Anndatas.\n",
      "INFO:root:uniform based density prior is calculated and saved in `obs``uniform_density` of the spatial Anndata.\n",
      "INFO:root:rna count based density prior is calculated and saved in `obs``rna_count_based_density` of the spatial Anndata.\n",
      "INFO:root:Allocate tensors for mapping.\n",
      "INFO:root:Begin training with 281 genes and rna_count_based density_prior in clusters mode...\n",
      "INFO:root:Printing scores every 100 epochs.\n"
     ]
    },
    {
     "name": "stdout",
     "output_type": "stream",
     "text": [
      "Score: 0.379, KL reg: 0.067\n",
      "Score: 0.559, KL reg: 0.001\n",
      "Score: 0.561, KL reg: 0.001\n",
      "Score: 0.561, KL reg: 0.001\n",
      "Score: 0.561, KL reg: 0.001\n",
      "Score: 0.561, KL reg: 0.001\n",
      "Score: 0.561, KL reg: 0.001\n",
      "Score: 0.561, KL reg: 0.001\n",
      "Score: 0.561, KL reg: 0.001\n",
      "Score: 0.562, KL reg: 0.001\n"
     ]
    },
    {
     "name": "stderr",
     "output_type": "stream",
     "text": [
      "INFO:root:Saving results..\n"
     ]
    },
    {
     "name": "stdout",
     "output_type": "stream",
     "text": [
      "fold 3, median cosine similarity: 0.48378385603427887 (Tangram)\n",
      "\n",
      "===== Fold 5 =====\n",
      "Number of train genes: 281, Number of test genes: 70\n"
     ]
    },
    {
     "name": "stderr",
     "output_type": "stream",
     "text": [
      "[TransImp] Epoch: 2000/2000, loss: 0.781411, (IMP) 0.778533, (SPA) 1.0 x 0.002878: 100%|██████████| 2000/2000 [00:32<00:00, 62.04it/s]\n"
     ]
    },
    {
     "name": "stdout",
     "output_type": "stream",
     "text": [
      "fold 4, median cosine similarity: 0.5204695463180542 (TransImpSpa)\n"
     ]
    },
    {
     "name": "stderr",
     "output_type": "stream",
     "text": [
      "[TransImp] Epoch: 1000/1000, loss: 0.927738, (IMP) 0.927738, (SPA) 1.0 x 0.000000: 100%|██████████| 1000/1000 [00:07<00:00, 129.47it/s]\n"
     ]
    },
    {
     "name": "stdout",
     "output_type": "stream",
     "text": [
      "fold 4, median cosine similarity: 0.5111871659755707 (TransImpCls)\n"
     ]
    },
    {
     "name": "stderr",
     "output_type": "stream",
     "text": [
      "[TransImp] Epoch: 1000/1000, loss: 0.834083, (IMP) 0.834083, (SPA) 1.0 x 0.000000: 100%|██████████| 1000/1000 [00:10<00:00, 98.92it/s]\n"
     ]
    },
    {
     "name": "stdout",
     "output_type": "stream",
     "text": [
      "fold 4, median cosine similarity: 0.527764618396759 (TransImp)\n"
     ]
    },
    {
     "name": "stderr",
     "output_type": "stream",
     "text": [
      "[TransImp] Epoch: 1000/1000, loss: 0.938862, (IMP) 0.933303, (SPA) 1.0 x 0.005559: 100%|██████████| 1000/1000 [00:13<00:00, 72.82it/s]\n"
     ]
    },
    {
     "name": "stdout",
     "output_type": "stream",
     "text": [
      "fold 4, median cosine similarity: 0.4983830899000168 (TransImpClsSpa)\n",
      "fold 4, median cosine similarity: 0.5207089283803024 (stPlus)\n",
      "fold 4, median cosine similarity: 0.5026244338884789 (spaGE)\n"
     ]
    },
    {
     "name": "stderr",
     "output_type": "stream",
     "text": [
      "INFO:root:281 training genes are saved in `uns``training_genes` of both single cell and spatial Anndatas.\n",
      "INFO:root:281 overlapped genes are saved in `uns``overlap_genes` of both single cell and spatial Anndatas.\n",
      "INFO:root:uniform based density prior is calculated and saved in `obs``uniform_density` of the spatial Anndata.\n",
      "INFO:root:rna count based density prior is calculated and saved in `obs``rna_count_based_density` of the spatial Anndata.\n",
      "INFO:root:Allocate tensors for mapping.\n",
      "INFO:root:Begin training with 281 genes and rna_count_based density_prior in clusters mode...\n",
      "INFO:root:Printing scores every 100 epochs.\n"
     ]
    },
    {
     "name": "stdout",
     "output_type": "stream",
     "text": [
      "Score: 0.377, KL reg: 0.068\n",
      "Score: 0.559, KL reg: 0.001\n",
      "Score: 0.560, KL reg: 0.001\n",
      "Score: 0.560, KL reg: 0.001\n",
      "Score: 0.561, KL reg: 0.001\n",
      "Score: 0.561, KL reg: 0.001\n",
      "Score: 0.561, KL reg: 0.001\n",
      "Score: 0.561, KL reg: 0.001\n",
      "Score: 0.561, KL reg: 0.001\n",
      "Score: 0.561, KL reg: 0.001\n"
     ]
    },
    {
     "name": "stderr",
     "output_type": "stream",
     "text": [
      "INFO:root:Saving results..\n"
     ]
    },
    {
     "name": "stdout",
     "output_type": "stream",
     "text": [
      "fold 4, median cosine similarity: 0.4984356164932251 (Tangram)\n",
      "0.48657330870628357 (TransImpSpa) 0.5000782608985901 (TransImp) 0.48267295956611633 (TransImpCls) 0.47081634402275085 (TransImpClsSpa) 0.48195333174207633 (stPlus) 0.4539831970654655 (spaGE) 0.4765040874481201 (Tangram)\n"
     ]
    }
   ],
   "source": [
    "kf = KFold(n_splits=5, shuffle=True, random_state=0)\n",
    "kf.get_n_splits(raw_shared_gene)\n",
    "\n",
    "df_transImpSpa = pd.DataFrame(np.zeros((spa_adata.n_obs, len(raw_shared_gene))), columns=raw_shared_gene)\n",
    "df_transImpCls = pd.DataFrame(np.zeros((spa_adata.n_obs, len(raw_shared_gene))), columns=raw_shared_gene)\n",
    "df_transImpClsSpa = pd.DataFrame(np.zeros((spa_adata.n_obs, len(raw_shared_gene))), columns=raw_shared_gene)\n",
    "df_transImp = pd.DataFrame(np.zeros((spa_adata.n_obs, len(raw_shared_gene))), columns=raw_shared_gene)\n",
    "df_stplus_res = pd.DataFrame(np.zeros((spa_adata.n_obs, len(raw_shared_gene))), columns=raw_shared_gene)\n",
    "df_spaGE_res = pd.DataFrame(np.zeros((spa_adata.n_obs, len(raw_shared_gene))), columns=raw_shared_gene)\n",
    "df_tangram_res = pd.DataFrame(np.zeros((spa_adata.n_obs, len(raw_shared_gene))), columns=raw_shared_gene)\n",
    "\n",
    "for idx, (train_ind, test_ind) in enumerate(kf.split(raw_shared_gene)):    \n",
    "    print(f\"\\n===== Fold {idx+1} =====\\nNumber of train genes: {len(train_ind)}, Number of test genes: {len(test_ind)}\")\n",
    "    train_gene = raw_shared_gene[train_ind]\n",
    "    test_gene  = raw_shared_gene[test_ind]\n",
    "    \n",
    "    test_spatial_df = raw_spatial_df[test_gene]\n",
    "    spatial_df = raw_spatial_df[train_gene]\n",
    "    scrna_df   = raw_scrna_df\n",
    "\n",
    "    df_transImpSpa[test_gene] = expTransImp(\n",
    "            df_ref=raw_scrna_df,\n",
    "            df_tgt=raw_spatial_df,\n",
    "            train_gene=train_gene,\n",
    "            test_gene=test_gene,\n",
    "            signature_mode='cell',\n",
    "            mapping_mode='lowrank',\n",
    "            mapping_lowdim=128,\n",
    "            n_epochs=2000,\n",
    "            spa_adj=spa_adata.obsp['spatial_connectivities'].tocoo(),\n",
    "            seed=seed,\n",
    "            device=device)\n",
    "\n",
    "    corr_transImp_res = calc_corr(raw_spatial_df, df_transImpSpa, test_gene)\n",
    "    print(f'fold {idx}, median cosine similarity: {np.median(corr_transImp_res)} (TransImpSpa)')\n",
    "\n",
    "    df_transImpCls[test_gene] = expTransImp(\n",
    "            df_ref=raw_scrna_df,\n",
    "            df_tgt=raw_spatial_df,\n",
    "            train_gene=train_gene,\n",
    "            test_gene=test_gene,\n",
    "            ct_list=ct_list,\n",
    "            classes=classes,\n",
    "            signature_mode='cluster',\n",
    "            mapping_mode='full',\n",
    "            seed=seed,\n",
    "            device=device)\n",
    "\n",
    "    corr_transImp_res = calc_corr(raw_spatial_df, df_transImpCls, test_gene)\n",
    "    print(f'fold {idx}, median cosine similarity: {np.median(corr_transImp_res)} (TransImpCls)')\n",
    "\n",
    "    df_transImp[test_gene] = expTransImp(\n",
    "            df_ref=raw_scrna_df,\n",
    "            df_tgt=raw_spatial_df,\n",
    "            train_gene=train_gene,\n",
    "            test_gene=test_gene,\n",
    "            signature_mode='cell',\n",
    "            mapping_mode='lowrank',\n",
    "            mapping_lowdim=128,\n",
    "            seed=seed,\n",
    "            device=device)\n",
    "\n",
    "    corr_transImp_res = calc_corr(raw_spatial_df, df_transImp, test_gene)\n",
    "    print(f'fold {idx}, median cosine similarity: {np.median(corr_transImp_res)} (TransImp)')\n",
    "\n",
    "    df_transImpClsSpa[test_gene] = expTransImp(\n",
    "            df_ref=raw_scrna_df,\n",
    "            df_tgt=raw_spatial_df,\n",
    "            train_gene=train_gene,\n",
    "            test_gene=test_gene,\n",
    "            ct_list=ct_list,\n",
    "            classes=classes,\n",
    "            spa_adj=spa_adata.obsp['spatial_connectivities'].tocoo(),\n",
    "            signature_mode='cluster',\n",
    "            mapping_mode='full',\n",
    "            seed=seed,\n",
    "            device=device)\n",
    "\n",
    "    corr_transImp_res = calc_corr(raw_spatial_df, df_transImpClsSpa, test_gene)\n",
    "    print(f'fold {idx}, median cosine similarity: {np.median(corr_transImp_res)} (TransImpClsSpa)')\n",
    "\n",
    "    df_stplus_res[test_gene] = stPlus.stPlus(spatial_df, scrna_df, test_gene, \"tmp_ug\", verbose=False, random_seed=seed, device=device)\n",
    "    corr_res_stplus = calc_corr(raw_spatial_df, df_stplus_res, test_gene)\n",
    "    print(f'fold {idx}, median cosine similarity: {np.median(corr_res_stplus)} (stPlus)')\n",
    "\n",
    "    df_spaGE_res[test_gene]  = SpaGE_impute(scrna_df.sparse.to_dense(), spatial_df, train_gene, test_gene)\n",
    "    corr_res_spaGE = calc_corr(raw_spatial_df, df_spaGE_res, test_gene)\n",
    "    print(f'fold {idx}, median cosine similarity: {np.median(corr_res_spaGE)} (spaGE)')\n",
    "\n",
    "    df_tangram_res[test_gene] = Tangram_impute(scrna_adata, spa_adata, train_gene, test_gene, device, cls_key)\n",
    "    corr_res_tangram = calc_corr(raw_spatial_df, df_tangram_res, test_gene)\n",
    "    print(f'fold {idx}, median cosine similarity: {np.median(corr_res_tangram)} (Tangram)')\n",
    "\n",
    "corr_transImpSpa_res = calc_corr(raw_spatial_df, df_transImpSpa, raw_shared_gene)\n",
    "corr_transImp_res = calc_corr(raw_spatial_df, df_transImp, raw_shared_gene)\n",
    "corr_transImpCls_res = calc_corr(raw_spatial_df, df_transImpCls, raw_shared_gene)\n",
    "corr_transImpClsSpa_res = calc_corr(raw_spatial_df, df_transImpClsSpa, raw_shared_gene)\n",
    "corr_res_stplus = calc_corr(raw_spatial_df, df_stplus_res, raw_shared_gene)\n",
    "corr_res_spaGE = calc_corr(raw_spatial_df, df_spaGE_res, raw_shared_gene)\n",
    "corr_res_tangram = calc_corr(raw_spatial_df, df_tangram_res, raw_shared_gene)   \n",
    "\n",
    "print(np.median(corr_transImpSpa_res), \"(TransImpSpa)\", \n",
    "      np.median(corr_transImp_res), \"(TransImp)\", \n",
    "      np.median(corr_transImpCls_res), \"(TransImpCls)\", \n",
    "      np.median(corr_transImpClsSpa_res), \"(TransImpClsSpa)\", \n",
    "      np.median(corr_res_stplus), \"(stPlus)\", \n",
    "      np.median(corr_res_spaGE), \"(spaGE)\",\n",
    "      np.median(corr_res_tangram), \"(Tangram)\"\n",
    "      )"
   ]
  },
  {
   "cell_type": "code",
   "execution_count": 6,
   "metadata": {},
   "outputs": [],
   "source": [
    "df_transImp.to_csv('../../output/seqFISH_SingleCell_transImpute.csv')\n",
    "df_transImpSpa.to_csv('../../output/seqFISH_SingleCell_transImpSpa.csv')\n",
    "df_transImpCls.to_csv('../../output/seqFISH_SingleCell_transImpCls.csv')\n",
    "df_transImpClsSpa.to_csv('../../output/seqFISH_SingleCell_transImpClsSpa.csv')\n",
    "df_spaGE_res.to_csv('../../output/seqFISH_SingleCell_spaGE.csv')\n",
    "df_stplus_res.to_csv('../../output/seqFISH_SingleCell_stPlus.csv')\n",
    "df_tangram_res.to_csv('../../output/seqFISH_SingleCell_Tangram.csv')\n"
   ]
  },
  {
   "cell_type": "code",
   "execution_count": 7,
   "metadata": {},
   "outputs": [],
   "source": [
    "dict_df = {\"TransImp\":df_transImp, \n",
    "           \"TransImpSpa\":df_transImpSpa, \n",
    "           \"TransImpCls\":df_transImpCls,\n",
    "           \"TransImpClsSpa\":df_transImpClsSpa,\n",
    "           \"spaGE\": df_spaGE_res, \"stPlus\": df_stplus_res,\n",
    "            \"Tangram\":df_tangram_res\n",
    "            }\n",
    "spa_adata.X = spa_adata.X.toarray()\n",
    "sq.gr.spatial_autocorr(\n",
    "    spa_adata,\n",
    "    n_jobs=10,\n",
    ")\n",
    "\n",
    "dict_adata = {name: compute_autocorr(spa_adata.copy(), df) for name, df in dict_df.items()}\n"
   ]
  },
  {
   "cell_type": "code",
   "execution_count": 8,
   "metadata": {},
   "outputs": [
    {
     "name": "stdout",
     "output_type": "stream",
     "text": [
      "Mean Squared Error\n",
      "Moran's I:\n",
      "\n",
      "\tTrue vs TransImp: 0.057495\n",
      "\tTrue vs TransImpSpa: 0.011765\n",
      "\tTrue vs TransImpCls: 0.050609\n",
      "\tTrue vs TransImpClsSpa: 0.007408\n",
      "\tTrue vs spaGE: 0.034764\n",
      "\tTrue vs stPlus: 0.051806\n",
      "\tTrue vs Tangram: 0.038962\n"
     ]
    }
   ],
   "source": [
    "from sklearn.metrics import mean_squared_error\n",
    "moranIs = {name:mean_squared_error(spa_adata.uns['moranI'].loc[raw_shared_gene].I, imp_adata.uns['moranI'].loc[raw_shared_gene].I) for name, imp_adata in dict_adata.items()}\n",
    "\n",
    "print(\"Mean Squared Error\\nMoran's I:\\n\")\n",
    "print(\"\\n\".join([f\"\\tTrue vs {method}: {score:.6f}\" for method, score in moranIs.items()]))\n",
    "\n"
   ]
  },
  {
   "cell_type": "markdown",
   "metadata": {},
   "source": []
  }
 ],
 "metadata": {
  "kernelspec": {
   "display_name": "py39",
   "language": "python",
   "name": "python3"
  },
  "language_info": {
   "codemirror_mode": {
    "name": "ipython",
    "version": 3
   },
   "file_extension": ".py",
   "mimetype": "text/x-python",
   "name": "python",
   "nbconvert_exporter": "python",
   "pygments_lexer": "ipython3",
   "version": "3.9.15"
  },
  "orig_nbformat": 4,
  "vscode": {
   "interpreter": {
    "hash": "e8da81f65ceb90801c63ea0064300de9b9164522ea58b631889c934b5d41a013"
   }
  }
 },
 "nbformat": 4,
 "nbformat_minor": 2
}
