{
 "cells": [
  {
   "cell_type": "code",
   "execution_count": 1,
   "metadata": {},
   "outputs": [],
   "source": [
    "import anndata\n",
    "import torch\n",
    "import stPlus\n",
    "\n",
    "import squidpy as sq\n",
    "import numpy as np\n",
    "import scanpy as sc\n",
    "import pandas as pd\n",
    "\n",
    "from sklearn.model_selection import KFold\n",
    "from transpa.eval_util import calc_corr\n",
    "from transpa.util import expTransImp, leiden_cluster, compute_autocorr\n",
    "from benchmark import SpaGE_impute, Tangram_impute\n",
    "import warnings\n",
    "\n",
    "warnings.filterwarnings('ignore')\n",
    "\n",
    "seed = 10\n",
    "device = torch.device(\"cuda:1\") if torch.cuda.is_available() else torch.device(\"cpu\")"
   ]
  },
  {
   "cell_type": "code",
   "execution_count": 2,
   "metadata": {},
   "outputs": [],
   "source": [
    "spa_adata = sc.read_h5ad(\"../../data/ST/seqfish/seqfish_data.h5ad\")\n",
    "scrna_adata = sc.read_h5ad(\"../../data/scRNAseq/seqfish/scRNAseq_seqfish.h5ad\")\n",
    "classes, ct_list = leiden_cluster(scrna_adata)\n",
    "cls_key = 'leiden'\n",
    "sc.pp.normalize_total(spa_adata)\n",
    "sc.pp.normalize_total(scrna_adata)\n",
    "sc.pp.log1p(spa_adata)\n",
    "sc.pp.log1p(scrna_adata)\n",
    "\n",
    "var_name = scrna_adata.var_names.values.copy()\n",
    "var_name[np.argmax((scrna_adata.var_names == \"Prkcdbp\"))] = \"Cavin3\"\n",
    "scrna_adata.var_names = var_name\n",
    "\n",
    "scrna_adata.obs[cls_key] = classes"
   ]
  },
  {
   "cell_type": "code",
   "execution_count": 3,
   "metadata": {},
   "outputs": [
    {
     "data": {
      "text/plain": [
       "((57536, 351), (32844, 29452), (351,))"
      ]
     },
     "execution_count": 3,
     "metadata": {},
     "output_type": "execute_result"
    }
   ],
   "source": [
    "raw_spatial_df  = pd.DataFrame(spa_adata.X.toarray(), columns=spa_adata.var_names)\n",
    "raw_spatial_df.to_csv('../../output/seqfish_raw.csv')\n",
    "raw_scrna_df    = pd.DataFrame(scrna_adata.X.toarray(), columns=scrna_adata.var_names).astype(pd.SparseDtype(\"float32\", 0))\n",
    "raw_shared_gene = np.intersect1d(raw_spatial_df.columns, raw_scrna_df.columns)\n",
    "raw_spatial_df.shape, raw_scrna_df.shape, raw_shared_gene.shape,"
   ]
  },
  {
   "cell_type": "code",
   "execution_count": 4,
   "metadata": {},
   "outputs": [],
   "source": [
    "spa_adata.obsm['spatial'] = np.hstack([spa_adata.obs.x_global_affine.values.reshape(-1,1), spa_adata.obs.y_global_affine.values.reshape(-1,1)])\n",
    "np.save('../../output/seqfish_locations.npy', spa_adata.obsm['spatial'])\n",
    "sq.gr.spatial_neighbors(spa_adata)\n"
   ]
  },
  {
   "cell_type": "code",
   "execution_count": 5,
   "metadata": {},
   "outputs": [
    {
     "name": "stdout",
     "output_type": "stream",
     "text": [
      "\n",
      "===== Fold 1 =====\n",
      "Number of train genes: 280, Number of test genes: 71\n"
     ]
    },
    {
     "name": "stderr",
     "output_type": "stream",
     "text": [
      "[TransImp] Epoch: 1000/1000, loss: 0.847425, (IMP) 0.844075, (SPA) 1.0 x 0.003350: 100%|██████████| 1000/1000 [00:42<00:00, 23.55it/s]\n"
     ]
    },
    {
     "name": "stdout",
     "output_type": "stream",
     "text": [
      "fold 0, median correlation: 0.18080570627837816 (TransImpSpa)\n"
     ]
    },
    {
     "name": "stderr",
     "output_type": "stream",
     "text": [
      "[TransImp] Epoch: 1000/1000, loss: 0.902676, (IMP) 0.902676, (SPA) 1.0 x 0.000000: 100%|██████████| 1000/1000 [00:15<00:00, 65.04it/s]\n"
     ]
    },
    {
     "name": "stdout",
     "output_type": "stream",
     "text": [
      "fold 0, median correlation: 0.17367597002967328 (TransImpCls)\n"
     ]
    },
    {
     "name": "stderr",
     "output_type": "stream",
     "text": [
      "[TransImp] Epoch: 1000/1000, loss: 0.805868, (IMP) 0.805868, (SPA) 1.0 x 0.000000: 100%|██████████| 1000/1000 [00:20<00:00, 49.95it/s]\n"
     ]
    },
    {
     "name": "stdout",
     "output_type": "stream",
     "text": [
      "fold 0, median correlation: 0.18306017351851267 (TransImp)\n"
     ]
    },
    {
     "name": "stderr",
     "output_type": "stream",
     "text": [
      "[TransImp] Epoch: 1000/1000, loss: 0.913085, (IMP) 0.908033, (SPA) 1.0 x 0.005052: 100%|██████████| 1000/1000 [00:41<00:00, 24.25it/s]\n"
     ]
    },
    {
     "name": "stdout",
     "output_type": "stream",
     "text": [
      "fold 0, median correlation: 0.17034470761801615 (TransImpClsSpa)\n",
      "\t\t\t0.13058364246942666 (stPlus)\n",
      "\t\t\t0.10781539544899034 (spaGE)\n"
     ]
    },
    {
     "name": "stderr",
     "output_type": "stream",
     "text": [
      "INFO:root:280 training genes are saved in `uns``training_genes` of both single cell and spatial Anndatas.\n",
      "INFO:root:280 overlapped genes are saved in `uns``overlap_genes` of both single cell and spatial Anndatas.\n",
      "INFO:root:uniform based density prior is calculated and saved in `obs``uniform_density` of the spatial Anndata.\n",
      "INFO:root:rna count based density prior is calculated and saved in `obs``rna_count_based_density` of the spatial Anndata.\n",
      "INFO:root:Allocate tensors for mapping.\n",
      "INFO:root:Begin training with 280 genes and rna_count_based density_prior in clusters mode...\n",
      "INFO:root:Printing scores every 100 epochs.\n"
     ]
    },
    {
     "name": "stdout",
     "output_type": "stream",
     "text": [
      "Score: 0.383, KL reg: 0.062\n",
      "Score: 0.568, KL reg: 0.001\n",
      "Score: 0.570, KL reg: 0.001\n",
      "Score: 0.570, KL reg: 0.001\n",
      "Score: 0.570, KL reg: 0.001\n",
      "Score: 0.570, KL reg: 0.001\n",
      "Score: 0.570, KL reg: 0.001\n",
      "Score: 0.570, KL reg: 0.001\n",
      "Score: 0.570, KL reg: 0.001\n",
      "Score: 0.570, KL reg: 0.001\n"
     ]
    },
    {
     "name": "stderr",
     "output_type": "stream",
     "text": [
      "INFO:root:Saving results..\n"
     ]
    },
    {
     "name": "stdout",
     "output_type": "stream",
     "text": [
      "\t\t\t0.18467681550712478 (Tangram)\n",
      "\n",
      "===== Fold 2 =====\n",
      "Number of train genes: 281, Number of test genes: 70\n"
     ]
    },
    {
     "name": "stderr",
     "output_type": "stream",
     "text": [
      "[TransImp] Epoch: 1000/1000, loss: 0.858401, (IMP) 0.855613, (SPA) 1.0 x 0.002788: 100%|██████████| 1000/1000 [00:40<00:00, 24.49it/s]\n"
     ]
    },
    {
     "name": "stdout",
     "output_type": "stream",
     "text": [
      "fold 1, median correlation: 0.20823262726053696 (TransImpSpa)\n"
     ]
    },
    {
     "name": "stderr",
     "output_type": "stream",
     "text": [
      "[TransImp] Epoch: 1000/1000, loss: 0.916604, (IMP) 0.916604, (SPA) 1.0 x 0.000000: 100%|██████████| 1000/1000 [00:12<00:00, 77.22it/s]\n"
     ]
    },
    {
     "name": "stdout",
     "output_type": "stream",
     "text": [
      "fold 1, median correlation: 0.21322974189758756 (TransImpCls)\n"
     ]
    },
    {
     "name": "stderr",
     "output_type": "stream",
     "text": [
      "[TransImp] Epoch: 1000/1000, loss: 0.817290, (IMP) 0.817290, (SPA) 1.0 x 0.000000: 100%|██████████| 1000/1000 [00:16<00:00, 58.91it/s]\n"
     ]
    },
    {
     "name": "stdout",
     "output_type": "stream",
     "text": [
      "fold 1, median correlation: 0.21576731773613872 (TransImp)\n"
     ]
    },
    {
     "name": "stderr",
     "output_type": "stream",
     "text": [
      "[TransImp] Epoch: 1000/1000, loss: 0.926989, (IMP) 0.921963, (SPA) 1.0 x 0.005026: 100%|██████████| 1000/1000 [00:36<00:00, 27.70it/s]\n"
     ]
    },
    {
     "name": "stdout",
     "output_type": "stream",
     "text": [
      "fold 1, median correlation: 0.20518543235003572 (TransImpClsSpa)\n",
      "\t\t\t0.1705960399232355 (stPlus)\n",
      "\t\t\t0.15278006984415318 (spaGE)\n"
     ]
    },
    {
     "name": "stderr",
     "output_type": "stream",
     "text": [
      "INFO:root:281 training genes are saved in `uns``training_genes` of both single cell and spatial Anndatas.\n",
      "INFO:root:281 overlapped genes are saved in `uns``overlap_genes` of both single cell and spatial Anndatas.\n",
      "INFO:root:uniform based density prior is calculated and saved in `obs``uniform_density` of the spatial Anndata.\n",
      "INFO:root:rna count based density prior is calculated and saved in `obs``rna_count_based_density` of the spatial Anndata.\n",
      "INFO:root:Allocate tensors for mapping.\n",
      "INFO:root:Begin training with 281 genes and rna_count_based density_prior in clusters mode...\n",
      "INFO:root:Printing scores every 100 epochs.\n"
     ]
    },
    {
     "name": "stdout",
     "output_type": "stream",
     "text": [
      "Score: 0.393, KL reg: 0.063\n",
      "Score: 0.566, KL reg: 0.001\n",
      "Score: 0.568, KL reg: 0.001\n",
      "Score: 0.568, KL reg: 0.001\n",
      "Score: 0.568, KL reg: 0.001\n",
      "Score: 0.568, KL reg: 0.001\n",
      "Score: 0.568, KL reg: 0.001\n",
      "Score: 0.569, KL reg: 0.001\n",
      "Score: 0.569, KL reg: 0.001\n",
      "Score: 0.569, KL reg: 0.001\n"
     ]
    },
    {
     "name": "stderr",
     "output_type": "stream",
     "text": [
      "INFO:root:Saving results..\n"
     ]
    },
    {
     "name": "stdout",
     "output_type": "stream",
     "text": [
      "\t\t\t0.22339779836725637 (Tangram)\n",
      "\n",
      "===== Fold 3 =====\n",
      "Number of train genes: 281, Number of test genes: 70\n"
     ]
    },
    {
     "name": "stderr",
     "output_type": "stream",
     "text": [
      "[TransImp] Epoch: 1000/1000, loss: 0.872519, (IMP) 0.869531, (SPA) 1.0 x 0.002988: 100%|██████████| 1000/1000 [00:40<00:00, 24.57it/s]\n"
     ]
    },
    {
     "name": "stdout",
     "output_type": "stream",
     "text": [
      "fold 2, median correlation: 0.23272647058933282 (TransImpSpa)\n"
     ]
    },
    {
     "name": "stderr",
     "output_type": "stream",
     "text": [
      "[TransImp] Epoch: 1000/1000, loss: 0.932181, (IMP) 0.932181, (SPA) 1.0 x 0.000000: 100%|██████████| 1000/1000 [00:12<00:00, 78.97it/s]\n"
     ]
    },
    {
     "name": "stdout",
     "output_type": "stream",
     "text": [
      "fold 2, median correlation: 0.24174851829847532 (TransImpCls)\n"
     ]
    },
    {
     "name": "stderr",
     "output_type": "stream",
     "text": [
      "[TransImp] Epoch: 1000/1000, loss: 0.836944, (IMP) 0.836944, (SPA) 1.0 x 0.000000: 100%|██████████| 1000/1000 [00:17<00:00, 57.80it/s]\n"
     ]
    },
    {
     "name": "stdout",
     "output_type": "stream",
     "text": [
      "fold 2, median correlation: 0.24869675685527717 (TransImp)\n"
     ]
    },
    {
     "name": "stderr",
     "output_type": "stream",
     "text": [
      "[TransImp] Epoch: 1000/1000, loss: 0.942761, (IMP) 0.937593, (SPA) 1.0 x 0.005168: 100%|██████████| 1000/1000 [00:36<00:00, 27.35it/s]\n"
     ]
    },
    {
     "name": "stdout",
     "output_type": "stream",
     "text": [
      "fold 2, median correlation: 0.22653229916226403 (TransImpClsSpa)\n",
      "\t\t\t0.21195457113122587 (stPlus)\n",
      "\t\t\t0.1867355532571227 (spaGE)\n"
     ]
    },
    {
     "name": "stderr",
     "output_type": "stream",
     "text": [
      "INFO:root:281 training genes are saved in `uns``training_genes` of both single cell and spatial Anndatas.\n",
      "INFO:root:281 overlapped genes are saved in `uns``overlap_genes` of both single cell and spatial Anndatas.\n",
      "INFO:root:uniform based density prior is calculated and saved in `obs``uniform_density` of the spatial Anndata.\n",
      "INFO:root:rna count based density prior is calculated and saved in `obs``rna_count_based_density` of the spatial Anndata.\n",
      "INFO:root:Allocate tensors for mapping.\n",
      "INFO:root:Begin training with 281 genes and rna_count_based density_prior in clusters mode...\n",
      "INFO:root:Printing scores every 100 epochs.\n"
     ]
    },
    {
     "name": "stdout",
     "output_type": "stream",
     "text": [
      "Score: 0.379, KL reg: 0.063\n",
      "Score: 0.559, KL reg: 0.001\n",
      "Score: 0.560, KL reg: 0.001\n",
      "Score: 0.561, KL reg: 0.001\n",
      "Score: 0.561, KL reg: 0.001\n",
      "Score: 0.561, KL reg: 0.001\n",
      "Score: 0.561, KL reg: 0.001\n",
      "Score: 0.561, KL reg: 0.001\n",
      "Score: 0.561, KL reg: 0.001\n",
      "Score: 0.561, KL reg: 0.001\n"
     ]
    },
    {
     "name": "stderr",
     "output_type": "stream",
     "text": [
      "INFO:root:Saving results..\n"
     ]
    },
    {
     "name": "stdout",
     "output_type": "stream",
     "text": [
      "\t\t\t0.24052117073729795 (Tangram)\n",
      "\n",
      "===== Fold 4 =====\n",
      "Number of train genes: 281, Number of test genes: 70\n"
     ]
    },
    {
     "name": "stderr",
     "output_type": "stream",
     "text": [
      "[TransImp] Epoch: 1000/1000, loss: 0.862432, (IMP) 0.859247, (SPA) 1.0 x 0.003184: 100%|██████████| 1000/1000 [00:40<00:00, 24.50it/s]\n"
     ]
    },
    {
     "name": "stdout",
     "output_type": "stream",
     "text": [
      "fold 3, median correlation: 0.21398465707465497 (TransImpSpa)\n"
     ]
    },
    {
     "name": "stderr",
     "output_type": "stream",
     "text": [
      "[TransImp] Epoch: 1000/1000, loss: 0.913874, (IMP) 0.913874, (SPA) 1.0 x 0.000000: 100%|██████████| 1000/1000 [00:12<00:00, 78.52it/s]\n"
     ]
    },
    {
     "name": "stdout",
     "output_type": "stream",
     "text": [
      "fold 3, median correlation: 0.20390489464765393 (TransImpCls)\n"
     ]
    },
    {
     "name": "stderr",
     "output_type": "stream",
     "text": [
      "[TransImp] Epoch: 1000/1000, loss: 0.821982, (IMP) 0.821982, (SPA) 1.0 x 0.000000: 100%|██████████| 1000/1000 [00:17<00:00, 57.77it/s]\n"
     ]
    },
    {
     "name": "stdout",
     "output_type": "stream",
     "text": [
      "fold 3, median correlation: 0.2243135007735513 (TransImp)\n"
     ]
    },
    {
     "name": "stderr",
     "output_type": "stream",
     "text": [
      "[TransImp] Epoch: 1000/1000, loss: 0.924603, (IMP) 0.919673, (SPA) 1.0 x 0.004930: 100%|██████████| 1000/1000 [00:36<00:00, 27.68it/s]\n"
     ]
    },
    {
     "name": "stdout",
     "output_type": "stream",
     "text": [
      "fold 3, median correlation: 0.2016345485748509 (TransImpClsSpa)\n",
      "\t\t\t0.15835510257683405 (stPlus)\n",
      "\t\t\t0.13586503355193041 (spaGE)\n"
     ]
    },
    {
     "name": "stderr",
     "output_type": "stream",
     "text": [
      "INFO:root:281 training genes are saved in `uns``training_genes` of both single cell and spatial Anndatas.\n",
      "INFO:root:281 overlapped genes are saved in `uns``overlap_genes` of both single cell and spatial Anndatas.\n",
      "INFO:root:uniform based density prior is calculated and saved in `obs``uniform_density` of the spatial Anndata.\n",
      "INFO:root:rna count based density prior is calculated and saved in `obs``rna_count_based_density` of the spatial Anndata.\n",
      "INFO:root:Allocate tensors for mapping.\n",
      "INFO:root:Begin training with 281 genes and rna_count_based density_prior in clusters mode...\n",
      "INFO:root:Printing scores every 100 epochs.\n"
     ]
    },
    {
     "name": "stdout",
     "output_type": "stream",
     "text": [
      "Score: 0.382, KL reg: 0.063\n",
      "Score: 0.562, KL reg: 0.001\n",
      "Score: 0.563, KL reg: 0.001\n",
      "Score: 0.564, KL reg: 0.001\n",
      "Score: 0.564, KL reg: 0.001\n",
      "Score: 0.564, KL reg: 0.001\n",
      "Score: 0.564, KL reg: 0.001\n",
      "Score: 0.564, KL reg: 0.001\n",
      "Score: 0.564, KL reg: 0.001\n",
      "Score: 0.564, KL reg: 0.001\n"
     ]
    },
    {
     "name": "stderr",
     "output_type": "stream",
     "text": [
      "INFO:root:Saving results..\n"
     ]
    },
    {
     "name": "stdout",
     "output_type": "stream",
     "text": [
      "\t\t\t0.2161361202777044 (Tangram)\n",
      "\n",
      "===== Fold 5 =====\n",
      "Number of train genes: 281, Number of test genes: 70\n"
     ]
    },
    {
     "name": "stderr",
     "output_type": "stream",
     "text": [
      "[TransImp] Epoch: 1000/1000, loss: 0.872249, (IMP) 0.868744, (SPA) 1.0 x 0.003506: 100%|██████████| 1000/1000 [00:40<00:00, 24.55it/s]\n"
     ]
    },
    {
     "name": "stdout",
     "output_type": "stream",
     "text": [
      "fold 4, median correlation: 0.2305980252076621 (TransImpSpa)\n"
     ]
    },
    {
     "name": "stderr",
     "output_type": "stream",
     "text": [
      "[TransImp] Epoch: 1000/1000, loss: 0.921631, (IMP) 0.921631, (SPA) 1.0 x 0.000000: 100%|██████████| 1000/1000 [00:13<00:00, 76.57it/s]\n"
     ]
    },
    {
     "name": "stdout",
     "output_type": "stream",
     "text": [
      "fold 4, median correlation: 0.23718580644416634 (TransImpCls)\n"
     ]
    },
    {
     "name": "stderr",
     "output_type": "stream",
     "text": [
      "[TransImp] Epoch: 1000/1000, loss: 0.834083, (IMP) 0.834083, (SPA) 1.0 x 0.000000: 100%|██████████| 1000/1000 [00:17<00:00, 58.33it/s]\n"
     ]
    },
    {
     "name": "stdout",
     "output_type": "stream",
     "text": [
      "fold 4, median correlation: 0.24124146615120312 (TransImp)\n"
     ]
    },
    {
     "name": "stderr",
     "output_type": "stream",
     "text": [
      "[TransImp] Epoch: 1000/1000, loss: 0.932727, (IMP) 0.927221, (SPA) 1.0 x 0.005507: 100%|██████████| 1000/1000 [00:35<00:00, 28.11it/s]\n"
     ]
    },
    {
     "name": "stdout",
     "output_type": "stream",
     "text": [
      "fold 4, median correlation: 0.22591238449440773 (TransImpClsSpa)\n",
      "\t\t\t0.19697952322394793 (stPlus)\n",
      "\t\t\t0.18588047562777527 (spaGE)\n"
     ]
    },
    {
     "name": "stderr",
     "output_type": "stream",
     "text": [
      "INFO:root:281 training genes are saved in `uns``training_genes` of both single cell and spatial Anndatas.\n",
      "INFO:root:281 overlapped genes are saved in `uns``overlap_genes` of both single cell and spatial Anndatas.\n",
      "INFO:root:uniform based density prior is calculated and saved in `obs``uniform_density` of the spatial Anndata.\n",
      "INFO:root:rna count based density prior is calculated and saved in `obs``rna_count_based_density` of the spatial Anndata.\n",
      "INFO:root:Allocate tensors for mapping.\n",
      "INFO:root:Begin training with 281 genes and rna_count_based density_prior in clusters mode...\n",
      "INFO:root:Printing scores every 100 epochs.\n"
     ]
    },
    {
     "name": "stdout",
     "output_type": "stream",
     "text": [
      "Score: 0.380, KL reg: 0.063\n",
      "Score: 0.561, KL reg: 0.001\n",
      "Score: 0.562, KL reg: 0.001\n",
      "Score: 0.563, KL reg: 0.001\n",
      "Score: 0.563, KL reg: 0.001\n",
      "Score: 0.563, KL reg: 0.001\n",
      "Score: 0.563, KL reg: 0.001\n",
      "Score: 0.563, KL reg: 0.001\n",
      "Score: 0.563, KL reg: 0.001\n",
      "Score: 0.563, KL reg: 0.001\n"
     ]
    },
    {
     "name": "stderr",
     "output_type": "stream",
     "text": [
      "INFO:root:Saving results..\n"
     ]
    },
    {
     "name": "stdout",
     "output_type": "stream",
     "text": [
      "\t\t\t0.23447820100127753 (Tangram)\n",
      "0.21232646691150722 (TransImpSpa) 0.21878445985173453 (TransImp) 0.20985943358857923 (TransImpCls) 0.20297103645067224 (TransImpClsSpa) 0.16653529498413613 (stPlus) 0.1514051289362372 (spaGE) 0.2190322064989254 (Tangram)\n"
     ]
    }
   ],
   "source": [
    "kf = KFold(n_splits=5, shuffle=True, random_state=0)\n",
    "kf.get_n_splits(raw_shared_gene)\n",
    "\n",
    "df_transImpSpa = pd.DataFrame(np.zeros((spa_adata.n_obs, len(raw_shared_gene))), columns=raw_shared_gene)\n",
    "df_transImpCls = pd.DataFrame(np.zeros((spa_adata.n_obs, len(raw_shared_gene))), columns=raw_shared_gene)\n",
    "df_transImpClsSpa = pd.DataFrame(np.zeros((spa_adata.n_obs, len(raw_shared_gene))), columns=raw_shared_gene)\n",
    "df_transImp = pd.DataFrame(np.zeros((spa_adata.n_obs, len(raw_shared_gene))), columns=raw_shared_gene)\n",
    "df_stplus_res = pd.DataFrame(np.zeros((spa_adata.n_obs, len(raw_shared_gene))), columns=raw_shared_gene)\n",
    "df_spaGE_res = pd.DataFrame(np.zeros((spa_adata.n_obs, len(raw_shared_gene))), columns=raw_shared_gene)\n",
    "df_tangram_res = pd.DataFrame(np.zeros((spa_adata.n_obs, len(raw_shared_gene))), columns=raw_shared_gene)\n",
    "\n",
    "for idx, (train_ind, test_ind) in enumerate(kf.split(raw_shared_gene)):    \n",
    "    print(f\"\\n===== Fold {idx+1} =====\\nNumber of train genes: {len(train_ind)}, Number of test genes: {len(test_ind)}\")\n",
    "    train_gene = raw_shared_gene[train_ind]\n",
    "    test_gene  = raw_shared_gene[test_ind]\n",
    "    \n",
    "    test_spatial_df = raw_spatial_df[test_gene]\n",
    "    spatial_df = raw_spatial_df[train_gene]\n",
    "    scrna_df   = raw_scrna_df\n",
    "\n",
    "    df_transImpSpa[test_gene] = expTransImp(\n",
    "            df_ref=raw_scrna_df,\n",
    "            df_tgt=raw_spatial_df,\n",
    "            train_gene=train_gene,\n",
    "            test_gene=test_gene,\n",
    "            signature_mode='cell',\n",
    "            mapping_mode='lowrank',\n",
    "            mapping_lowdim=128,\n",
    "            spa_adj=spa_adata.obsp['spatial_connectivities'].tocoo(),\n",
    "            seed=seed,\n",
    "            device=device)\n",
    "\n",
    "    corr_transImp_res = calc_corr(raw_spatial_df, df_transImpSpa, test_gene)\n",
    "    print(f'fold {idx}, median correlation: {np.median(corr_transImp_res)} (TransImpSpa)')\n",
    "\n",
    "    df_transImpCls[test_gene] = expTransImp(\n",
    "            df_ref=raw_scrna_df,\n",
    "            df_tgt=raw_spatial_df,\n",
    "            train_gene=train_gene,\n",
    "            test_gene=test_gene,\n",
    "            ct_list=ct_list,\n",
    "            classes=classes,\n",
    "            signature_mode='cluster',\n",
    "            mapping_mode='full',\n",
    "            seed=seed,\n",
    "            device=device)\n",
    "\n",
    "    corr_transImp_res = calc_corr(raw_spatial_df, df_transImpCls, test_gene)\n",
    "    print(f'fold {idx}, median correlation: {np.median(corr_transImp_res)} (TransImpCls)')\n",
    "\n",
    "    df_transImp[test_gene] = expTransImp(\n",
    "            df_ref=raw_scrna_df,\n",
    "            df_tgt=raw_spatial_df,\n",
    "            train_gene=train_gene,\n",
    "            test_gene=test_gene,\n",
    "            signature_mode='cell',\n",
    "            mapping_mode='lowrank',\n",
    "            mapping_lowdim=128,\n",
    "            seed=seed,\n",
    "            device=device)\n",
    "\n",
    "    corr_transImp_res = calc_corr(raw_spatial_df, df_transImp, test_gene)\n",
    "    print(f'fold {idx}, median correlation: {np.median(corr_transImp_res)} (TransImp)')\n",
    "\n",
    "    df_transImpClsSpa[test_gene] = expTransImp(\n",
    "            df_ref=raw_scrna_df,\n",
    "            df_tgt=raw_spatial_df,\n",
    "            train_gene=train_gene,\n",
    "            test_gene=test_gene,\n",
    "            ct_list=ct_list,\n",
    "            classes=classes,\n",
    "            spa_adj=spa_adata.obsp['spatial_connectivities'].tocoo(),\n",
    "            signature_mode='cluster',\n",
    "            mapping_mode='full',\n",
    "            wt_spa=1.0,\n",
    "            seed=seed,\n",
    "            device=device)\n",
    "\n",
    "    corr_transImp_res = calc_corr(raw_spatial_df, df_transImpClsSpa, test_gene)\n",
    "    print(f'fold {idx}, median correlation: {np.median(corr_transImp_res)} (TransImpClsSpa)')\n",
    "\n",
    "    df_stplus_res[test_gene] = stPlus.stPlus(spatial_df, scrna_df, test_gene, \"tmp_ug\", verbose=False, random_seed=seed, device=device)\n",
    "    corr_res_stplus = calc_corr(raw_spatial_df, df_stplus_res, test_gene)\n",
    "    print(f'\\t\\t\\t{np.median(corr_res_stplus)} (stPlus)')\n",
    "\n",
    "    df_spaGE_res[test_gene]  = SpaGE_impute(scrna_df.sparse.to_dense(), spatial_df, train_gene, test_gene)\n",
    "    corr_res_spaGE = calc_corr(raw_spatial_df, df_spaGE_res, test_gene)\n",
    "    print(f'\\t\\t\\t{np.median(corr_res_spaGE)} (spaGE)')\n",
    "\n",
    "    df_tangram_res[test_gene] = Tangram_impute(scrna_adata, spa_adata, train_gene, test_gene, device, cls_key)\n",
    "    corr_res_tangram = calc_corr(raw_spatial_df, df_tangram_res, test_gene)\n",
    "    print(f'\\t\\t\\t{np.median(corr_res_tangram)} (Tangram)')\n",
    "\n",
    "corr_transImpSpa_res = calc_corr(raw_spatial_df, df_transImpSpa, raw_shared_gene)\n",
    "corr_transImp_res = calc_corr(raw_spatial_df, df_transImp, raw_shared_gene)\n",
    "corr_transImpCls_res = calc_corr(raw_spatial_df, df_transImpCls, raw_shared_gene)\n",
    "corr_transImpClsSpa_res = calc_corr(raw_spatial_df, df_transImpClsSpa, raw_shared_gene)\n",
    "corr_res_stplus = calc_corr(raw_spatial_df, df_stplus_res, raw_shared_gene)\n",
    "corr_res_spaGE = calc_corr(raw_spatial_df, df_spaGE_res, raw_shared_gene)\n",
    "corr_res_tangram = calc_corr(raw_spatial_df, df_tangram_res, raw_shared_gene)   \n",
    "\n",
    "print(np.median(corr_transImpSpa_res), \"(TransImpSpa)\", \n",
    "      np.median(corr_transImp_res), \"(TransImp)\", \n",
    "      np.median(corr_transImpCls_res), \"(TransImpCls)\", \n",
    "      np.median(corr_transImpClsSpa_res), \"(TransImpClsSpa)\", \n",
    "      np.median(corr_res_stplus), \"(stPlus)\", \n",
    "      np.median(corr_res_spaGE), \"(spaGE)\",\n",
    "      np.median(corr_res_tangram), \"(Tangram)\"\n",
    "      )"
   ]
  },
  {
   "cell_type": "code",
   "execution_count": 6,
   "metadata": {},
   "outputs": [],
   "source": [
    "df_transImp.to_csv('../../output/seqFISH_SingleCell_transImpute.csv')\n",
    "df_transImpSpa.to_csv('../../output/seqFISH_SingleCell_transImpSpa.csv')\n",
    "df_transImpCls.to_csv('../../output/seqFISH_SingleCell_transImpCls.csv')\n",
    "df_transImpClsSpa.to_csv('../../output/seqFISH_SingleCell_transImpClsSpa.csv')\n",
    "df_spaGE_res.to_csv('../../output/seqFISH_SingleCell_spaGE.csv')\n",
    "df_stplus_res.to_csv('../../output/seqFISH_SingleCell_stPlus.csv')\n",
    "df_tangram_res.to_csv('../../output/seqFISH_SingleCell_Tangram.csv')\n"
   ]
  },
  {
   "cell_type": "code",
   "execution_count": 9,
   "metadata": {},
   "outputs": [],
   "source": [
    "dict_df = {\"TransImp\":df_transImp, \n",
    "           \"TransImpSpa\":df_transImpSpa, \n",
    "           \"TransImpCls\":df_transImpCls,\n",
    "           \"TransImpClsSpa\":df_transImpClsSpa,\n",
    "           \"spaGE\": df_spaGE_res, \"stPlus\": df_stplus_res,\n",
    "            \"Tangram\":df_tangram_res\n",
    "            }\n",
    "spa_adata.X = spa_adata.X.toarray()\n",
    "sq.gr.spatial_autocorr(\n",
    "    spa_adata,\n",
    "    n_jobs=10,\n",
    ")\n",
    "sq.gr.spatial_autocorr(\n",
    "    spa_adata,\n",
    "    n_jobs=10,\n",
    "    mode='geary',\n",
    ")\n",
    "\n",
    "dict_adata = {name: compute_autocorr(spa_adata.copy(), df) for name, df in dict_df.items()}\n"
   ]
  },
  {
   "cell_type": "code",
   "execution_count": 10,
   "metadata": {},
   "outputs": [
    {
     "name": "stdout",
     "output_type": "stream",
     "text": [
      "Mean Squared Error\n",
      "Moran's I:\n",
      "\n",
      "\tTrue vs TransImp: 0.057495\n",
      "\tTrue vs TransImpSpa: 0.009693\n",
      "\tTrue vs TransImpCls: 0.049904\n",
      "\tTrue vs TransImpClsSpa: 0.007556\n",
      "\tTrue vs spaGE: 0.034764\n",
      "\tTrue vs stPlus: 0.051680\n",
      "\tTrue vs Tangram: 0.037711\n",
      "Geary's C:\n",
      "\n",
      "\tTrue vs TransImp: 0.056753\n",
      "\tTrue vs TransImpSpa: 0.009619\n",
      "\tTrue vs TransImpCls: 0.049218\n",
      "\tTrue vs TransImpClsSpa: 0.007508\n",
      "\tTrue vs spaGE: 0.034072\n",
      "\tTrue vs stPlus: 0.051366\n",
      "\tTrue vs Tangram: 0.037165\n"
     ]
    }
   ],
   "source": [
    "from sklearn.metrics import mean_squared_error\n",
    "moranIs = {name:mean_squared_error(spa_adata.uns['moranI'].loc[raw_shared_gene].I, imp_adata.uns['moranI'].loc[raw_shared_gene].I) for name, imp_adata in dict_adata.items()}\n",
    "gearyCs = {name:mean_squared_error(spa_adata.uns['gearyC'].loc[raw_shared_gene].C, imp_adata.uns['gearyC'].loc[raw_shared_gene].C) for name, imp_adata in dict_adata.items()}\n",
    "\n",
    "print(\"Mean Squared Error\\nMoran's I:\\n\")\n",
    "print(\"\\n\".join([f\"\\tTrue vs {method}: {score:.6f}\" for method, score in moranIs.items()]))\n",
    "print(\"Geary's C:\\n\")\n",
    "print(\"\\n\".join([f\"\\tTrue vs {method}: {score:.6f}\" for method, score in gearyCs.items()]))\n"
   ]
  },
  {
   "cell_type": "markdown",
   "metadata": {},
   "source": []
  }
 ],
 "metadata": {
  "interpreter": {
   "hash": "6882e18cf33c55392f753cb1e86fe7d6ba9af380909deeca032ff41f78588c0c"
  },
  "kernelspec": {
   "display_name": "Python 3.7.10 64-bit (conda)",
   "language": "python",
   "name": "python3"
  },
  "language_info": {
   "codemirror_mode": {
    "name": "ipython",
    "version": 3
   },
   "file_extension": ".py",
   "mimetype": "text/x-python",
   "name": "python",
   "nbconvert_exporter": "python",
   "pygments_lexer": "ipython3",
   "version": "3.7.12"
  },
  "orig_nbformat": 4
 },
 "nbformat": 4,
 "nbformat_minor": 2
}
