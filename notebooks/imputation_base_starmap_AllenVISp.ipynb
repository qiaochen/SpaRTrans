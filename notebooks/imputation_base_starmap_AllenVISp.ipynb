{
 "cells": [
  {
   "cell_type": "code",
   "execution_count": 1,
   "metadata": {},
   "outputs": [],
   "source": [
    "import anndata\n",
    "import torch\n",
    "import stPlus\n",
    "\n",
    "import squidpy as sq\n",
    "import numpy as np\n",
    "import scanpy as sc\n",
    "import pandas as pd\n",
    "\n",
    "from sklearn.model_selection import KFold\n",
    "from transpa.eval_util import calc_corr\n",
    "from transpa.util import expTransImp, leiden_cluster, compute_autocorr\n",
    "from benchmark import SpaGE_impute, Tangram_impute\n",
    "import warnings\n",
    "\n",
    "warnings.filterwarnings('ignore')\n",
    "\n",
    "seed = 10\n",
    "device = torch.device(\"cuda:0\") if torch.cuda.is_available() else torch.device(\"cpu\")"
   ]
  },
  {
   "cell_type": "code",
   "execution_count": 2,
   "metadata": {},
   "outputs": [
    {
     "data": {
      "text/plain": [
       "(AnnData object with n_obs × n_vars = 14249 × 34617\n",
       "     obs: 'sample_name', 'sample_id', 'sample_type', 'organism', 'donor', 'sex', 'age_days', 'eye_condition', 'genotype', 'driver_lines', 'reporter_lines', 'brain_hemisphere', 'brain_region', 'brain_subregion', 'injection_label_direction', 'injection_primary', 'injection_secondary', 'injection_tract', 'injection_material', 'injection_exclusion_criterion', 'facs_date', 'facs_container', 'facs_sort_criteria', 'rna_amplification_set', 'library_prep_set', 'library_prep_avg_size_bp', 'seq_name', 'seq_tube', 'seq_batch', 'total_reads', 'percent_exon_reads', 'percent_intron_reads', 'percent_intergenic_reads', 'percent_rrna_reads', 'percent_mt_exon_reads', 'percent_reads_unique', 'percent_synth_reads', 'percent_ecoli_reads', 'percent_aligned_reads_total', 'complexity_cg', 'genes_detected_cpm_criterion', 'genes_detected_fpkm_criterion', 'tdt_cpm', 'gfp_cpm', 'class', 'subclass', 'cluster', 'confusion_score', 'cluster_correlation', 'core_intermediate_call', 'leiden'\n",
       "     var: 'n_cells'\n",
       "     uns: 'log1p',\n",
       " AnnData object with n_obs × n_vars = 1549 × 1020\n",
       "     obs: 'X', 'Y'\n",
       "     uns: 'log1p')"
      ]
     },
     "execution_count": 2,
     "metadata": {},
     "output_type": "execute_result"
    }
   ],
   "source": [
    "spa_counts = np.load('../../data/ST/Starmap/visual_1020/20180505_BY3_1kgenes/cell_barcode_count.npy')\n",
    "genes = pd.read_csv(\"../../data/ST/Starmap/visual_1020/20180505_BY3_1kgenes/genes.csv\", header=None).iloc[:,0]\n",
    "coordinates = pd.read_csv(\"../../data/ST/Starmap/visual_1020/20180505_BY3_1kgenes/centroids.tsv\", header=None, sep='\\t')\n",
    "\n",
    "spa_adata = anndata.AnnData(spa_counts)\n",
    "sc.pp.normalize_total(spa_adata)\n",
    "sc.pp.log1p(spa_adata)\n",
    "spa_adata.obs['X'] = coordinates.iloc[:, 0].values\n",
    "spa_adata.obs['Y'] = coordinates.iloc[:, 1].values\n",
    "spa_adata.var_names = genes\n",
    "\n",
    "VISp_adata = sc.read(\"../../data/scRNAseq/Allen_VISp/mouse_VISp_2018-06-14_exon-matrix.csv\").T\n",
    "genes = pd.read_csv(\"../../data/scRNAseq/Allen_VISp/mouse_VISp_2018-06-14_genes-rows.csv\", header=0,sep=',')\n",
    "VISp_meta = pd.read_csv(\"../../data/scRNAseq/Allen_VISp/mouse_VISp_2018-06-14_samples-columns.csv\", header=0,sep=',')\n",
    "VISp_adata.obs = VISp_meta\n",
    "VISp_adata.var_names = genes.gene_symbol\n",
    "\n",
    "sc.pp.filter_genes(VISp_adata, min_cells=10)\n",
    "VISp_adata = VISp_adata[(VISp_adata.obs['class'] != 'No Class') & (VISp_adata.obs['class'] != 'Low Quality')]\n",
    "classes, ct_list = leiden_cluster(VISp_adata)\n",
    "cls_key = 'leiden'\n",
    "VISp_adata.obs[cls_key] = classes\n",
    "sc.pp.normalize_total(VISp_adata)\n",
    "sc.pp.log1p(VISp_adata)\n",
    "\n",
    "VISp_adata, spa_adata\n"
   ]
  },
  {
   "cell_type": "code",
   "execution_count": 3,
   "metadata": {},
   "outputs": [
    {
     "data": {
      "text/plain": [
       "((1549, 1020), (14249, 34617), (994,))"
      ]
     },
     "execution_count": 3,
     "metadata": {},
     "output_type": "execute_result"
    }
   ],
   "source": [
    "raw_spatial_df  = pd.DataFrame(spa_adata.X, columns=spa_adata.var_names)\n",
    "raw_scrna_df    = pd.DataFrame(VISp_adata.X, columns=VISp_adata.var_names)\n",
    "\n",
    "raw_shared_gene = np.intersect1d(raw_spatial_df.columns, raw_scrna_df.columns)\n",
    "raw_spatial_df.to_csv('../../output/starmap_raw.csv')\n",
    "raw_spatial_df.shape, raw_scrna_df.shape, raw_shared_gene.shape"
   ]
  },
  {
   "cell_type": "code",
   "execution_count": 4,
   "metadata": {},
   "outputs": [],
   "source": [
    "spa_adata.obsm['spatial'] = np.hstack([spa_adata.obs.X.values.reshape(-1,1), spa_adata.obs.Y.values.reshape(-1,1)])\n",
    "np.save('../../output/starmap_locations.npy', spa_adata.obsm['spatial'])\n",
    "sq.gr.spatial_neighbors(spa_adata)"
   ]
  },
  {
   "cell_type": "code",
   "execution_count": 5,
   "metadata": {},
   "outputs": [
    {
     "name": "stdout",
     "output_type": "stream",
     "text": [
      "\n",
      "===== Fold 1 =====\n",
      "Number of train genes: 795, Number of test genes: 199\n"
     ]
    },
    {
     "name": "stderr",
     "output_type": "stream",
     "text": [
      "[TransImp] Epoch: 1000/1000, loss: 1.104294, (IMP) 1.102341, (SPA) 1.0 x 0.001953: 100%|██████████| 1000/1000 [00:04<00:00, 207.76it/s]\n"
     ]
    },
    {
     "name": "stdout",
     "output_type": "stream",
     "text": [
      "fold 0, median cosine similarity: 0.4031936824321747 (TransImpSpa)\n"
     ]
    },
    {
     "name": "stderr",
     "output_type": "stream",
     "text": [
      "[TransImp] Epoch: 1000/1000, loss: 1.111100, (IMP) 1.111100, (SPA) 1.0 x 0.000000: 100%|██████████| 1000/1000 [00:02<00:00, 471.81it/s]\n"
     ]
    },
    {
     "name": "stdout",
     "output_type": "stream",
     "text": [
      "fold 0, median cosine similarity: 0.3940880596637726 (TransImpCls)\n"
     ]
    },
    {
     "name": "stderr",
     "output_type": "stream",
     "text": [
      "[TransImp] Epoch: 1000/1000, loss: 1.067401, (IMP) 1.067401, (SPA) 1.0 x 0.000000: 100%|██████████| 1000/1000 [00:02<00:00, 361.19it/s]\n"
     ]
    },
    {
     "name": "stdout",
     "output_type": "stream",
     "text": [
      "fold 0, median cosine similarity: 0.3994934856891632 (TransImp)\n"
     ]
    },
    {
     "name": "stderr",
     "output_type": "stream",
     "text": [
      "[TransImp] Epoch: 1000/1000, loss: 1.117673, (IMP) 1.114801, (SPA) 1.0 x 0.002872: 100%|██████████| 1000/1000 [00:03<00:00, 282.62it/s]\n"
     ]
    },
    {
     "name": "stdout",
     "output_type": "stream",
     "text": [
      "fold 0, median cosine similarity: 0.39279550313949585 (TransImpClsSpa)\n",
      "fold 0, median cosine similarity: 0.34724132569726796 (stPlus)\n",
      "fold 0, median cosine similarity: 0.3405430571560363 (spaGE)\n"
     ]
    },
    {
     "name": "stderr",
     "output_type": "stream",
     "text": [
      "INFO:root:795 training genes are saved in `uns``training_genes` of both single cell and spatial Anndatas.\n",
      "INFO:root:795 overlapped genes are saved in `uns``overlap_genes` of both single cell and spatial Anndatas.\n",
      "INFO:root:uniform based density prior is calculated and saved in `obs``uniform_density` of the spatial Anndata.\n",
      "INFO:root:rna count based density prior is calculated and saved in `obs``rna_count_based_density` of the spatial Anndata.\n",
      "INFO:root:Allocate tensors for mapping.\n",
      "INFO:root:Begin training with 795 genes and rna_count_based density_prior in clusters mode...\n",
      "INFO:root:Printing scores every 100 epochs.\n"
     ]
    },
    {
     "name": "stdout",
     "output_type": "stream",
     "text": [
      "Score: 0.362, KL reg: 0.072\n",
      "Score: 0.443, KL reg: 0.000\n",
      "Score: 0.444, KL reg: 0.000\n",
      "Score: 0.444, KL reg: 0.000\n",
      "Score: 0.444, KL reg: 0.000\n",
      "Score: 0.444, KL reg: 0.000\n",
      "Score: 0.444, KL reg: 0.000\n",
      "Score: 0.444, KL reg: 0.000\n",
      "Score: 0.444, KL reg: 0.000\n"
     ]
    },
    {
     "name": "stderr",
     "output_type": "stream",
     "text": [
      "INFO:root:Saving results..\n"
     ]
    },
    {
     "name": "stdout",
     "output_type": "stream",
     "text": [
      "Score: 0.444, KL reg: 0.000\n",
      "fold 0, median cosine similarity: 0.3937465250492096 (Tangram)\n",
      "\n",
      "===== Fold 2 =====\n",
      "Number of train genes: 795, Number of test genes: 199\n"
     ]
    },
    {
     "name": "stderr",
     "output_type": "stream",
     "text": [
      "[TransImp] Epoch: 1000/1000, loss: 1.098854, (IMP) 1.096834, (SPA) 1.0 x 0.002020: 100%|██████████| 1000/1000 [00:04<00:00, 247.80it/s]\n"
     ]
    },
    {
     "name": "stdout",
     "output_type": "stream",
     "text": [
      "fold 1, median cosine similarity: 0.3991173207759857 (TransImpSpa)\n"
     ]
    },
    {
     "name": "stderr",
     "output_type": "stream",
     "text": [
      "[TransImp] Epoch: 1000/1000, loss: 1.105060, (IMP) 1.105060, (SPA) 1.0 x 0.000000: 100%|██████████| 1000/1000 [00:02<00:00, 485.27it/s]\n"
     ]
    },
    {
     "name": "stdout",
     "output_type": "stream",
     "text": [
      "fold 1, median cosine similarity: 0.3986310660839081 (TransImpCls)\n"
     ]
    },
    {
     "name": "stderr",
     "output_type": "stream",
     "text": [
      "[TransImp] Epoch: 1000/1000, loss: 1.063344, (IMP) 1.063344, (SPA) 1.0 x 0.000000: 100%|██████████| 1000/1000 [00:03<00:00, 326.16it/s]\n"
     ]
    },
    {
     "name": "stdout",
     "output_type": "stream",
     "text": [
      "fold 1, median cosine similarity: 0.398549884557724 (TransImp)\n"
     ]
    },
    {
     "name": "stderr",
     "output_type": "stream",
     "text": [
      "[TransImp] Epoch: 1000/1000, loss: 1.111397, (IMP) 1.108604, (SPA) 1.0 x 0.002793: 100%|██████████| 1000/1000 [00:04<00:00, 240.96it/s]\n"
     ]
    },
    {
     "name": "stdout",
     "output_type": "stream",
     "text": [
      "fold 1, median cosine similarity: 0.3959976136684418 (TransImpClsSpa)\n",
      "fold 1, median cosine similarity: 0.3516152339040698 (stPlus)\n",
      "fold 1, median cosine similarity: 0.34706846788791657 (spaGE)\n"
     ]
    },
    {
     "name": "stderr",
     "output_type": "stream",
     "text": [
      "INFO:root:795 training genes are saved in `uns``training_genes` of both single cell and spatial Anndatas.\n",
      "INFO:root:795 overlapped genes are saved in `uns``overlap_genes` of both single cell and spatial Anndatas.\n",
      "INFO:root:uniform based density prior is calculated and saved in `obs``uniform_density` of the spatial Anndata.\n",
      "INFO:root:rna count based density prior is calculated and saved in `obs``rna_count_based_density` of the spatial Anndata.\n",
      "INFO:root:Allocate tensors for mapping.\n",
      "INFO:root:Begin training with 795 genes and rna_count_based density_prior in clusters mode...\n",
      "INFO:root:Printing scores every 100 epochs.\n"
     ]
    },
    {
     "name": "stdout",
     "output_type": "stream",
     "text": [
      "Score: 0.362, KL reg: 0.072\n",
      "Score: 0.443, KL reg: 0.000\n",
      "Score: 0.444, KL reg: 0.000\n",
      "Score: 0.444, KL reg: 0.000\n",
      "Score: 0.444, KL reg: 0.000\n",
      "Score: 0.444, KL reg: 0.000\n",
      "Score: 0.444, KL reg: 0.000\n",
      "Score: 0.444, KL reg: 0.000\n",
      "Score: 0.444, KL reg: 0.000\n",
      "Score: 0.444, KL reg: 0.000\n"
     ]
    },
    {
     "name": "stderr",
     "output_type": "stream",
     "text": [
      "INFO:root:Saving results..\n"
     ]
    },
    {
     "name": "stdout",
     "output_type": "stream",
     "text": [
      "fold 1, median cosine similarity: 0.4000096023082733 (Tangram)\n",
      "\n",
      "===== Fold 3 =====\n",
      "Number of train genes: 795, Number of test genes: 199\n"
     ]
    },
    {
     "name": "stderr",
     "output_type": "stream",
     "text": [
      "[TransImp] Epoch: 1000/1000, loss: 1.107444, (IMP) 1.105566, (SPA) 1.0 x 0.001878: 100%|██████████| 1000/1000 [00:04<00:00, 218.22it/s]\n"
     ]
    },
    {
     "name": "stdout",
     "output_type": "stream",
     "text": [
      "fold 2, median cosine similarity: 0.3847215473651886 (TransImpSpa)\n"
     ]
    },
    {
     "name": "stderr",
     "output_type": "stream",
     "text": [
      "[TransImp] Epoch: 1000/1000, loss: 1.106837, (IMP) 1.106837, (SPA) 1.0 x 0.000000: 100%|██████████| 1000/1000 [00:02<00:00, 410.56it/s]\n"
     ]
    },
    {
     "name": "stdout",
     "output_type": "stream",
     "text": [
      "fold 2, median cosine similarity: 0.3839931786060333 (TransImpCls)\n"
     ]
    },
    {
     "name": "stderr",
     "output_type": "stream",
     "text": [
      "[TransImp] Epoch: 1000/1000, loss: 1.064618, (IMP) 1.064618, (SPA) 1.0 x 0.000000: 100%|██████████| 1000/1000 [00:03<00:00, 262.31it/s]\n"
     ]
    },
    {
     "name": "stdout",
     "output_type": "stream",
     "text": [
      "fold 2, median cosine similarity: 0.38486912846565247 (TransImp)\n"
     ]
    },
    {
     "name": "stderr",
     "output_type": "stream",
     "text": [
      "[TransImp] Epoch: 1000/1000, loss: 1.112911, (IMP) 1.110043, (SPA) 1.0 x 0.002869: 100%|██████████| 1000/1000 [00:04<00:00, 218.23it/s]\n"
     ]
    },
    {
     "name": "stdout",
     "output_type": "stream",
     "text": [
      "fold 2, median cosine similarity: 0.38264602422714233 (TransImpClsSpa)\n",
      "fold 2, median cosine similarity: 0.34538297983938415 (stPlus)\n",
      "fold 2, median cosine similarity: 0.34921116759463955 (spaGE)\n"
     ]
    },
    {
     "name": "stderr",
     "output_type": "stream",
     "text": [
      "INFO:root:795 training genes are saved in `uns``training_genes` of both single cell and spatial Anndatas.\n",
      "INFO:root:795 overlapped genes are saved in `uns``overlap_genes` of both single cell and spatial Anndatas.\n",
      "INFO:root:uniform based density prior is calculated and saved in `obs``uniform_density` of the spatial Anndata.\n",
      "INFO:root:rna count based density prior is calculated and saved in `obs``rna_count_based_density` of the spatial Anndata.\n",
      "INFO:root:Allocate tensors for mapping.\n",
      "INFO:root:Begin training with 795 genes and rna_count_based density_prior in clusters mode...\n",
      "INFO:root:Printing scores every 100 epochs.\n"
     ]
    },
    {
     "name": "stdout",
     "output_type": "stream",
     "text": [
      "Score: 0.364, KL reg: 0.072\n",
      "Score: 0.443, KL reg: 0.000\n",
      "Score: 0.444, KL reg: 0.000\n",
      "Score: 0.444, KL reg: 0.000\n",
      "Score: 0.444, KL reg: 0.000\n",
      "Score: 0.444, KL reg: 0.000\n",
      "Score: 0.444, KL reg: 0.000\n",
      "Score: 0.445, KL reg: 0.000\n",
      "Score: 0.445, KL reg: 0.000\n",
      "Score: 0.445, KL reg: 0.000\n"
     ]
    },
    {
     "name": "stderr",
     "output_type": "stream",
     "text": [
      "INFO:root:Saving results..\n"
     ]
    },
    {
     "name": "stdout",
     "output_type": "stream",
     "text": [
      "fold 2, median cosine similarity: 0.3825967609882355 (Tangram)\n",
      "\n",
      "===== Fold 4 =====\n",
      "Number of train genes: 795, Number of test genes: 199\n"
     ]
    },
    {
     "name": "stderr",
     "output_type": "stream",
     "text": [
      "[TransImp] Epoch: 1000/1000, loss: 1.113634, (IMP) 1.111629, (SPA) 1.0 x 0.002005: 100%|██████████| 1000/1000 [00:04<00:00, 234.34it/s]\n"
     ]
    },
    {
     "name": "stdout",
     "output_type": "stream",
     "text": [
      "fold 3, median cosine similarity: 0.398908793926239 (TransImpSpa)\n"
     ]
    },
    {
     "name": "stderr",
     "output_type": "stream",
     "text": [
      "[TransImp] Epoch: 1000/1000, loss: 1.114321, (IMP) 1.114321, (SPA) 1.0 x 0.000000: 100%|██████████| 1000/1000 [00:02<00:00, 435.75it/s]\n"
     ]
    },
    {
     "name": "stdout",
     "output_type": "stream",
     "text": [
      "fold 3, median cosine similarity: 0.3971154987812042 (TransImpCls)\n"
     ]
    },
    {
     "name": "stderr",
     "output_type": "stream",
     "text": [
      "[TransImp] Epoch: 1000/1000, loss: 1.070225, (IMP) 1.070225, (SPA) 1.0 x 0.000000: 100%|██████████| 1000/1000 [00:02<00:00, 348.28it/s]\n"
     ]
    },
    {
     "name": "stdout",
     "output_type": "stream",
     "text": [
      "fold 3, median cosine similarity: 0.40118566155433655 (TransImp)\n"
     ]
    },
    {
     "name": "stderr",
     "output_type": "stream",
     "text": [
      "[TransImp] Epoch: 1000/1000, loss: 1.120997, (IMP) 1.117953, (SPA) 1.0 x 0.003045: 100%|██████████| 1000/1000 [00:03<00:00, 278.38it/s]\n"
     ]
    },
    {
     "name": "stdout",
     "output_type": "stream",
     "text": [
      "fold 3, median cosine similarity: 0.39354515075683594 (TransImpClsSpa)\n",
      "fold 3, median cosine similarity: 0.35007380384557085 (stPlus)\n",
      "fold 3, median cosine similarity: 0.34943343301189855 (spaGE)\n"
     ]
    },
    {
     "name": "stderr",
     "output_type": "stream",
     "text": [
      "INFO:root:795 training genes are saved in `uns``training_genes` of both single cell and spatial Anndatas.\n",
      "INFO:root:795 overlapped genes are saved in `uns``overlap_genes` of both single cell and spatial Anndatas.\n",
      "INFO:root:uniform based density prior is calculated and saved in `obs``uniform_density` of the spatial Anndata.\n",
      "INFO:root:rna count based density prior is calculated and saved in `obs``rna_count_based_density` of the spatial Anndata.\n",
      "INFO:root:Allocate tensors for mapping.\n",
      "INFO:root:Begin training with 795 genes and rna_count_based density_prior in clusters mode...\n",
      "INFO:root:Printing scores every 100 epochs.\n"
     ]
    },
    {
     "name": "stdout",
     "output_type": "stream",
     "text": [
      "Score: 0.364, KL reg: 0.071\n",
      "Score: 0.444, KL reg: 0.000\n",
      "Score: 0.445, KL reg: 0.000\n",
      "Score: 0.445, KL reg: 0.000\n",
      "Score: 0.445, KL reg: 0.000\n",
      "Score: 0.445, KL reg: 0.000\n",
      "Score: 0.445, KL reg: 0.000\n",
      "Score: 0.445, KL reg: 0.000\n",
      "Score: 0.445, KL reg: 0.000\n"
     ]
    },
    {
     "name": "stderr",
     "output_type": "stream",
     "text": [
      "INFO:root:Saving results..\n"
     ]
    },
    {
     "name": "stdout",
     "output_type": "stream",
     "text": [
      "Score: 0.445, KL reg: 0.000\n",
      "fold 3, median cosine similarity: 0.3935536742210388 (Tangram)\n",
      "\n",
      "===== Fold 5 =====\n",
      "Number of train genes: 796, Number of test genes: 198\n"
     ]
    },
    {
     "name": "stderr",
     "output_type": "stream",
     "text": [
      "[TransImp] Epoch: 1000/1000, loss: 1.108430, (IMP) 1.106712, (SPA) 1.0 x 0.001717: 100%|██████████| 1000/1000 [00:04<00:00, 231.76it/s]\n"
     ]
    },
    {
     "name": "stdout",
     "output_type": "stream",
     "text": [
      "fold 4, median cosine similarity: 0.39962702989578247 (TransImpSpa)\n"
     ]
    },
    {
     "name": "stderr",
     "output_type": "stream",
     "text": [
      "[TransImp] Epoch: 1000/1000, loss: 1.111234, (IMP) 1.111234, (SPA) 1.0 x 0.000000: 100%|██████████| 1000/1000 [00:02<00:00, 450.34it/s]\n"
     ]
    },
    {
     "name": "stdout",
     "output_type": "stream",
     "text": [
      "fold 4, median cosine similarity: 0.3959224075078964 (TransImpCls)\n"
     ]
    },
    {
     "name": "stderr",
     "output_type": "stream",
     "text": [
      "[TransImp] Epoch: 1000/1000, loss: 1.069325, (IMP) 1.069325, (SPA) 1.0 x 0.000000: 100%|██████████| 1000/1000 [00:02<00:00, 343.30it/s]\n"
     ]
    },
    {
     "name": "stdout",
     "output_type": "stream",
     "text": [
      "fold 4, median cosine similarity: 0.40010298788547516 (TransImp)\n"
     ]
    },
    {
     "name": "stderr",
     "output_type": "stream",
     "text": [
      "[TransImp] Epoch: 1000/1000, loss: 1.118125, (IMP) 1.115374, (SPA) 1.0 x 0.002751: 100%|██████████| 1000/1000 [00:03<00:00, 276.11it/s]\n"
     ]
    },
    {
     "name": "stdout",
     "output_type": "stream",
     "text": [
      "fold 4, median cosine similarity: 0.39340704679489136 (TransImpClsSpa)\n",
      "fold 4, median cosine similarity: 0.3583966465268569 (stPlus)\n",
      "fold 4, median cosine similarity: 0.3563178464897309 (spaGE)\n"
     ]
    },
    {
     "name": "stderr",
     "output_type": "stream",
     "text": [
      "INFO:root:796 training genes are saved in `uns``training_genes` of both single cell and spatial Anndatas.\n",
      "INFO:root:796 overlapped genes are saved in `uns``overlap_genes` of both single cell and spatial Anndatas.\n",
      "INFO:root:uniform based density prior is calculated and saved in `obs``uniform_density` of the spatial Anndata.\n",
      "INFO:root:rna count based density prior is calculated and saved in `obs``rna_count_based_density` of the spatial Anndata.\n",
      "INFO:root:Allocate tensors for mapping.\n",
      "INFO:root:Begin training with 796 genes and rna_count_based density_prior in clusters mode...\n",
      "INFO:root:Printing scores every 100 epochs.\n"
     ]
    },
    {
     "name": "stdout",
     "output_type": "stream",
     "text": [
      "Score: 0.363, KL reg: 0.071\n",
      "Score: 0.442, KL reg: 0.000\n",
      "Score: 0.443, KL reg: 0.000\n",
      "Score: 0.443, KL reg: 0.000\n",
      "Score: 0.443, KL reg: 0.000\n",
      "Score: 0.443, KL reg: 0.000\n",
      "Score: 0.443, KL reg: 0.000\n",
      "Score: 0.443, KL reg: 0.000\n",
      "Score: 0.443, KL reg: 0.000\n",
      "Score: 0.443, KL reg: 0.000\n"
     ]
    },
    {
     "name": "stderr",
     "output_type": "stream",
     "text": [
      "INFO:root:Saving results..\n"
     ]
    },
    {
     "name": "stdout",
     "output_type": "stream",
     "text": [
      "fold 4, median cosine similarity: 0.38828784227371216 (Tangram)\n",
      "0.39604490995407104 (TransImpSpa) 0.3967222422361374 (TransImp) 0.3945663124322891 (TransImpCls) 0.39262591302394867 (TransImpClsSpa) 0.351382667606945 (stPlus) 0.34954026539217486 (spaGE) 0.39114102721214294 (Tangram)\n"
     ]
    }
   ],
   "source": [
    "kf = KFold(n_splits=5, shuffle=True, random_state=0)\n",
    "kf.get_n_splits(raw_shared_gene)\n",
    "\n",
    "df_transImpSpa = pd.DataFrame(np.zeros((spa_adata.n_obs, len(raw_shared_gene))), columns=raw_shared_gene)\n",
    "df_transImpCls = pd.DataFrame(np.zeros((spa_adata.n_obs, len(raw_shared_gene))), columns=raw_shared_gene)\n",
    "df_transImpClsSpa = pd.DataFrame(np.zeros((spa_adata.n_obs, len(raw_shared_gene))), columns=raw_shared_gene)\n",
    "df_transImp = pd.DataFrame(np.zeros((spa_adata.n_obs, len(raw_shared_gene))), columns=raw_shared_gene)\n",
    "df_stplus_res = pd.DataFrame(np.zeros((spa_adata.n_obs, len(raw_shared_gene))), columns=raw_shared_gene)\n",
    "df_spaGE_res = pd.DataFrame(np.zeros((spa_adata.n_obs, len(raw_shared_gene))), columns=raw_shared_gene)\n",
    "df_tangram_res = pd.DataFrame(np.zeros((spa_adata.n_obs, len(raw_shared_gene))), columns=raw_shared_gene)\n",
    "\n",
    "for idx, (train_ind, test_ind) in enumerate(kf.split(raw_shared_gene)):    \n",
    "    print(f\"\\n===== Fold {idx+1} =====\\nNumber of train genes: {len(train_ind)}, Number of test genes: {len(test_ind)}\")\n",
    "    train_gene = raw_shared_gene[train_ind]\n",
    "    test_gene  = raw_shared_gene[test_ind]\n",
    "    \n",
    "    test_spatial_df = raw_spatial_df[test_gene]\n",
    "    spatial_df = raw_spatial_df[train_gene]\n",
    "    scrna_df   = raw_scrna_df\n",
    "\n",
    "    df_transImpSpa[test_gene] = expTransImp(\n",
    "            df_ref=raw_scrna_df,\n",
    "            df_tgt=raw_spatial_df,\n",
    "            train_gene=train_gene,\n",
    "            test_gene=test_gene,\n",
    "            signature_mode='cell',\n",
    "            mapping_lowdim=128,\n",
    "            mapping_mode='lowrank',\n",
    "            spa_adj=spa_adata.obsp['spatial_connectivities'].tocoo(),\n",
    "            seed=seed,\n",
    "            device=device)\n",
    "\n",
    "    corr_transImpSpa_res = calc_corr(raw_spatial_df, df_transImpSpa, test_gene)\n",
    "    print(f'fold {idx}, median cosine similarity: {np.median(corr_transImpSpa_res)} (TransImpSpa)')\n",
    "\n",
    "    df_transImpCls[test_gene] = expTransImp(\n",
    "            df_ref=raw_scrna_df,\n",
    "            df_tgt=raw_spatial_df,\n",
    "            train_gene=train_gene,\n",
    "            test_gene=test_gene,\n",
    "            ct_list=ct_list,\n",
    "            classes=classes,\n",
    "            signature_mode='cluster',\n",
    "            mapping_mode='full',\n",
    "            seed=seed,\n",
    "            device=device)\n",
    "\n",
    "    corr_transImpSpa_res = calc_corr(raw_spatial_df, df_transImpCls, test_gene)\n",
    "    print(f'fold {idx}, median cosine similarity: {np.median(corr_transImpSpa_res)} (TransImpCls)')\n",
    "\n",
    "    df_transImp[test_gene] = expTransImp(\n",
    "            df_ref=raw_scrna_df,\n",
    "            df_tgt=raw_spatial_df,\n",
    "            train_gene=train_gene,\n",
    "            test_gene=test_gene,\n",
    "            signature_mode='cell',\n",
    "            mapping_lowdim=128,\n",
    "            mapping_mode='lowrank',\n",
    "            seed=seed,\n",
    "            device=device)\n",
    "\n",
    "    corr_transImpSpa_res = calc_corr(raw_spatial_df, df_transImp, test_gene)\n",
    "    print(f'fold {idx}, median cosine similarity: {np.median(corr_transImpSpa_res)} (TransImp)')\n",
    "\n",
    "    df_transImpClsSpa[test_gene] = expTransImp(\n",
    "            df_ref=raw_scrna_df,\n",
    "            df_tgt=raw_spatial_df,\n",
    "            train_gene=train_gene,\n",
    "            test_gene=test_gene,\n",
    "            ct_list=ct_list,\n",
    "            classes=classes,\n",
    "            spa_adj=spa_adata.obsp['spatial_connectivities'].tocoo(),\n",
    "            signature_mode='cluster',\n",
    "            mapping_mode='full',\n",
    "            seed=seed,\n",
    "            device=device)\n",
    "\n",
    "    corr_transImpSpa_res = calc_corr(raw_spatial_df, df_transImpClsSpa, test_gene)\n",
    "    print(f'fold {idx}, median cosine similarity: {np.median(corr_transImpSpa_res)} (TransImpClsSpa)')\n",
    "\n",
    "    df_stplus_res[test_gene] = stPlus.stPlus(spatial_df, scrna_df, test_gene, \"tmp_stvisp\", verbose=False, random_seed=seed, device=device)\n",
    "    corr_res_stplus = calc_corr(raw_spatial_df, df_stplus_res, test_gene)\n",
    "    print(f'fold {idx}, median cosine similarity: {np.median(corr_res_stplus)} (stPlus)')\n",
    "\n",
    "    df_spaGE_res[test_gene]  = SpaGE_impute(scrna_df, spatial_df, train_gene, test_gene)\n",
    "    corr_res_spaGE = calc_corr(raw_spatial_df, df_spaGE_res, test_gene)\n",
    "    print(f'fold {idx}, median cosine similarity: {np.median(corr_res_spaGE)} (spaGE)')\n",
    "\n",
    "    df_tangram_res[test_gene] = Tangram_impute(VISp_adata, spa_adata, train_gene, test_gene, device, cls_key)\n",
    "    corr_res_tangram = calc_corr(raw_spatial_df, df_tangram_res, test_gene)\n",
    "    print(f'fold {idx}, median cosine similarity: {np.median(corr_res_tangram)} (Tangram)')\n",
    "\n",
    "corr_transImpSpa_res = calc_corr(raw_spatial_df, df_transImpSpa, raw_shared_gene)\n",
    "corr_transImp_res = calc_corr(raw_spatial_df, df_transImp, raw_shared_gene)\n",
    "corr_transImpCls_res = calc_corr(raw_spatial_df, df_transImpCls, raw_shared_gene)\n",
    "corr_transImpClsSpa_res = calc_corr(raw_spatial_df, df_transImpClsSpa, raw_shared_gene)\n",
    "corr_res_stplus = calc_corr(raw_spatial_df, df_stplus_res, raw_shared_gene)\n",
    "corr_res_spaGE = calc_corr(raw_spatial_df, df_spaGE_res, raw_shared_gene)\n",
    "corr_res_tangram = calc_corr(raw_spatial_df, df_tangram_res, raw_shared_gene)   \n",
    "\n",
    "print(np.median(corr_transImpSpa_res), \"(TransImpSpa)\", \n",
    "      np.median(corr_transImp_res), \"(TransImp)\", \n",
    "      np.median(corr_transImpCls_res), \"(TransImpCls)\", \n",
    "      np.median(corr_transImpClsSpa_res), \"(TransImpClsSpa)\", \n",
    "      np.median(corr_res_stplus), \"(stPlus)\", \n",
    "      np.median(corr_res_spaGE), \"(spaGE)\",\n",
    "      np.median(corr_res_tangram), \"(Tangram)\"\n",
    "      )"
   ]
  },
  {
   "cell_type": "code",
   "execution_count": 6,
   "metadata": {},
   "outputs": [],
   "source": [
    "df_transImp.to_csv('../../output/starmap_AllenVISp_transImpute.csv')\n",
    "df_transImpSpa.to_csv('../../output/starmap_AllenVISp_transImpSpa.csv')\n",
    "df_transImpCls.to_csv('../../output/starmap_AllenVISp_transImpCls.csv')\n",
    "df_transImpClsSpa.to_csv('../../output/starmap_AllenVISp_transImpClsSpa.csv')\n",
    "df_spaGE_res.to_csv('../../output/starmap_AllenVISp_spaGE.csv')\n",
    "df_stplus_res.to_csv('../../output/starmap_AllenVISp_stPlus.csv')\n",
    "df_tangram_res.to_csv('../../output/starmap_AllenVISp_Tangram.csv')"
   ]
  },
  {
   "cell_type": "code",
   "execution_count": 7,
   "metadata": {},
   "outputs": [],
   "source": [
    "dict_df = {\"TransImp\":df_transImp, \n",
    "           \"TransImpSpa\":df_transImpSpa, \n",
    "           \"TransImpCls\":df_transImpCls,\n",
    "           \"TransImpClsSpa\":df_transImpClsSpa,\n",
    "           \"spaGE\": df_spaGE_res, \n",
    "           \"stPlus\": df_stplus_res, \n",
    "           \"Tangram\":df_tangram_res\n",
    "        }\n",
    "sq.gr.spatial_autocorr(\n",
    "    spa_adata,\n",
    "    n_jobs=10,\n",
    ")\n",
    "\n",
    "dict_adata = {name: compute_autocorr(spa_adata[:, raw_shared_gene].copy(), df) for name, df in dict_df.items()}\n"
   ]
  },
  {
   "cell_type": "code",
   "execution_count": 8,
   "metadata": {},
   "outputs": [
    {
     "name": "stdout",
     "output_type": "stream",
     "text": [
      "Mean Squared Error\n",
      "Moran's I:\n",
      "\n",
      "\tTrue vs TransImp: 0.057780\n",
      "\tTrue vs TransImpSpa: 0.003789\n",
      "\tTrue vs TransImpCls: 0.071109\n",
      "\tTrue vs TransImpClsSpa: 0.003557\n",
      "\tTrue vs spaGE: 0.050310\n",
      "\tTrue vs stPlus: 0.072103\n",
      "\tTrue vs Tangram: 0.033903\n"
     ]
    }
   ],
   "source": [
    "from sklearn.metrics import mean_squared_error\n",
    "moranIs = {name:mean_squared_error(spa_adata.uns['moranI'].loc[raw_shared_gene].I, imp_adata.uns['moranI'].loc[raw_shared_gene].I) for name, imp_adata in dict_adata.items()}\n",
    "\n",
    "print(\"Mean Squared Error\\nMoran's I:\\n\")\n",
    "print(\"\\n\".join([f\"\\tTrue vs {method}: {score:.6f}\" for method, score in moranIs.items()]))"
   ]
  },
  {
   "cell_type": "code",
   "execution_count": null,
   "metadata": {},
   "outputs": [],
   "source": []
  }
 ],
 "metadata": {
  "kernelspec": {
   "display_name": "py39",
   "language": "python",
   "name": "python3"
  },
  "language_info": {
   "codemirror_mode": {
    "name": "ipython",
    "version": 3
   },
   "file_extension": ".py",
   "mimetype": "text/x-python",
   "name": "python",
   "nbconvert_exporter": "python",
   "pygments_lexer": "ipython3",
   "version": "3.9.15"
  },
  "orig_nbformat": 4,
  "vscode": {
   "interpreter": {
    "hash": "e8da81f65ceb90801c63ea0064300de9b9164522ea58b631889c934b5d41a013"
   }
  }
 },
 "nbformat": 4,
 "nbformat_minor": 2
}
