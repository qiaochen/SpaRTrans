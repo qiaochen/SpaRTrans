{
 "cells": [
  {
   "cell_type": "code",
   "execution_count": 1,
   "metadata": {},
   "outputs": [
    {
     "name": "stderr",
     "output_type": "stream",
     "text": [
      "Global seed set to 0\n"
     ]
    }
   ],
   "source": [
    "import anndata\n",
    "import torch\n",
    "import stPlus\n",
    "\n",
    "import squidpy as sq\n",
    "import numpy as np\n",
    "import scanpy as sc\n",
    "import pandas as pd\n",
    "\n",
    "from sklearn.model_selection import KFold\n",
    "from transpa.eval_util import calc_corr\n",
    "from transpa.util import expTransImp, leiden_cluster, compute_autocorr\n",
    "from benchmark import SpaGE_impute, Tangram_impute\n",
    "import warnings\n",
    "\n",
    "warnings.filterwarnings('ignore')\n",
    "\n",
    "seed = 10\n",
    "device = torch.device(\"cuda:2\") if torch.cuda.is_available() else torch.device(\"cpu\")"
   ]
  },
  {
   "cell_type": "code",
   "execution_count": 2,
   "metadata": {},
   "outputs": [],
   "source": [
    "import os\n",
    "merfish_path = '../data/merfish.h5ad'\n",
    "if os.path.exists(merfish_path):\n",
    "    spa_adata = sc.read(merfish_path)\n",
    "else:\n",
    "    merfish = pd.read_csv('/data/users/cqiao/data/stPlus/data/SpaGE Datasets/Spatial/MERFISH/Moffitt_and_Bambah-Mukku_et_al_merfish_all_cells.csv')\n",
    "    merfish_1 = merfish.loc[merfish['Animal_ID'] == 1, :]\n",
    "    merfish_1 = merfish_1.loc[merfish_1['Cell_class'] != 'Ambiguous',:]\n",
    "    merfish_meta = merfish_1.iloc[:,0:9]\n",
    "    merfish_data = merfish_1.iloc[:,9:171]\n",
    "    merfish_data = merfish_data.drop(columns = ['Blank_1','Blank_2','Blank_3','Blank_4','Blank_5','Fos'])\n",
    "\n",
    "    spa_adata = anndata.AnnData(merfish_data.values)\n",
    "    spa_adata.var_names = merfish_data.columns.values\n",
    "    spa_adata.var_names_make_unique()\n",
    "    spa_adata.obs = merfish_meta\n",
    "    spa_adata.obs['X'] = merfish_1.Centroid_X.values\n",
    "    spa_adata.obs['Y'] = merfish_1.Centroid_Y.values\n",
    "    sc.pp.normalize_total(spa_adata)\n",
    "    sc.pp.log1p(spa_adata)\n",
    "    spa_adata.write('../data/merfish.h5ad')\n",
    "\n",
    "\n",
    "Moffit_path = '../data/moffit_adata.h5ad'\n",
    "\n",
    "if os.path.exists(Moffit_path):\n",
    "    Moffit_adata = sc.read(Moffit_path)\n",
    "else:\n",
    "    Moffit_adata = sc.read_mtx(\"/data/users/cqiao/data/stPlus/data/SpaGE Datasets/scRNAseq/Moffit_RNA/GSE113576/matrix.mtx\").T\n",
    "    genes = pd.read_csv('/data/users/cqiao/data/stPlus/data/SpaGE Datasets/scRNAseq/Moffit_RNA/GSE113576/genes.tsv',sep='\\t',header=None).loc[:, 1].values\n",
    "    barcodes = pd.read_csv('/data/users/cqiao/data/stPlus/data/SpaGE Datasets/scRNAseq/Moffit_RNA/GSE113576/barcodes.tsv',sep='\\t',header=None).loc[:, 0].values\n",
    "\n",
    "    Moffit_adata.var_names = genes\n",
    "    Moffit_adata.obs_names = barcodes\n",
    "    Moffit_adata.var_names_make_unique()\n",
    "    classes, ct_list = leiden_cluster(Moffit_adata)\n",
    "    cls_key = 'leiden'\n",
    "    Moffit_adata.obs[cls_key] = classes\n",
    "    sc.pp.filter_genes(Moffit_adata, min_cells=10)\n",
    "    sc.pp.normalize_total(Moffit_adata)\n",
    "    sc.pp.log1p(Moffit_adata)\n",
    "    Moffit_adata.write('../data/moffit_adata.h5ad')\n",
    "    \n",
    "spa_adata.var_names_make_unique()\n",
    "Moffit_adata.var_names_make_unique()\n",
    "ct_list = np.unique(Moffit_adata.obs.leiden)\n",
    "classes = Moffit_adata.obs.leiden.values\n",
    "cls_key = 'leiden'"
   ]
  },
  {
   "cell_type": "code",
   "execution_count": 3,
   "metadata": {},
   "outputs": [
    {
     "data": {
      "text/plain": [
       "((64373, 155), (31299, 18646), (153,))"
      ]
     },
     "execution_count": 3,
     "metadata": {},
     "output_type": "execute_result"
    }
   ],
   "source": [
    "raw_spatial_df  = pd.DataFrame(spa_adata.X, columns=spa_adata.var_names)\n",
    "# raw_scrna_df    = pd.DataFrame.sparse.from_spmatrix(Moffit_adata.X, columns=Moffit_adata.var_names)\n",
    "raw_scrna_df    = pd.DataFrame(Moffit_adata.X.toarray(), columns=Moffit_adata.var_names)\n",
    "raw_shared_gene = np.intersect1d(raw_spatial_df.columns, raw_scrna_df.columns)\n",
    "\n",
    "raw_spatial_df.to_csv('output/merfish_raw.csv')\n",
    "raw_spatial_df.shape, raw_scrna_df.shape, raw_shared_gene.shape"
   ]
  },
  {
   "cell_type": "code",
   "execution_count": 4,
   "metadata": {},
   "outputs": [],
   "source": [
    "spa_adata.obsm['spatial'] = np.hstack([spa_adata.obs.X.values.reshape(-1,1), spa_adata.obs.Y.values.reshape(-1,1)])\n",
    "np.save('output/merfish_locations.npy', spa_adata.obsm['spatial'])\n",
    "sq.gr.spatial_neighbors(spa_adata)"
   ]
  },
  {
   "cell_type": "code",
   "execution_count": 5,
   "metadata": {},
   "outputs": [
    {
     "name": "stdout",
     "output_type": "stream",
     "text": [
      "15 clusters\n"
     ]
    }
   ],
   "source": [
    "from sklearn.metrics import adjusted_rand_score, adjusted_mutual_info_score, normalized_mutual_info_score, homogeneity_score\n",
    "from sklearn.cluster import AgglomerativeClustering\n",
    "from sklearn.preprocessing import StandardScaler\n",
    "\n",
    "n_clusters = len(spa_adata.obs.Cell_class.unique())\n",
    "print(f\"{n_clusters} clusters\")\n",
    "# real_clss = AgglomerativeClustering(n_clusters=n_clusters, \n",
    "#                                     connectivity=spa_adata.obsp['spatial_connectivities'],\n",
    "#                                     ).fit_predict(StandardScaler().fit_transform(spa_adata.X))\n",
    "real_clss = spa_adata.obs.Cell_class.values"
   ]
  },
  {
   "cell_type": "code",
   "execution_count": 6,
   "metadata": {},
   "outputs": [],
   "source": [
    "def spa_agglomerative(true_imp_X):\n",
    "    pred_clss = AgglomerativeClustering(n_clusters=n_clusters, \n",
    "                                        connectivity=spa_adata.obsp['spatial_connectivities'],\n",
    "                                       ).fit_predict(StandardScaler().fit_transform(true_imp_X))\n",
    "    ars = adjusted_rand_score(real_clss, pred_clss)\n",
    "    amis = adjusted_mutual_info_score(real_clss, pred_clss)\n",
    "    homo = homogeneity_score(real_clss, pred_clss)\n",
    "    nmi = normalized_mutual_info_score(real_clss, pred_clss)\n",
    "    scores = {\"ARS\":ars, \"AMIS\":amis, 'HOMO': homo, 'NMI':nmi}\n",
    "    print(f\"Cluster on Raw Expression vs  on Predicted Expression\\n - ARS: {ars:.6f}, AMIS: {amis:.6f}, HOMO: {homo:.6f}, NMI: {nmi:.6f}\")\n",
    "    scores = {\"ARS\":ars, \"AMIS\":amis, 'HOMO': homo, 'NMI':nmi}\n",
    "    return scores"
   ]
  },
  {
   "cell_type": "code",
   "execution_count": 7,
   "metadata": {},
   "outputs": [
    {
     "name": "stdout",
     "output_type": "stream",
     "text": [
      "\n",
      "===== Fold 1 =====\n",
      "Number of train genes: 122, Number of test genes: 31\n"
     ]
    },
    {
     "name": "stderr",
     "output_type": "stream",
     "text": [
      "[TransImp] Epoch: 1000/1000, loss: 0.562223, (IMP) 0.560559, (SPA) 1 x 0.001664: 100%|██████████| 1000/1000 [00:18<00:00, 55.00it/s]\n"
     ]
    },
    {
     "name": "stdout",
     "output_type": "stream",
     "text": [
      "Cluster on Raw Expression vs  on Predicted Expression\n",
      " - ARS: 0.048491, AMIS: 0.088764, HOMO: 0.095563, NMI: 0.089448\n",
      "fold 0, median correlation: 0.33793506902181053 (TransImpSpa)\n"
     ]
    },
    {
     "name": "stderr",
     "output_type": "stream",
     "text": [
      "[TransImp] Epoch: 1000/1000, loss: 0.843272, (IMP) 0.843272, (SPA) 1.0 x 0.000000: 100%|██████████| 1000/1000 [00:07<00:00, 133.62it/s]\n"
     ]
    },
    {
     "name": "stdout",
     "output_type": "stream",
     "text": [
      "Cluster on Raw Expression vs  on Predicted Expression\n",
      " - ARS: 0.051081, AMIS: 0.081695, HOMO: 0.091842, NMI: 0.082358\n",
      "fold 0, median correlation: 0.3571415145959039 (TransImpCls)\n"
     ]
    },
    {
     "name": "stderr",
     "output_type": "stream",
     "text": [
      "[TransImp] Epoch: 1000/1000, loss: 0.538523, (IMP) 0.538523, (SPA) 1.0 x 0.000000: 100%|██████████| 1000/1000 [00:11<00:00, 85.49it/s]\n"
     ]
    },
    {
     "name": "stdout",
     "output_type": "stream",
     "text": [
      "Cluster on Raw Expression vs  on Predicted Expression\n",
      " - ARS: 0.060038, AMIS: 0.085900, HOMO: 0.093728, NMI: 0.086579\n",
      "fold 0, median correlation: 0.3250004917567962 (TransImp)\n"
     ]
    },
    {
     "name": "stderr",
     "output_type": "stream",
     "text": [
      "[TransImp] Epoch: 1000/1000, loss: 0.848029, (IMP) 0.844415, (SPA) 1 x 0.003614: 100%|██████████| 1000/1000 [00:14<00:00, 68.43it/s]\n"
     ]
    },
    {
     "name": "stdout",
     "output_type": "stream",
     "text": [
      "Cluster on Raw Expression vs  on Predicted Expression\n",
      " - ARS: 0.038987, AMIS: 0.077493, HOMO: 0.086845, NMI: 0.078159\n",
      "fold 0, median correlation: 0.35256432756907835 (TransImpClsSpa)\n",
      "Cluster on Raw Expression vs  on Predicted Expression\n",
      " - ARS: 0.046201, AMIS: 0.086966, HOMO: 0.099382, NMI: 0.087613\n",
      "\t\t\t0.34134172014811964 (stPlus)\n",
      "Cluster on Raw Expression vs  on Predicted Expression\n",
      " - ARS: 0.034193, AMIS: 0.074373, HOMO: 0.083434, NMI: 0.075042\n",
      "\t\t\t0.33262536612669313 (spaGE)\n"
     ]
    },
    {
     "name": "stderr",
     "output_type": "stream",
     "text": [
      "INFO:root:122 training genes are saved in `uns``training_genes` of both single cell and spatial Anndatas.\n",
      "INFO:root:122 overlapped genes are saved in `uns``overlap_genes` of both single cell and spatial Anndatas.\n",
      "INFO:root:uniform based density prior is calculated and saved in `obs``uniform_density` of the spatial Anndata.\n",
      "INFO:root:rna count based density prior is calculated and saved in `obs``rna_count_based_density` of the spatial Anndata.\n",
      "INFO:root:Allocate tensors for mapping.\n",
      "INFO:root:Begin training with 122 genes and rna_count_based density_prior in clusters mode...\n",
      "INFO:root:Printing scores every 100 epochs.\n"
     ]
    },
    {
     "name": "stdout",
     "output_type": "stream",
     "text": [
      "Score: 0.426, KL reg: 0.088\n",
      "Score: 0.651, KL reg: 0.001\n",
      "Score: 0.653, KL reg: 0.001\n",
      "Score: 0.653, KL reg: 0.001\n",
      "Score: 0.654, KL reg: 0.001\n",
      "Score: 0.654, KL reg: 0.001\n",
      "Score: 0.654, KL reg: 0.001\n",
      "Score: 0.654, KL reg: 0.001\n",
      "Score: 0.654, KL reg: 0.001\n",
      "Score: 0.654, KL reg: 0.001\n"
     ]
    },
    {
     "name": "stderr",
     "output_type": "stream",
     "text": [
      "INFO:root:Saving results..\n"
     ]
    },
    {
     "name": "stdout",
     "output_type": "stream",
     "text": [
      "Cluster on Raw Expression vs  on Predicted Expression\n",
      " - ARS: 0.043703, AMIS: 0.075433, HOMO: 0.083456, NMI: 0.076112\n",
      "\t\t\t0.3418914246181449 (Tangram)\n",
      "\n",
      "===== Fold 2 =====\n",
      "Number of train genes: 122, Number of test genes: 31\n"
     ]
    },
    {
     "name": "stderr",
     "output_type": "stream",
     "text": [
      "[TransImp] Epoch: 1000/1000, loss: 0.572696, (IMP) 0.570908, (SPA) 1 x 0.001788: 100%|██████████| 1000/1000 [00:18<00:00, 54.87it/s]\n"
     ]
    },
    {
     "name": "stdout",
     "output_type": "stream",
     "text": [
      "Cluster on Raw Expression vs  on Predicted Expression\n",
      " - ARS: 0.038915, AMIS: 0.081296, HOMO: 0.092194, NMI: 0.081953\n",
      "fold 1, median correlation: 0.17477798270082537 (TransImpSpa)\n"
     ]
    },
    {
     "name": "stderr",
     "output_type": "stream",
     "text": [
      "[TransImp] Epoch: 1000/1000, loss: 0.825958, (IMP) 0.825958, (SPA) 1.0 x 0.000000: 100%|██████████| 1000/1000 [00:07<00:00, 130.78it/s]\n"
     ]
    },
    {
     "name": "stdout",
     "output_type": "stream",
     "text": [
      "Cluster on Raw Expression vs  on Predicted Expression\n",
      " - ARS: 0.052650, AMIS: 0.078848, HOMO: 0.086393, NMI: 0.079531\n",
      "fold 1, median correlation: 0.23239398400406225 (TransImpCls)\n"
     ]
    },
    {
     "name": "stderr",
     "output_type": "stream",
     "text": [
      "[TransImp] Epoch: 1000/1000, loss: 0.550727, (IMP) 0.550727, (SPA) 1.0 x 0.000000: 100%|██████████| 1000/1000 [00:11<00:00, 85.38it/s]\n"
     ]
    },
    {
     "name": "stdout",
     "output_type": "stream",
     "text": [
      "Cluster on Raw Expression vs  on Predicted Expression\n",
      " - ARS: 0.039018, AMIS: 0.070793, HOMO: 0.081530, NMI: 0.071449\n",
      "fold 1, median correlation: 0.1742707618499262 (TransImp)\n"
     ]
    },
    {
     "name": "stderr",
     "output_type": "stream",
     "text": [
      "[TransImp] Epoch: 1000/1000, loss: 0.830989, (IMP) 0.827212, (SPA) 1 x 0.003777: 100%|██████████| 1000/1000 [00:14<00:00, 69.54it/s]\n"
     ]
    },
    {
     "name": "stdout",
     "output_type": "stream",
     "text": [
      "Cluster on Raw Expression vs  on Predicted Expression\n",
      " - ARS: 0.069526, AMIS: 0.086940, HOMO: 0.088207, NMI: 0.087668\n",
      "fold 1, median correlation: 0.23028945243878232 (TransImpClsSpa)\n",
      "Cluster on Raw Expression vs  on Predicted Expression\n",
      " - ARS: 0.040658, AMIS: 0.073583, HOMO: 0.080152, NMI: 0.074272\n",
      "\t\t\t0.1796437873369204 (stPlus)\n",
      "Cluster on Raw Expression vs  on Predicted Expression\n",
      " - ARS: 0.029962, AMIS: 0.074457, HOMO: 0.084112, NMI: 0.075120\n",
      "\t\t\t0.17251574396986058 (spaGE)\n"
     ]
    },
    {
     "name": "stderr",
     "output_type": "stream",
     "text": [
      "INFO:root:122 training genes are saved in `uns``training_genes` of both single cell and spatial Anndatas.\n",
      "INFO:root:122 overlapped genes are saved in `uns``overlap_genes` of both single cell and spatial Anndatas.\n",
      "INFO:root:uniform based density prior is calculated and saved in `obs``uniform_density` of the spatial Anndata.\n",
      "INFO:root:rna count based density prior is calculated and saved in `obs``rna_count_based_density` of the spatial Anndata.\n",
      "INFO:root:Allocate tensors for mapping.\n",
      "INFO:root:Begin training with 122 genes and rna_count_based density_prior in clusters mode...\n",
      "INFO:root:Printing scores every 100 epochs.\n"
     ]
    },
    {
     "name": "stdout",
     "output_type": "stream",
     "text": [
      "Score: 0.436, KL reg: 0.107\n",
      "Score: 0.657, KL reg: 0.002\n",
      "Score: 0.658, KL reg: 0.002\n",
      "Score: 0.659, KL reg: 0.001\n",
      "Score: 0.659, KL reg: 0.001\n",
      "Score: 0.659, KL reg: 0.001\n",
      "Score: 0.659, KL reg: 0.001\n",
      "Score: 0.659, KL reg: 0.001\n",
      "Score: 0.659, KL reg: 0.001\n",
      "Score: 0.659, KL reg: 0.001\n"
     ]
    },
    {
     "name": "stderr",
     "output_type": "stream",
     "text": [
      "INFO:root:Saving results..\n"
     ]
    },
    {
     "name": "stdout",
     "output_type": "stream",
     "text": [
      "Cluster on Raw Expression vs  on Predicted Expression\n",
      " - ARS: 0.040401, AMIS: 0.075272, HOMO: 0.086224, NMI: 0.075927\n",
      "\t\t\t0.2407029898738709 (Tangram)\n",
      "\n",
      "===== Fold 3 =====\n",
      "Number of train genes: 122, Number of test genes: 31\n"
     ]
    },
    {
     "name": "stderr",
     "output_type": "stream",
     "text": [
      "[TransImp] Epoch: 1000/1000, loss: 0.489253, (IMP) 0.488233, (SPA) 1 x 0.001020: 100%|██████████| 1000/1000 [00:18<00:00, 54.56it/s]\n"
     ]
    },
    {
     "name": "stdout",
     "output_type": "stream",
     "text": [
      "Cluster on Raw Expression vs  on Predicted Expression\n",
      " - ARS: 0.045054, AMIS: 0.080561, HOMO: 0.090472, NMI: 0.081226\n",
      "fold 2, median correlation: 0.3130948853994587 (TransImpSpa)\n"
     ]
    },
    {
     "name": "stderr",
     "output_type": "stream",
     "text": [
      "[TransImp] Epoch: 1000/1000, loss: 0.730507, (IMP) 0.730507, (SPA) 1.0 x 0.000000: 100%|██████████| 1000/1000 [00:07<00:00, 132.40it/s]\n"
     ]
    },
    {
     "name": "stdout",
     "output_type": "stream",
     "text": [
      "Cluster on Raw Expression vs  on Predicted Expression\n",
      " - ARS: 0.038468, AMIS: 0.075808, HOMO: 0.084756, NMI: 0.076477\n",
      "fold 2, median correlation: 0.3050761280350354 (TransImpCls)\n"
     ]
    },
    {
     "name": "stderr",
     "output_type": "stream",
     "text": [
      "[TransImp] Epoch: 1000/1000, loss: 0.475512, (IMP) 0.475512, (SPA) 1.0 x 0.000000: 100%|██████████| 1000/1000 [00:11<00:00, 85.42it/s]\n"
     ]
    },
    {
     "name": "stdout",
     "output_type": "stream",
     "text": [
      "Cluster on Raw Expression vs  on Predicted Expression\n",
      " - ARS: 0.043700, AMIS: 0.075901, HOMO: 0.084021, NMI: 0.076577\n",
      "fold 2, median correlation: 0.31650081506612593 (TransImp)\n"
     ]
    },
    {
     "name": "stderr",
     "output_type": "stream",
     "text": [
      "[TransImp] Epoch: 1000/1000, loss: 0.734084, (IMP) 0.731797, (SPA) 1 x 0.002288: 100%|██████████| 1000/1000 [00:14<00:00, 70.23it/s]\n"
     ]
    },
    {
     "name": "stdout",
     "output_type": "stream",
     "text": [
      "Cluster on Raw Expression vs  on Predicted Expression\n",
      " - ARS: 0.044321, AMIS: 0.074628, HOMO: 0.084183, NMI: 0.075292\n",
      "fold 2, median correlation: 0.3053089050131768 (TransImpClsSpa)\n",
      "Cluster on Raw Expression vs  on Predicted Expression\n",
      " - ARS: 0.033369, AMIS: 0.075477, HOMO: 0.083363, NMI: 0.076155\n",
      "\t\t\t0.31492769801645554 (stPlus)\n",
      "Cluster on Raw Expression vs  on Predicted Expression\n",
      " - ARS: 0.034461, AMIS: 0.069719, HOMO: 0.077659, NMI: 0.070396\n",
      "\t\t\t0.28014813333488997 (spaGE)\n"
     ]
    },
    {
     "name": "stderr",
     "output_type": "stream",
     "text": [
      "INFO:root:122 training genes are saved in `uns``training_genes` of both single cell and spatial Anndatas.\n",
      "INFO:root:122 overlapped genes are saved in `uns``overlap_genes` of both single cell and spatial Anndatas.\n",
      "INFO:root:uniform based density prior is calculated and saved in `obs``uniform_density` of the spatial Anndata.\n",
      "INFO:root:rna count based density prior is calculated and saved in `obs``rna_count_based_density` of the spatial Anndata.\n",
      "INFO:root:Allocate tensors for mapping.\n",
      "INFO:root:Begin training with 122 genes and rna_count_based density_prior in clusters mode...\n",
      "INFO:root:Printing scores every 100 epochs.\n"
     ]
    },
    {
     "name": "stdout",
     "output_type": "stream",
     "text": [
      "Score: 0.436, KL reg: 0.104\n",
      "Score: 0.653, KL reg: 0.001\n",
      "Score: 0.655, KL reg: 0.001\n",
      "Score: 0.655, KL reg: 0.001\n",
      "Score: 0.655, KL reg: 0.001\n",
      "Score: 0.655, KL reg: 0.001\n",
      "Score: 0.655, KL reg: 0.001\n",
      "Score: 0.656, KL reg: 0.001\n",
      "Score: 0.656, KL reg: 0.001\n",
      "Score: 0.656, KL reg: 0.001\n"
     ]
    },
    {
     "name": "stderr",
     "output_type": "stream",
     "text": [
      "INFO:root:Saving results..\n"
     ]
    },
    {
     "name": "stdout",
     "output_type": "stream",
     "text": [
      "Cluster on Raw Expression vs  on Predicted Expression\n",
      " - ARS: 0.035205, AMIS: 0.070577, HOMO: 0.079336, NMI: 0.071247\n",
      "\t\t\t0.31214147210834764 (Tangram)\n",
      "\n",
      "===== Fold 4 =====\n",
      "Number of train genes: 123, Number of test genes: 30\n"
     ]
    },
    {
     "name": "stderr",
     "output_type": "stream",
     "text": [
      "[TransImp] Epoch: 1000/1000, loss: 0.570753, (IMP) 0.569009, (SPA) 1 x 0.001744: 100%|██████████| 1000/1000 [00:18<00:00, 54.47it/s]\n"
     ]
    },
    {
     "name": "stdout",
     "output_type": "stream",
     "text": [
      "Cluster on Raw Expression vs  on Predicted Expression\n",
      " - ARS: 0.045354, AMIS: 0.084928, HOMO: 0.089524, NMI: 0.085630\n",
      "fold 3, median correlation: 0.21166814314684462 (TransImpSpa)\n"
     ]
    },
    {
     "name": "stderr",
     "output_type": "stream",
     "text": [
      "[TransImp] Epoch: 1000/1000, loss: 0.831245, (IMP) 0.831245, (SPA) 1.0 x 0.000000: 100%|██████████| 1000/1000 [00:07<00:00, 132.23it/s]\n"
     ]
    },
    {
     "name": "stdout",
     "output_type": "stream",
     "text": [
      "Cluster on Raw Expression vs  on Predicted Expression\n",
      " - ARS: 0.063373, AMIS: 0.087507, HOMO: 0.093890, NMI: 0.088195\n",
      "fold 3, median correlation: 0.25244367023921 (TransImpCls)\n"
     ]
    },
    {
     "name": "stderr",
     "output_type": "stream",
     "text": [
      "[TransImp] Epoch: 1000/1000, loss: 0.551349, (IMP) 0.551349, (SPA) 1.0 x 0.000000: 100%|██████████| 1000/1000 [00:11<00:00, 86.84it/s]\n"
     ]
    },
    {
     "name": "stdout",
     "output_type": "stream",
     "text": [
      "Cluster on Raw Expression vs  on Predicted Expression\n",
      " - ARS: 0.039472, AMIS: 0.078732, HOMO: 0.088581, NMI: 0.079395\n",
      "fold 3, median correlation: 0.21959700544295122 (TransImp)\n"
     ]
    },
    {
     "name": "stderr",
     "output_type": "stream",
     "text": [
      "[TransImp] Epoch: 1000/1000, loss: 0.836673, (IMP) 0.832668, (SPA) 1 x 0.004005: 100%|██████████| 1000/1000 [00:14<00:00, 67.13it/s]\n"
     ]
    },
    {
     "name": "stdout",
     "output_type": "stream",
     "text": [
      "Cluster on Raw Expression vs  on Predicted Expression\n",
      " - ARS: 0.039109, AMIS: 0.076805, HOMO: 0.087486, NMI: 0.077463\n",
      "fold 3, median correlation: 0.25171255681861576 (TransImpClsSpa)\n",
      "Cluster on Raw Expression vs  on Predicted Expression\n",
      " - ARS: 0.035342, AMIS: 0.079897, HOMO: 0.090297, NMI: 0.080557\n",
      "\t\t\t0.2531887229414372 (stPlus)\n",
      "Cluster on Raw Expression vs  on Predicted Expression\n",
      " - ARS: 0.051088, AMIS: 0.074132, HOMO: 0.077115, NMI: 0.074853\n",
      "\t\t\t0.22008229426829667 (spaGE)\n"
     ]
    },
    {
     "name": "stderr",
     "output_type": "stream",
     "text": [
      "INFO:root:123 training genes are saved in `uns``training_genes` of both single cell and spatial Anndatas.\n",
      "INFO:root:123 overlapped genes are saved in `uns``overlap_genes` of both single cell and spatial Anndatas.\n",
      "INFO:root:uniform based density prior is calculated and saved in `obs``uniform_density` of the spatial Anndata.\n",
      "INFO:root:rna count based density prior is calculated and saved in `obs``rna_count_based_density` of the spatial Anndata.\n",
      "INFO:root:Allocate tensors for mapping.\n",
      "INFO:root:Begin training with 123 genes and rna_count_based density_prior in clusters mode...\n",
      "INFO:root:Printing scores every 100 epochs.\n"
     ]
    },
    {
     "name": "stdout",
     "output_type": "stream",
     "text": [
      "Score: 0.438, KL reg: 0.100\n",
      "Score: 0.655, KL reg: 0.001\n",
      "Score: 0.657, KL reg: 0.001\n",
      "Score: 0.657, KL reg: 0.001\n",
      "Score: 0.658, KL reg: 0.001\n",
      "Score: 0.658, KL reg: 0.001\n",
      "Score: 0.658, KL reg: 0.001\n",
      "Score: 0.658, KL reg: 0.001\n",
      "Score: 0.658, KL reg: 0.001\n",
      "Score: 0.658, KL reg: 0.001\n"
     ]
    },
    {
     "name": "stderr",
     "output_type": "stream",
     "text": [
      "INFO:root:Saving results..\n"
     ]
    },
    {
     "name": "stdout",
     "output_type": "stream",
     "text": [
      "Cluster on Raw Expression vs  on Predicted Expression\n",
      " - ARS: 0.044109, AMIS: 0.079925, HOMO: 0.087618, NMI: 0.080604\n",
      "\t\t\t0.2415767890000491 (Tangram)\n",
      "\n",
      "===== Fold 5 =====\n",
      "Number of train genes: 123, Number of test genes: 30\n"
     ]
    },
    {
     "name": "stderr",
     "output_type": "stream",
     "text": [
      "[TransImp] Epoch: 1000/1000, loss: 0.553660, (IMP) 0.552105, (SPA) 1 x 0.001555: 100%|██████████| 1000/1000 [00:18<00:00, 54.08it/s]\n"
     ]
    },
    {
     "name": "stdout",
     "output_type": "stream",
     "text": [
      "Cluster on Raw Expression vs  on Predicted Expression\n",
      " - ARS: 0.049363, AMIS: 0.084277, HOMO: 0.092731, NMI: 0.084950\n",
      "fold 4, median correlation: 0.2531674596593373 (TransImpSpa)\n"
     ]
    },
    {
     "name": "stderr",
     "output_type": "stream",
     "text": [
      "[TransImp] Epoch: 1000/1000, loss: 0.790528, (IMP) 0.790528, (SPA) 1.0 x 0.000000: 100%|██████████| 1000/1000 [00:07<00:00, 130.93it/s]\n"
     ]
    },
    {
     "name": "stdout",
     "output_type": "stream",
     "text": [
      "Cluster on Raw Expression vs  on Predicted Expression\n",
      " - ARS: 0.042767, AMIS: 0.077879, HOMO: 0.089842, NMI: 0.078529\n",
      "fold 4, median correlation: 0.2729298579520554 (TransImpCls)\n"
     ]
    },
    {
     "name": "stderr",
     "output_type": "stream",
     "text": [
      "[TransImp] Epoch: 1000/1000, loss: 0.529110, (IMP) 0.529110, (SPA) 1.0 x 0.000000: 100%|██████████| 1000/1000 [00:11<00:00, 86.48it/s]\n"
     ]
    },
    {
     "name": "stdout",
     "output_type": "stream",
     "text": [
      "Cluster on Raw Expression vs  on Predicted Expression\n",
      " - ARS: 0.044559, AMIS: 0.083446, HOMO: 0.091366, NMI: 0.084122\n",
      "fold 4, median correlation: 0.25130109140326035 (TransImp)\n"
     ]
    },
    {
     "name": "stderr",
     "output_type": "stream",
     "text": [
      "[TransImp] Epoch: 1000/1000, loss: 0.795890, (IMP) 0.791930, (SPA) 1 x 0.003960: 100%|██████████| 1000/1000 [00:14<00:00, 68.10it/s]\n"
     ]
    },
    {
     "name": "stdout",
     "output_type": "stream",
     "text": [
      "Cluster on Raw Expression vs  on Predicted Expression\n",
      " - ARS: 0.041138, AMIS: 0.078593, HOMO: 0.089842, NMI: 0.079246\n",
      "fold 4, median correlation: 0.27403045692845285 (TransImpClsSpa)\n",
      "Cluster on Raw Expression vs  on Predicted Expression\n",
      " - ARS: 0.072289, AMIS: 0.094932, HOMO: 0.093392, NMI: 0.095677\n",
      "\t\t\t0.2356610237098042 (stPlus)\n",
      "Cluster on Raw Expression vs  on Predicted Expression\n",
      " - ARS: 0.048119, AMIS: 0.080144, HOMO: 0.089574, NMI: 0.080812\n",
      "\t\t\t0.22733023498071797 (spaGE)\n"
     ]
    },
    {
     "name": "stderr",
     "output_type": "stream",
     "text": [
      "INFO:root:123 training genes are saved in `uns``training_genes` of both single cell and spatial Anndatas.\n",
      "INFO:root:123 overlapped genes are saved in `uns``overlap_genes` of both single cell and spatial Anndatas.\n",
      "INFO:root:uniform based density prior is calculated and saved in `obs``uniform_density` of the spatial Anndata.\n",
      "INFO:root:rna count based density prior is calculated and saved in `obs``rna_count_based_density` of the spatial Anndata.\n",
      "INFO:root:Allocate tensors for mapping.\n",
      "INFO:root:Begin training with 123 genes and rna_count_based density_prior in clusters mode...\n",
      "INFO:root:Printing scores every 100 epochs.\n"
     ]
    },
    {
     "name": "stdout",
     "output_type": "stream",
     "text": [
      "Score: 0.437, KL reg: 0.101\n",
      "Score: 0.661, KL reg: 0.002\n",
      "Score: 0.662, KL reg: 0.002\n",
      "Score: 0.663, KL reg: 0.002\n",
      "Score: 0.663, KL reg: 0.002\n",
      "Score: 0.663, KL reg: 0.002\n",
      "Score: 0.663, KL reg: 0.002\n",
      "Score: 0.663, KL reg: 0.002\n",
      "Score: 0.663, KL reg: 0.002\n",
      "Score: 0.663, KL reg: 0.002\n"
     ]
    },
    {
     "name": "stderr",
     "output_type": "stream",
     "text": [
      "INFO:root:Saving results..\n"
     ]
    },
    {
     "name": "stdout",
     "output_type": "stream",
     "text": [
      "Cluster on Raw Expression vs  on Predicted Expression\n",
      " - ARS: 0.044704, AMIS: 0.077923, HOMO: 0.088828, NMI: 0.078581\n",
      "\t\t\t0.2830945919730508 (Tangram)\n",
      "0.27322788572156775 (TransImpSpa) 0.2783631214199657 (TransImp) 0.28280039215836916 (TransImpCls) 0.2801339827156346 (TransImpClsSpa) 0.26358982611465287 (stPlus) 0.25811461426728405 (spaGE) 0.2893536322874469 (Tangram)\n"
     ]
    }
   ],
   "source": [
    "kf = KFold(n_splits=5, shuffle=True, random_state=0)\n",
    "kf.get_n_splits(raw_shared_gene)\n",
    "\n",
    "df_transImpSpa = pd.DataFrame(np.zeros((spa_adata.n_obs, len(raw_shared_gene))), columns=raw_shared_gene)\n",
    "df_transImpCls = pd.DataFrame(np.zeros((spa_adata.n_obs, len(raw_shared_gene))), columns=raw_shared_gene)\n",
    "df_transImpClsSpa = pd.DataFrame(np.zeros((spa_adata.n_obs, len(raw_shared_gene))), columns=raw_shared_gene)\n",
    "df_transImp = pd.DataFrame(np.zeros((spa_adata.n_obs, len(raw_shared_gene))), columns=raw_shared_gene)\n",
    "df_stplus_res = pd.DataFrame(np.zeros((spa_adata.n_obs, len(raw_shared_gene))), columns=raw_shared_gene)\n",
    "df_spaGE_res = pd.DataFrame(np.zeros((spa_adata.n_obs, len(raw_shared_gene))), columns=raw_shared_gene)\n",
    "df_tangram_res = pd.DataFrame(np.zeros((spa_adata.n_obs, len(raw_shared_gene))), columns=raw_shared_gene)\n",
    "\n",
    "\n",
    "spa_cluster_metrics = []\n",
    "method_names = []\n",
    "for idx, (train_ind, test_ind) in enumerate(kf.split(raw_shared_gene)):    \n",
    "    print(f\"\\n===== Fold {idx+1} =====\\nNumber of train genes: {len(train_ind)}, Number of test genes: {len(test_ind)}\")\n",
    "    train_gene = raw_shared_gene[train_ind]\n",
    "    test_gene  = raw_shared_gene[test_ind]\n",
    "    \n",
    "    test_spatial_df = raw_spatial_df[test_gene]\n",
    "    spatial_df = raw_spatial_df[train_gene]\n",
    "    scrna_df   = raw_scrna_df\n",
    "\n",
    "    df_transImpSpa[test_gene] = expTransImp(\n",
    "            df_ref=raw_scrna_df,\n",
    "            df_tgt=raw_spatial_df,\n",
    "            train_gene=train_gene,\n",
    "            test_gene=test_gene,\n",
    "            signature_mode='cell',\n",
    "            mapping_mode='lowrank',\n",
    "            mapping_lowdim=128,\n",
    "            wt_spa=1,\n",
    "            spa_adj=spa_adata.obsp['spatial_connectivities'].tocoo(),\n",
    "            seed=seed,\n",
    "            device=device)\n",
    "    \n",
    "    spa_cluster_metrics.append(spa_agglomerative(np.hstack([df_transImpSpa[test_gene].values, raw_spatial_df[train_gene].values])))\n",
    "    method_names.append(\"transImpSpa\")\n",
    "\n",
    "    corr_transImpSpa_res = calc_corr(raw_spatial_df, df_transImpSpa, test_gene)\n",
    "    print(f'fold {idx}, median correlation: {np.median(corr_transImpSpa_res)} (TransImpSpa)')\n",
    "\n",
    "    df_transImpCls[test_gene] = expTransImp(\n",
    "            df_ref=raw_scrna_df,\n",
    "            df_tgt=raw_spatial_df,\n",
    "            train_gene=train_gene,\n",
    "            test_gene=test_gene,\n",
    "            ct_list=ct_list,\n",
    "            classes=classes,\n",
    "            signature_mode='cluster',\n",
    "            mapping_mode='full',\n",
    "            seed=seed,\n",
    "            device=device)\n",
    "\n",
    "    spa_cluster_metrics.append(spa_agglomerative(np.hstack([df_transImpCls[test_gene].values, raw_spatial_df[train_gene].values])))\n",
    "    method_names.append('transImpCls')\n",
    "    corr_transImpSpa_res = calc_corr(raw_spatial_df, df_transImpCls, test_gene)\n",
    "    print(f'fold {idx}, median correlation: {np.median(corr_transImpSpa_res)} (TransImpCls)')\n",
    "\n",
    "    df_transImp[test_gene] = expTransImp(\n",
    "            df_ref=raw_scrna_df,\n",
    "            df_tgt=raw_spatial_df,\n",
    "            train_gene=train_gene,\n",
    "            test_gene=test_gene,\n",
    "            signature_mode='cell',\n",
    "            mapping_mode='lowrank',\n",
    "            mapping_lowdim=128,\n",
    "            seed=seed,\n",
    "            device=device)\n",
    "\n",
    "    spa_cluster_metrics.append(spa_agglomerative(np.hstack([df_transImp[test_gene].values, raw_spatial_df[train_gene].values])))\n",
    "    method_names.append(\"transImp\")\n",
    "    corr_transImpSpa_res = calc_corr(raw_spatial_df, df_transImp, test_gene)\n",
    "    print(f'fold {idx}, median correlation: {np.median(corr_transImpSpa_res)} (TransImp)')\n",
    "\n",
    "    df_transImpClsSpa[test_gene] = expTransImp(\n",
    "            df_ref=raw_scrna_df,\n",
    "            df_tgt=raw_spatial_df,\n",
    "            train_gene=train_gene,\n",
    "            test_gene=test_gene,\n",
    "            ct_list=ct_list,\n",
    "            classes=classes,\n",
    "            spa_adj=spa_adata.obsp['spatial_connectivities'].tocoo(),\n",
    "            signature_mode='cluster',\n",
    "            mapping_mode='full',\n",
    "            wt_spa=1,\n",
    "            seed=seed,\n",
    "            device=device)\n",
    "    \n",
    "    spa_cluster_metrics.append(spa_agglomerative(np.hstack([df_transImpClsSpa[test_gene].values, raw_spatial_df[train_gene].values])))\n",
    "    method_names.append(\"transImpClsSpa\")\n",
    "    corr_transImpSpa_res = calc_corr(raw_spatial_df, df_transImpClsSpa, test_gene)\n",
    "    print(f'fold {idx}, median correlation: {np.median(corr_transImpSpa_res)} (TransImpClsSpa)')\n",
    "\n",
    "    \n",
    "    df_stplus_res[test_gene] = stPlus.stPlus(spatial_df, scrna_df, test_gene, \"tmp_mm\", verbose=False, random_seed=seed, device=device)\n",
    "    spa_cluster_metrics.append(spa_agglomerative(np.hstack([df_stplus_res[test_gene].values, raw_spatial_df[train_gene].values])))\n",
    "    method_names.append(\"stPlus\")\n",
    "    corr_res_stplus = calc_corr(raw_spatial_df, df_stplus_res, test_gene)\n",
    "    print(f'\\t\\t\\t{np.median(corr_res_stplus)} (stPlus)')\n",
    "\n",
    "    df_spaGE_res[test_gene]  = SpaGE_impute(scrna_df, spatial_df, train_gene, test_gene)\n",
    "    spa_cluster_metrics.append(spa_agglomerative(np.hstack([df_spaGE_res[test_gene].values, raw_spatial_df[train_gene].values])))\n",
    "    method_names.append(\"spaGE\")\n",
    "    corr_res_spaGE = calc_corr(raw_spatial_df, df_spaGE_res, test_gene)\n",
    "    print(f'\\t\\t\\t{np.median(corr_res_spaGE)} (spaGE)')\n",
    "\n",
    "    df_tangram_res[test_gene] = Tangram_impute(Moffit_adata, spa_adata, train_gene, test_gene, device, cls_key)\n",
    "    spa_cluster_metrics.append(spa_agglomerative(np.hstack([df_tangram_res[test_gene].values, raw_spatial_df[train_gene].values])))\n",
    "    method_names.append(\"tangram\")\n",
    "    corr_res_tangram = calc_corr(raw_spatial_df, df_tangram_res, test_gene)\n",
    "    print(f'\\t\\t\\t{np.median(corr_res_tangram)} (Tangram)')\n",
    "\n",
    "corr_transImpSpa_res = calc_corr(raw_spatial_df, df_transImpSpa, raw_shared_gene)\n",
    "corr_transImp_res = calc_corr(raw_spatial_df, df_transImp, raw_shared_gene)\n",
    "corr_transImpCls_res = calc_corr(raw_spatial_df, df_transImpCls, raw_shared_gene)\n",
    "corr_transImpClsSpa_res = calc_corr(raw_spatial_df, df_transImpClsSpa, raw_shared_gene)\n",
    "corr_res_stplus = calc_corr(raw_spatial_df, df_stplus_res, raw_shared_gene)\n",
    "corr_res_spaGE = calc_corr(raw_spatial_df, df_spaGE_res, raw_shared_gene)\n",
    "corr_res_tangram = calc_corr(raw_spatial_df, df_tangram_res, raw_shared_gene)   \n",
    "\n",
    "print(np.median(corr_transImpSpa_res), \"(TransImpSpa)\", \n",
    "      np.median(corr_transImp_res), \"(TransImp)\", \n",
    "      np.median(corr_transImpCls_res), \"(TransImpCls)\", \n",
    "      np.median(corr_transImpClsSpa_res), \"(TransImpClsSpa)\", \n",
    "      np.median(corr_res_stplus), \"(stPlus)\", \n",
    "      np.median(corr_res_spaGE), \"(spaGE)\",\n",
    "      np.median(corr_res_tangram), \"(Tangram)\"\n",
    "      )"
   ]
  },
  {
   "cell_type": "code",
   "execution_count": 8,
   "metadata": {},
   "outputs": [],
   "source": [
    "df_transImp.to_csv('output/merfish_moffit_transImpute.csv')\n",
    "df_transImpSpa.to_csv('output/merfish_moffit_transImpSpa.csv')\n",
    "df_transImpCls.to_csv('output/merfish_moffit_transImpCls.csv')\n",
    "df_transImpClsSpa.to_csv('output/merfish_moffit_transImpClsSpa.csv')\n",
    "df_spaGE_res.to_csv('output/merfish_moffit_spaGE.csv')\n",
    "df_stplus_res.to_csv('output/merfish_moffit_stPlus.csv')\n",
    "df_tangram_res.to_csv('output/merfish_moffit_Tangram.csv')\n",
    "\n",
    "df = pd.DataFrame(spa_cluster_metrics)\n",
    "df['method'] = method_names\n",
    "df.to_csv(\"output/clustering_5fold/merfish_moffit.csv\")\n"
   ]
  },
  {
   "cell_type": "code",
   "execution_count": 2,
   "metadata": {},
   "outputs": [
    {
     "data": {
      "text/html": [
       "<div>\n",
       "<style scoped>\n",
       "    .dataframe tbody tr th:only-of-type {\n",
       "        vertical-align: middle;\n",
       "    }\n",
       "\n",
       "    .dataframe tbody tr th {\n",
       "        vertical-align: top;\n",
       "    }\n",
       "\n",
       "    .dataframe thead th {\n",
       "        text-align: right;\n",
       "    }\n",
       "</style>\n",
       "<table border=\"1\" class=\"dataframe\">\n",
       "  <thead>\n",
       "    <tr style=\"text-align: right;\">\n",
       "      <th></th>\n",
       "      <th>ARS</th>\n",
       "      <th>AMIS</th>\n",
       "      <th>HOMO</th>\n",
       "      <th>NMI</th>\n",
       "    </tr>\n",
       "    <tr>\n",
       "      <th>method</th>\n",
       "      <th></th>\n",
       "      <th></th>\n",
       "      <th></th>\n",
       "      <th></th>\n",
       "    </tr>\n",
       "  </thead>\n",
       "  <tbody>\n",
       "    <tr>\n",
       "      <th>spaGE</th>\n",
       "      <td>0.039564</td>\n",
       "      <td>0.074565</td>\n",
       "      <td>0.082379</td>\n",
       "      <td>0.075245</td>\n",
       "    </tr>\n",
       "    <tr>\n",
       "      <th>stPlus</th>\n",
       "      <td>0.045572</td>\n",
       "      <td>0.082171</td>\n",
       "      <td>0.089317</td>\n",
       "      <td>0.082855</td>\n",
       "    </tr>\n",
       "    <tr>\n",
       "      <th>tangram</th>\n",
       "      <td>0.041625</td>\n",
       "      <td>0.075826</td>\n",
       "      <td>0.085092</td>\n",
       "      <td>0.076494</td>\n",
       "    </tr>\n",
       "    <tr>\n",
       "      <th>transImp</th>\n",
       "      <td>0.045357</td>\n",
       "      <td>0.078954</td>\n",
       "      <td>0.087845</td>\n",
       "      <td>0.079624</td>\n",
       "    </tr>\n",
       "    <tr>\n",
       "      <th>transImpCls</th>\n",
       "      <td>0.049668</td>\n",
       "      <td>0.080347</td>\n",
       "      <td>0.089345</td>\n",
       "      <td>0.081018</td>\n",
       "    </tr>\n",
       "    <tr>\n",
       "      <th>transImpClsSpa</th>\n",
       "      <td>0.046616</td>\n",
       "      <td>0.078892</td>\n",
       "      <td>0.087313</td>\n",
       "      <td>0.079566</td>\n",
       "    </tr>\n",
       "    <tr>\n",
       "      <th>transImpSpa</th>\n",
       "      <td>0.045435</td>\n",
       "      <td>0.083965</td>\n",
       "      <td>0.092097</td>\n",
       "      <td>0.084641</td>\n",
       "    </tr>\n",
       "  </tbody>\n",
       "</table>\n",
       "</div>"
      ],
      "text/plain": [
       "                     ARS      AMIS      HOMO       NMI\n",
       "method                                                \n",
       "spaGE           0.039564  0.074565  0.082379  0.075245\n",
       "stPlus          0.045572  0.082171  0.089317  0.082855\n",
       "tangram         0.041625  0.075826  0.085092  0.076494\n",
       "transImp        0.045357  0.078954  0.087845  0.079624\n",
       "transImpCls     0.049668  0.080347  0.089345  0.081018\n",
       "transImpClsSpa  0.046616  0.078892  0.087313  0.079566\n",
       "transImpSpa     0.045435  0.083965  0.092097  0.084641"
      ]
     },
     "execution_count": 2,
     "metadata": {},
     "output_type": "execute_result"
    }
   ],
   "source": [
    "df = pd.read_csv(\"output/clustering_5fold/merfish_moffit.csv\", index_col=0)\n",
    "df.groupby('method').mean()"
   ]
  },
  {
   "cell_type": "code",
   "execution_count": 10,
   "metadata": {},
   "outputs": [],
   "source": [
    "dict_df = {\"TransImp\":df_transImp, \n",
    "           \"TransImpSpa\":df_transImpSpa, \n",
    "           \"TransImpCls\":df_transImpCls,\n",
    "           \"TransImpClsSpa\":df_transImpClsSpa,\n",
    "           \"spaGE\": df_spaGE_res, \"stPlus\": df_stplus_res, \n",
    "           \"Tangram\":df_tangram_res\n",
    "           }\n",
    "sq.gr.spatial_autocorr(\n",
    "    spa_adata,\n",
    "    n_jobs=10,\n",
    ")\n",
    "sq.gr.spatial_autocorr(\n",
    "    spa_adata,\n",
    "    n_jobs=10,\n",
    "    mode='geary',\n",
    ")\n",
    "\n",
    "dict_adata = {name: compute_autocorr(spa_adata[:, raw_shared_gene].copy(), df) for name, df in dict_df.items()}\n"
   ]
  },
  {
   "cell_type": "code",
   "execution_count": 11,
   "metadata": {},
   "outputs": [
    {
     "name": "stdout",
     "output_type": "stream",
     "text": [
      "Mean Squared Error\n",
      "Moran's I:\n",
      "\n",
      "\tTrue vs TransImp: 0.008554\n",
      "\tTrue vs TransImpSpa: 0.005353\n",
      "\tTrue vs TransImpCls: 0.007834\n",
      "\tTrue vs TransImpClsSpa: 0.004871\n",
      "\tTrue vs spaGE: 0.003916\n",
      "\tTrue vs stPlus: 0.005143\n",
      "\tTrue vs Tangram: 0.008349\n",
      "Geary's C:\n",
      "\n",
      "\tTrue vs TransImp: 0.008628\n",
      "\tTrue vs TransImpSpa: 0.005370\n",
      "\tTrue vs TransImpCls: 0.007751\n",
      "\tTrue vs TransImpClsSpa: 0.004840\n",
      "\tTrue vs spaGE: 0.003970\n",
      "\tTrue vs stPlus: 0.005206\n",
      "\tTrue vs Tangram: 0.008244\n"
     ]
    }
   ],
   "source": [
    "from sklearn.metrics import mean_squared_error\n",
    "moranIs = {name:mean_squared_error(spa_adata.uns['moranI'].loc[raw_shared_gene].I, imp_adata.uns['moranI'].loc[raw_shared_gene].I) for name, imp_adata in dict_adata.items()}\n",
    "gearyCs = {name:mean_squared_error(spa_adata.uns['gearyC'].loc[raw_shared_gene].C, imp_adata.uns['gearyC'].loc[raw_shared_gene].C) for name, imp_adata in dict_adata.items()}\n",
    "\n",
    "print(\"Mean Squared Error\\nMoran's I:\\n\")\n",
    "print(\"\\n\".join([f\"\\tTrue vs {method}: {score:.6f}\" for method, score in moranIs.items()]))\n",
    "print(\"Geary's C:\\n\")\n",
    "print(\"\\n\".join([f\"\\tTrue vs {method}: {score:.6f}\" for method, score in gearyCs.items()]))\n"
   ]
  },
  {
   "cell_type": "code",
   "execution_count": null,
   "metadata": {},
   "outputs": [],
   "source": []
  }
 ],
 "metadata": {
  "interpreter": {
   "hash": "6882e18cf33c55392f753cb1e86fe7d6ba9af380909deeca032ff41f78588c0c"
  },
  "kernelspec": {
   "display_name": "Python 3.7.10 64-bit (conda)",
   "language": "python",
   "name": "python3"
  },
  "language_info": {
   "codemirror_mode": {
    "name": "ipython",
    "version": 3
   },
   "file_extension": ".py",
   "mimetype": "text/x-python",
   "name": "python",
   "nbconvert_exporter": "python",
   "pygments_lexer": "ipython3",
   "version": "3.7.12"
  },
  "orig_nbformat": 4
 },
 "nbformat": 4,
 "nbformat_minor": 2
}
