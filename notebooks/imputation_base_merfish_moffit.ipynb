{
 "cells": [
  {
   "cell_type": "code",
   "execution_count": 1,
   "metadata": {},
   "outputs": [],
   "source": [
    "import anndata\n",
    "import torch\n",
    "import stPlus\n",
    "import os\n",
    "import random\n",
    "import warnings\n",
    "\n",
    "import squidpy as sq\n",
    "import numpy as np\n",
    "import scanpy as sc\n",
    "import pandas as pd\n",
    "\n",
    "from sklearn.model_selection import KFold\n",
    "from transpa.eval_util import calc_corr\n",
    "from transpa.util import expTransImp, leiden_cluster, compute_autocorr\n",
    "from benchmark import SpaGE_impute, Tangram_impute\n",
    "\n",
    "\n",
    "warnings.filterwarnings('ignore')\n",
    "\n",
    "seed = 10\n",
    "device = torch.device(\"cuda:2\") if torch.cuda.is_available() else torch.device(\"cpu\")\n",
    "torch.manual_seed(seed)\n",
    "random.seed(seed)\n",
    "np.random.seed(seed)"
   ]
  },
  {
   "cell_type": "code",
   "execution_count": 2,
   "metadata": {},
   "outputs": [],
   "source": [
    "merfish_path = '../../data/ST/Merfish/merfish.h5ad'\n",
    "if os.path.exists(merfish_path):\n",
    "    spa_adata = sc.read(merfish_path)\n",
    "else:\n",
    "    merfish = pd.read_csv('../../data/ST/Merfish/Moffitt_and_Bambah-Mukku_et_al_merfish_all_cells.csv')\n",
    "    merfish_1 = merfish.loc[merfish['Animal_ID'] == 1, :]\n",
    "    merfish_1 = merfish_1.loc[merfish_1['Cell_class'] != 'Ambiguous',:]\n",
    "    merfish_meta = merfish_1.iloc[:,0:9]\n",
    "    merfish_data = merfish_1.iloc[:,9:171]\n",
    "    merfish_data = merfish_data.drop(columns = ['Blank_1','Blank_2','Blank_3','Blank_4','Blank_5','Fos'])\n",
    "\n",
    "    spa_adata = anndata.AnnData(merfish_data.values)\n",
    "    spa_adata.obs['X'] = merfish_1.Centroid_X.values\n",
    "    spa_adata.obs['Y'] = merfish_1.Centroid_Y.values\n",
    "    spa_adata.var_names = merfish_data.columns.values\n",
    "    spa_adata.var_names_make_unique()\n",
    "    sc.pp.normalize_total(spa_adata)\n",
    "    sc.pp.log1p(spa_adata)\n",
    "    spa_adata.write(merfish_path)\n",
    "\n",
    "\n",
    "Moffit_path = '../../data/scRNAseq/Moffit/moffit_adata.h5ad'\n",
    "\n",
    "if os.path.exists(Moffit_path):\n",
    "    Moffit_adata = sc.read(Moffit_path)\n",
    "else:\n",
    "    Moffit_adata = sc.read_mtx(\"../../data/scRNAseq/Moffit/GSE113576/matrix.mtx\").T\n",
    "    genes = pd.read_csv('../../data/scRNAseq/Moffit/GSE113576/genes.tsv',sep='\\t',header=None).loc[:, 1].values\n",
    "    barcodes = pd.read_csv('../../data/scRNAseq/Moffit/GSE113576/barcodes.tsv',sep='\\t',header=None).loc[:, 0].values\n",
    "\n",
    "    Moffit_adata.var_names = genes\n",
    "    Moffit_adata.obs_names = barcodes\n",
    "    Moffit_adata.var_names_make_unique()\n",
    "    classes, ct_list = leiden_cluster(Moffit_adata)\n",
    "    cls_key = 'leiden'\n",
    "    Moffit_adata.obs[cls_key] = classes\n",
    "    sc.pp.filter_genes(Moffit_adata, min_cells=10)\n",
    "    sc.pp.normalize_total(Moffit_adata)\n",
    "    sc.pp.log1p(Moffit_adata)\n",
    "    Moffit_adata.write(Moffit_path)\n",
    "    \n",
    "spa_adata.var_names_make_unique()\n",
    "Moffit_adata.var_names_make_unique()\n",
    "ct_list = np.unique(Moffit_adata.obs.leiden)\n",
    "classes = Moffit_adata.obs.leiden.values\n",
    "cls_key = 'leiden'"
   ]
  },
  {
   "cell_type": "code",
   "execution_count": 3,
   "metadata": {},
   "outputs": [
    {
     "data": {
      "text/plain": [
       "((64373, 155), (31299, 18646), (153,))"
      ]
     },
     "execution_count": 3,
     "metadata": {},
     "output_type": "execute_result"
    }
   ],
   "source": [
    "raw_spatial_df  = pd.DataFrame(spa_adata.X, columns=spa_adata.var_names)\n",
    "# raw_scrna_df    = pd.DataFrame.sparse.from_spmatrix(Moffit_adata.X, columns=Moffit_adata.var_names)\n",
    "raw_scrna_df    = pd.DataFrame(Moffit_adata.X.toarray(), columns=Moffit_adata.var_names)\n",
    "raw_shared_gene = np.intersect1d(raw_spatial_df.columns, raw_scrna_df.columns)\n",
    "\n",
    "raw_spatial_df.to_csv('../../output/merfish_raw.csv')\n",
    "raw_spatial_df.shape, raw_scrna_df.shape, raw_shared_gene.shape"
   ]
  },
  {
   "cell_type": "code",
   "execution_count": 4,
   "metadata": {},
   "outputs": [],
   "source": [
    "spa_adata.obsm['spatial'] = np.hstack([spa_adata.obs.X.values.reshape(-1,1), spa_adata.obs.Y.values.reshape(-1,1)])\n",
    "np.save('../../output/merfish_locations.npy', spa_adata.obsm['spatial'])\n",
    "sq.gr.spatial_neighbors(spa_adata)"
   ]
  },
  {
   "cell_type": "code",
   "execution_count": 5,
   "metadata": {},
   "outputs": [
    {
     "name": "stdout",
     "output_type": "stream",
     "text": [
      "\n",
      "===== Fold 1 =====\n",
      "Number of train genes: 122, Number of test genes: 31\n"
     ]
    },
    {
     "name": "stderr",
     "output_type": "stream",
     "text": [
      "[TransImp] Epoch: 1000/1000, loss: 0.753368, (IMP) 0.751240, (SPA) 1.0 x 0.002128: 100%|██████████| 1000/1000 [00:10<00:00, 93.62it/s]\n"
     ]
    },
    {
     "name": "stdout",
     "output_type": "stream",
     "text": [
      "fold 0, median cosine similarity: 0.6294244527816772 (TransImpSpa)\n"
     ]
    },
    {
     "name": "stderr",
     "output_type": "stream",
     "text": [
      "[TransImp] Epoch: 1000/1000, loss: 0.843272, (IMP) 0.843272, (SPA) 1.0 x 0.000000: 100%|██████████| 1000/1000 [00:04<00:00, 238.63it/s]\n"
     ]
    },
    {
     "name": "stdout",
     "output_type": "stream",
     "text": [
      "fold 0, median cosine similarity: 0.6143948435783386 (TransImpCls)\n"
     ]
    },
    {
     "name": "stderr",
     "output_type": "stream",
     "text": [
      "[TransImp] Epoch: 1000/1000, loss: 0.739418, (IMP) 0.739418, (SPA) 1.0 x 0.000000: 100%|██████████| 1000/1000 [00:06<00:00, 165.70it/s]\n"
     ]
    },
    {
     "name": "stdout",
     "output_type": "stream",
     "text": [
      "fold 0, median cosine similarity: 0.631963849067688 (TransImp)\n"
     ]
    },
    {
     "name": "stderr",
     "output_type": "stream",
     "text": [
      "[TransImp] Epoch: 1000/1000, loss: 0.848029, (IMP) 0.844415, (SPA) 1.0 x 0.003614: 100%|██████████| 1000/1000 [00:08<00:00, 122.05it/s]\n"
     ]
    },
    {
     "name": "stdout",
     "output_type": "stream",
     "text": [
      "fold 0, median cosine similarity: 0.6140915751457214 (TransImpClsSpa)\n",
      "fold 0, median cosine similarity: 0.6520559997724295 (stPlus)\n",
      "fold 0, median cosine similarity: 0.6209453817422191 (spaGE)\n"
     ]
    },
    {
     "name": "stderr",
     "output_type": "stream",
     "text": [
      "INFO:root:122 training genes are saved in `uns``training_genes` of both single cell and spatial Anndatas.\n",
      "INFO:root:122 overlapped genes are saved in `uns``overlap_genes` of both single cell and spatial Anndatas.\n",
      "INFO:root:uniform based density prior is calculated and saved in `obs``uniform_density` of the spatial Anndata.\n",
      "INFO:root:rna count based density prior is calculated and saved in `obs``rna_count_based_density` of the spatial Anndata.\n",
      "INFO:root:Allocate tensors for mapping.\n",
      "INFO:root:Begin training with 122 genes and rna_count_based density_prior in clusters mode...\n",
      "INFO:root:Printing scores every 100 epochs.\n"
     ]
    },
    {
     "name": "stdout",
     "output_type": "stream",
     "text": [
      "Score: 0.426, KL reg: 0.088\n",
      "Score: 0.651, KL reg: 0.001\n",
      "Score: 0.653, KL reg: 0.001\n",
      "Score: 0.653, KL reg: 0.001\n",
      "Score: 0.654, KL reg: 0.001\n",
      "Score: 0.654, KL reg: 0.001\n",
      "Score: 0.654, KL reg: 0.001\n",
      "Score: 0.654, KL reg: 0.001\n",
      "Score: 0.654, KL reg: 0.001\n",
      "Score: 0.654, KL reg: 0.001\n"
     ]
    },
    {
     "name": "stderr",
     "output_type": "stream",
     "text": [
      "INFO:root:Saving results..\n"
     ]
    },
    {
     "name": "stdout",
     "output_type": "stream",
     "text": [
      "fold 0, median cosine similarity: 0.6181749105453491 (Tangram)\n",
      "\n",
      "===== Fold 2 =====\n",
      "Number of train genes: 122, Number of test genes: 31\n"
     ]
    },
    {
     "name": "stderr",
     "output_type": "stream",
     "text": [
      "[TransImp] Epoch: 1000/1000, loss: 0.750957, (IMP) 0.748658, (SPA) 1.0 x 0.002299: 100%|██████████| 1000/1000 [00:09<00:00, 102.33it/s]\n"
     ]
    },
    {
     "name": "stdout",
     "output_type": "stream",
     "text": [
      "fold 1, median cosine similarity: 0.5704262256622314 (TransImpSpa)\n"
     ]
    },
    {
     "name": "stderr",
     "output_type": "stream",
     "text": [
      "[TransImp] Epoch: 1000/1000, loss: 0.825958, (IMP) 0.825958, (SPA) 1.0 x 0.000000: 100%|██████████| 1000/1000 [00:04<00:00, 233.66it/s]\n"
     ]
    },
    {
     "name": "stdout",
     "output_type": "stream",
     "text": [
      "fold 1, median cosine similarity: 0.5894006490707397 (TransImpCls)\n"
     ]
    },
    {
     "name": "stderr",
     "output_type": "stream",
     "text": [
      "[TransImp] Epoch: 1000/1000, loss: 0.741036, (IMP) 0.741036, (SPA) 1.0 x 0.000000: 100%|██████████| 1000/1000 [00:06<00:00, 161.21it/s]\n"
     ]
    },
    {
     "name": "stdout",
     "output_type": "stream",
     "text": [
      "fold 1, median cosine similarity: 0.5785315632820129 (TransImp)\n"
     ]
    },
    {
     "name": "stderr",
     "output_type": "stream",
     "text": [
      "[TransImp] Epoch: 1000/1000, loss: 0.830989, (IMP) 0.827212, (SPA) 1.0 x 0.003777: 100%|██████████| 1000/1000 [00:07<00:00, 129.03it/s]\n"
     ]
    },
    {
     "name": "stdout",
     "output_type": "stream",
     "text": [
      "fold 1, median cosine similarity: 0.5885517001152039 (TransImpClsSpa)\n",
      "fold 1, median cosine similarity: 0.5667026177511701 (stPlus)\n",
      "fold 1, median cosine similarity: 0.5455328067416737 (spaGE)\n"
     ]
    },
    {
     "name": "stderr",
     "output_type": "stream",
     "text": [
      "INFO:root:122 training genes are saved in `uns``training_genes` of both single cell and spatial Anndatas.\n",
      "INFO:root:122 overlapped genes are saved in `uns``overlap_genes` of both single cell and spatial Anndatas.\n",
      "INFO:root:uniform based density prior is calculated and saved in `obs``uniform_density` of the spatial Anndata.\n",
      "INFO:root:rna count based density prior is calculated and saved in `obs``rna_count_based_density` of the spatial Anndata.\n",
      "INFO:root:Allocate tensors for mapping.\n",
      "INFO:root:Begin training with 122 genes and rna_count_based density_prior in clusters mode...\n",
      "INFO:root:Printing scores every 100 epochs.\n"
     ]
    },
    {
     "name": "stdout",
     "output_type": "stream",
     "text": [
      "Score: 0.436, KL reg: 0.107\n",
      "Score: 0.657, KL reg: 0.002\n",
      "Score: 0.658, KL reg: 0.002\n",
      "Score: 0.659, KL reg: 0.001\n",
      "Score: 0.659, KL reg: 0.001\n",
      "Score: 0.659, KL reg: 0.001\n",
      "Score: 0.659, KL reg: 0.001\n",
      "Score: 0.659, KL reg: 0.001\n",
      "Score: 0.659, KL reg: 0.001\n",
      "Score: 0.659, KL reg: 0.001\n"
     ]
    },
    {
     "name": "stderr",
     "output_type": "stream",
     "text": [
      "INFO:root:Saving results..\n"
     ]
    },
    {
     "name": "stdout",
     "output_type": "stream",
     "text": [
      "fold 1, median cosine similarity: 0.5834975838661194 (Tangram)\n",
      "\n",
      "===== Fold 3 =====\n",
      "Number of train genes: 122, Number of test genes: 31\n"
     ]
    },
    {
     "name": "stderr",
     "output_type": "stream",
     "text": [
      "[TransImp] Epoch: 1000/1000, loss: 0.633744, (IMP) 0.632621, (SPA) 1.0 x 0.001124: 100%|██████████| 1000/1000 [00:09<00:00, 101.67it/s]\n"
     ]
    },
    {
     "name": "stdout",
     "output_type": "stream",
     "text": [
      "fold 2, median cosine similarity: 0.5843018889427185 (TransImpSpa)\n"
     ]
    },
    {
     "name": "stderr",
     "output_type": "stream",
     "text": [
      "[TransImp] Epoch: 1000/1000, loss: 0.730507, (IMP) 0.730507, (SPA) 1.0 x 0.000000: 100%|██████████| 1000/1000 [00:04<00:00, 232.08it/s]\n"
     ]
    },
    {
     "name": "stdout",
     "output_type": "stream",
     "text": [
      "fold 2, median cosine similarity: 0.5610071420669556 (TransImpCls)\n"
     ]
    },
    {
     "name": "stderr",
     "output_type": "stream",
     "text": [
      "[TransImp] Epoch: 1000/1000, loss: 0.629037, (IMP) 0.629037, (SPA) 1.0 x 0.000000: 100%|██████████| 1000/1000 [00:06<00:00, 160.97it/s]\n"
     ]
    },
    {
     "name": "stdout",
     "output_type": "stream",
     "text": [
      "fold 2, median cosine similarity: 0.5875070095062256 (TransImp)\n"
     ]
    },
    {
     "name": "stderr",
     "output_type": "stream",
     "text": [
      "[TransImp] Epoch: 1000/1000, loss: 0.734084, (IMP) 0.731796, (SPA) 1.0 x 0.002288: 100%|██████████| 1000/1000 [00:07<00:00, 128.50it/s]\n"
     ]
    },
    {
     "name": "stdout",
     "output_type": "stream",
     "text": [
      "fold 2, median cosine similarity: 0.5561543703079224 (TransImpClsSpa)\n",
      "fold 2, median cosine similarity: 0.592972873075764 (stPlus)\n",
      "fold 2, median cosine similarity: 0.5651410027251103 (spaGE)\n"
     ]
    },
    {
     "name": "stderr",
     "output_type": "stream",
     "text": [
      "INFO:root:122 training genes are saved in `uns``training_genes` of both single cell and spatial Anndatas.\n",
      "INFO:root:122 overlapped genes are saved in `uns``overlap_genes` of both single cell and spatial Anndatas.\n",
      "INFO:root:uniform based density prior is calculated and saved in `obs``uniform_density` of the spatial Anndata.\n",
      "INFO:root:rna count based density prior is calculated and saved in `obs``rna_count_based_density` of the spatial Anndata.\n",
      "INFO:root:Allocate tensors for mapping.\n",
      "INFO:root:Begin training with 122 genes and rna_count_based density_prior in clusters mode...\n",
      "INFO:root:Printing scores every 100 epochs.\n"
     ]
    },
    {
     "name": "stdout",
     "output_type": "stream",
     "text": [
      "Score: 0.436, KL reg: 0.104\n",
      "Score: 0.653, KL reg: 0.001\n",
      "Score: 0.655, KL reg: 0.001\n",
      "Score: 0.655, KL reg: 0.001\n",
      "Score: 0.655, KL reg: 0.001\n",
      "Score: 0.655, KL reg: 0.001\n",
      "Score: 0.655, KL reg: 0.001\n",
      "Score: 0.656, KL reg: 0.001\n",
      "Score: 0.656, KL reg: 0.001\n",
      "Score: 0.656, KL reg: 0.001\n"
     ]
    },
    {
     "name": "stderr",
     "output_type": "stream",
     "text": [
      "INFO:root:Saving results..\n"
     ]
    },
    {
     "name": "stdout",
     "output_type": "stream",
     "text": [
      "fold 2, median cosine similarity: 0.539432168006897 (Tangram)\n",
      "\n",
      "===== Fold 4 =====\n",
      "Number of train genes: 123, Number of test genes: 30\n"
     ]
    },
    {
     "name": "stderr",
     "output_type": "stream",
     "text": [
      "[TransImp] Epoch: 1000/1000, loss: 0.758192, (IMP) 0.755873, (SPA) 1.0 x 0.002319: 100%|██████████| 1000/1000 [00:09<00:00, 105.20it/s]\n"
     ]
    },
    {
     "name": "stdout",
     "output_type": "stream",
     "text": [
      "fold 3, median cosine similarity: 0.5215217173099518 (TransImpSpa)\n"
     ]
    },
    {
     "name": "stderr",
     "output_type": "stream",
     "text": [
      "[TransImp] Epoch: 1000/1000, loss: 0.831245, (IMP) 0.831245, (SPA) 1.0 x 0.000000: 100%|██████████| 1000/1000 [00:04<00:00, 238.51it/s]\n"
     ]
    },
    {
     "name": "stdout",
     "output_type": "stream",
     "text": [
      "fold 3, median cosine similarity: 0.5243222415447235 (TransImpCls)\n"
     ]
    },
    {
     "name": "stderr",
     "output_type": "stream",
     "text": [
      "[TransImp] Epoch: 1000/1000, loss: 0.748962, (IMP) 0.748962, (SPA) 1.0 x 0.000000: 100%|██████████| 1000/1000 [00:06<00:00, 166.23it/s]\n"
     ]
    },
    {
     "name": "stdout",
     "output_type": "stream",
     "text": [
      "fold 3, median cosine similarity: 0.5127332508563995 (TransImp)\n"
     ]
    },
    {
     "name": "stderr",
     "output_type": "stream",
     "text": [
      "[TransImp] Epoch: 1000/1000, loss: 0.836673, (IMP) 0.832668, (SPA) 1.0 x 0.004005: 100%|██████████| 1000/1000 [00:07<00:00, 125.81it/s]\n"
     ]
    },
    {
     "name": "stdout",
     "output_type": "stream",
     "text": [
      "fold 3, median cosine similarity: 0.523445725440979 (TransImpClsSpa)\n",
      "fold 3, median cosine similarity: 0.49298816136775087 (stPlus)\n",
      "fold 3, median cosine similarity: 0.5158717143706198 (spaGE)\n"
     ]
    },
    {
     "name": "stderr",
     "output_type": "stream",
     "text": [
      "INFO:root:123 training genes are saved in `uns``training_genes` of both single cell and spatial Anndatas.\n",
      "INFO:root:123 overlapped genes are saved in `uns``overlap_genes` of both single cell and spatial Anndatas.\n",
      "INFO:root:uniform based density prior is calculated and saved in `obs``uniform_density` of the spatial Anndata.\n",
      "INFO:root:rna count based density prior is calculated and saved in `obs``rna_count_based_density` of the spatial Anndata.\n",
      "INFO:root:Allocate tensors for mapping.\n",
      "INFO:root:Begin training with 123 genes and rna_count_based density_prior in clusters mode...\n",
      "INFO:root:Printing scores every 100 epochs.\n"
     ]
    },
    {
     "name": "stdout",
     "output_type": "stream",
     "text": [
      "Score: 0.438, KL reg: 0.100\n",
      "Score: 0.655, KL reg: 0.001\n",
      "Score: 0.657, KL reg: 0.001\n",
      "Score: 0.657, KL reg: 0.001\n",
      "Score: 0.658, KL reg: 0.001\n",
      "Score: 0.658, KL reg: 0.001\n",
      "Score: 0.658, KL reg: 0.001\n",
      "Score: 0.658, KL reg: 0.001\n",
      "Score: 0.658, KL reg: 0.001\n",
      "Score: 0.658, KL reg: 0.001\n"
     ]
    },
    {
     "name": "stderr",
     "output_type": "stream",
     "text": [
      "INFO:root:Saving results..\n"
     ]
    },
    {
     "name": "stdout",
     "output_type": "stream",
     "text": [
      "fold 3, median cosine similarity: 0.5104662626981735 (Tangram)\n",
      "\n",
      "===== Fold 5 =====\n",
      "Number of train genes: 123, Number of test genes: 30\n"
     ]
    },
    {
     "name": "stderr",
     "output_type": "stream",
     "text": [
      "[TransImp] Epoch: 1000/1000, loss: 0.712560, (IMP) 0.710505, (SPA) 1.0 x 0.002056: 100%|██████████| 1000/1000 [00:09<00:00, 104.11it/s]\n"
     ]
    },
    {
     "name": "stdout",
     "output_type": "stream",
     "text": [
      "fold 4, median cosine similarity: 0.5215950310230255 (TransImpSpa)\n"
     ]
    },
    {
     "name": "stderr",
     "output_type": "stream",
     "text": [
      "[TransImp] Epoch: 1000/1000, loss: 0.790528, (IMP) 0.790528, (SPA) 1.0 x 0.000000: 100%|██████████| 1000/1000 [00:04<00:00, 233.00it/s]\n"
     ]
    },
    {
     "name": "stdout",
     "output_type": "stream",
     "text": [
      "fold 4, median cosine similarity: 0.5333660542964935 (TransImpCls)\n"
     ]
    },
    {
     "name": "stderr",
     "output_type": "stream",
     "text": [
      "[TransImp] Epoch: 1000/1000, loss: 0.700203, (IMP) 0.700203, (SPA) 1.0 x 0.000000: 100%|██████████| 1000/1000 [00:06<00:00, 162.31it/s]\n"
     ]
    },
    {
     "name": "stdout",
     "output_type": "stream",
     "text": [
      "fold 4, median cosine similarity: 0.5227386355400085 (TransImp)\n"
     ]
    },
    {
     "name": "stderr",
     "output_type": "stream",
     "text": [
      "[TransImp] Epoch: 1000/1000, loss: 0.795890, (IMP) 0.791930, (SPA) 1.0 x 0.003960: 100%|██████████| 1000/1000 [00:07<00:00, 129.91it/s]\n"
     ]
    },
    {
     "name": "stdout",
     "output_type": "stream",
     "text": [
      "fold 4, median cosine similarity: 0.5320127308368683 (TransImpClsSpa)\n",
      "fold 4, median cosine similarity: 0.5163481128081764 (stPlus)\n",
      "fold 4, median cosine similarity: 0.49425493181640645 (spaGE)\n"
     ]
    },
    {
     "name": "stderr",
     "output_type": "stream",
     "text": [
      "INFO:root:123 training genes are saved in `uns``training_genes` of both single cell and spatial Anndatas.\n",
      "INFO:root:123 overlapped genes are saved in `uns``overlap_genes` of both single cell and spatial Anndatas.\n",
      "INFO:root:uniform based density prior is calculated and saved in `obs``uniform_density` of the spatial Anndata.\n",
      "INFO:root:rna count based density prior is calculated and saved in `obs``rna_count_based_density` of the spatial Anndata.\n",
      "INFO:root:Allocate tensors for mapping.\n",
      "INFO:root:Begin training with 123 genes and rna_count_based density_prior in clusters mode...\n",
      "INFO:root:Printing scores every 100 epochs.\n"
     ]
    },
    {
     "name": "stdout",
     "output_type": "stream",
     "text": [
      "Score: 0.437, KL reg: 0.101\n",
      "Score: 0.661, KL reg: 0.002\n",
      "Score: 0.662, KL reg: 0.002\n",
      "Score: 0.663, KL reg: 0.002\n",
      "Score: 0.663, KL reg: 0.002\n",
      "Score: 0.663, KL reg: 0.002\n",
      "Score: 0.663, KL reg: 0.002\n",
      "Score: 0.663, KL reg: 0.002\n",
      "Score: 0.663, KL reg: 0.002\n",
      "Score: 0.663, KL reg: 0.002\n"
     ]
    },
    {
     "name": "stderr",
     "output_type": "stream",
     "text": [
      "INFO:root:Saving results..\n"
     ]
    },
    {
     "name": "stdout",
     "output_type": "stream",
     "text": [
      "fold 4, median cosine similarity: 0.527005523443222 (Tangram)\n",
      "0.5675826072692871 (TransImpSpa) 0.5627641081809998 (TransImp) 0.5610071420669556 (TransImpCls) 0.5561543703079224 (TransImpClsSpa) 0.5523513077165533 (stPlus) 0.5455328067416737 (spaGE) 0.5531527400016785 (Tangram)\n"
     ]
    }
   ],
   "source": [
    "kf = KFold(n_splits=5, shuffle=True, random_state=0)\n",
    "kf.get_n_splits(raw_shared_gene)\n",
    "\n",
    "df_transImpSpa = pd.DataFrame(np.zeros((spa_adata.n_obs, len(raw_shared_gene))), columns=raw_shared_gene)\n",
    "df_transImpCls = pd.DataFrame(np.zeros((spa_adata.n_obs, len(raw_shared_gene))), columns=raw_shared_gene)\n",
    "df_transImpClsSpa = pd.DataFrame(np.zeros((spa_adata.n_obs, len(raw_shared_gene))), columns=raw_shared_gene)\n",
    "df_transImp = pd.DataFrame(np.zeros((spa_adata.n_obs, len(raw_shared_gene))), columns=raw_shared_gene)\n",
    "df_stplus_res = pd.DataFrame(np.zeros((spa_adata.n_obs, len(raw_shared_gene))), columns=raw_shared_gene)\n",
    "df_spaGE_res = pd.DataFrame(np.zeros((spa_adata.n_obs, len(raw_shared_gene))), columns=raw_shared_gene)\n",
    "df_tangram_res = pd.DataFrame(np.zeros((spa_adata.n_obs, len(raw_shared_gene))), columns=raw_shared_gene)\n",
    "\n",
    "\n",
    "for idx, (train_ind, test_ind) in enumerate(kf.split(raw_shared_gene)):    \n",
    "    print(f\"\\n===== Fold {idx+1} =====\\nNumber of train genes: {len(train_ind)}, Number of test genes: {len(test_ind)}\")\n",
    "    train_gene = raw_shared_gene[train_ind]\n",
    "    test_gene  = raw_shared_gene[test_ind]\n",
    "    \n",
    "    test_spatial_df = raw_spatial_df[test_gene]\n",
    "    spatial_df = raw_spatial_df[train_gene]\n",
    "    scrna_df   = raw_scrna_df\n",
    "\n",
    "    df_transImpSpa[test_gene] = expTransImp(\n",
    "            df_ref=raw_scrna_df,\n",
    "            df_tgt=raw_spatial_df,\n",
    "            train_gene=train_gene,\n",
    "            test_gene=test_gene,\n",
    "            signature_mode='cell',\n",
    "            mapping_mode='lowrank',\n",
    "            mapping_lowdim=128,\n",
    "            clip_max=5,\n",
    "            spa_adj=spa_adata.obsp['spatial_connectivities'].tocoo(),\n",
    "            seed=seed,\n",
    "            device=device)\n",
    "\n",
    "    corr_transImpSpa_res = calc_corr(raw_spatial_df, df_transImpSpa, test_gene)\n",
    "    print(f'fold {idx}, median cosine similarity: {np.median(corr_transImpSpa_res)} (TransImpSpa)')\n",
    "\n",
    "    df_transImpCls[test_gene] = expTransImp(\n",
    "            df_ref=raw_scrna_df,\n",
    "            df_tgt=raw_spatial_df,\n",
    "            train_gene=train_gene,\n",
    "            test_gene=test_gene,\n",
    "            ct_list=ct_list,\n",
    "            classes=classes,\n",
    "            signature_mode='cluster',\n",
    "            mapping_mode='full',\n",
    "            seed=seed,\n",
    "            device=device)\n",
    "\n",
    "    corr_transImpSpa_res = calc_corr(raw_spatial_df, df_transImpCls, test_gene)\n",
    "    print(f'fold {idx}, median cosine similarity: {np.median(corr_transImpSpa_res)} (TransImpCls)')\n",
    "\n",
    "    df_transImp[test_gene] = expTransImp(\n",
    "            df_ref=raw_scrna_df,\n",
    "            df_tgt=raw_spatial_df,\n",
    "            train_gene=train_gene,\n",
    "            test_gene=test_gene,\n",
    "            signature_mode='cell',\n",
    "            mapping_mode='lowrank',\n",
    "            mapping_lowdim=128,\n",
    "            clip_max=5,\n",
    "            seed=seed,\n",
    "            device=device)\n",
    "\n",
    "    corr_transImpSpa_res = calc_corr(raw_spatial_df, df_transImp, test_gene)\n",
    "    print(f'fold {idx}, median cosine similarity: {np.median(corr_transImpSpa_res)} (TransImp)')\n",
    "\n",
    "    df_transImpClsSpa[test_gene] = expTransImp(\n",
    "            df_ref=raw_scrna_df,\n",
    "            df_tgt=raw_spatial_df,\n",
    "            train_gene=train_gene,\n",
    "            test_gene=test_gene,\n",
    "            ct_list=ct_list,\n",
    "            classes=classes,\n",
    "            spa_adj=spa_adata.obsp['spatial_connectivities'].tocoo(),\n",
    "            signature_mode='cluster',\n",
    "            mapping_mode='full',\n",
    "            seed=seed,\n",
    "            device=device)\n",
    "\n",
    "    corr_transImpSpa_res = calc_corr(raw_spatial_df, df_transImpClsSpa, test_gene)\n",
    "    print(f'fold {idx}, median cosine similarity: {np.median(corr_transImpSpa_res)} (TransImpClsSpa)')\n",
    "\n",
    "    df_stplus_res[test_gene] = stPlus.stPlus(spatial_df, scrna_df, test_gene, \"tmpdf_mm\", verbose=False, random_seed=seed, device=device)\n",
    "    corr_res_stplus = calc_corr(raw_spatial_df, df_stplus_res, test_gene)\n",
    "    print(f'fold {idx}, median cosine similarity: {np.median(corr_res_stplus)} (stPlus)')\n",
    "\n",
    "    df_spaGE_res[test_gene]  = SpaGE_impute(scrna_df, spatial_df, train_gene, test_gene)\n",
    "    corr_res_spaGE = calc_corr(raw_spatial_df, df_spaGE_res, test_gene)\n",
    "    print(f'fold {idx}, median cosine similarity: {np.median(corr_res_spaGE)} (spaGE)')\n",
    "\n",
    "    df_tangram_res[test_gene] = Tangram_impute(Moffit_adata, spa_adata, train_gene, test_gene, device, cls_key)\n",
    "    corr_res_tangram = calc_corr(raw_spatial_df, df_tangram_res, test_gene)\n",
    "    print(f'fold {idx}, median cosine similarity: {np.median(corr_res_tangram)} (Tangram)')\n",
    "\n",
    "corr_transImpSpa_res = calc_corr(raw_spatial_df, df_transImpSpa, raw_shared_gene)\n",
    "corr_transImp_res = calc_corr(raw_spatial_df, df_transImp, raw_shared_gene)\n",
    "corr_transImpCls_res = calc_corr(raw_spatial_df, df_transImpCls, raw_shared_gene)\n",
    "corr_transImpClsSpa_res = calc_corr(raw_spatial_df, df_transImpClsSpa, raw_shared_gene)\n",
    "corr_res_stplus = calc_corr(raw_spatial_df, df_stplus_res, raw_shared_gene)\n",
    "corr_res_spaGE = calc_corr(raw_spatial_df, df_spaGE_res, raw_shared_gene)\n",
    "corr_res_tangram = calc_corr(raw_spatial_df, df_tangram_res, raw_shared_gene)   \n",
    "\n",
    "print(np.median(corr_transImpSpa_res), \"(TransImpSpa)\", \n",
    "      np.median(corr_transImp_res), \"(TransImp)\", \n",
    "      np.median(corr_transImpCls_res), \"(TransImpCls)\", \n",
    "      np.median(corr_transImpClsSpa_res), \"(TransImpClsSpa)\", \n",
    "      np.median(corr_res_stplus), \"(stPlus)\", \n",
    "      np.median(corr_res_spaGE), \"(spaGE)\",\n",
    "      np.median(corr_res_tangram), \"(Tangram)\"\n",
    "      )"
   ]
  },
  {
   "cell_type": "code",
   "execution_count": 6,
   "metadata": {},
   "outputs": [],
   "source": [
    "df_transImp.to_csv('../../output/merfish_moffit_transImpute.csv')\n",
    "df_transImpSpa.to_csv('../../output/merfish_moffit_transImpSpa.csv')\n",
    "df_transImpCls.to_csv('../../output/merfish_moffit_transImpCls.csv')\n",
    "df_transImpClsSpa.to_csv('../../output/merfish_moffit_transImpClsSpa.csv')\n",
    "df_spaGE_res.to_csv('../../output/merfish_moffit_spaGE.csv')\n",
    "df_stplus_res.to_csv('../../output/merfish_moffit_stPlus.csv')\n",
    "df_tangram_res.to_csv('../../output/merfish_moffit_Tangram.csv')\n"
   ]
  },
  {
   "cell_type": "code",
   "execution_count": 7,
   "metadata": {},
   "outputs": [],
   "source": [
    "dict_df = {\"TransImp\":df_transImp, \n",
    "           \"TransImpSpa\":df_transImpSpa, \n",
    "           \"TransImpCls\":df_transImpCls,\n",
    "           \"TransImpClsSpa\":df_transImpClsSpa,\n",
    "           \"spaGE\": df_spaGE_res, \"stPlus\": df_stplus_res, \n",
    "           \"Tangram\":df_tangram_res\n",
    "           }\n",
    "sq.gr.spatial_autocorr(\n",
    "    spa_adata,\n",
    "    n_jobs=10,\n",
    ")\n",
    "\n",
    "dict_adata = {name: compute_autocorr(spa_adata[:, raw_shared_gene].copy(), df) for name, df in dict_df.items()}\n"
   ]
  },
  {
   "cell_type": "code",
   "execution_count": 8,
   "metadata": {},
   "outputs": [
    {
     "name": "stdout",
     "output_type": "stream",
     "text": [
      "Mean Squared Error\n",
      "Moran's I:\n",
      "\n",
      "\tTrue vs TransImp: 0.008437\n",
      "\tTrue vs TransImpSpa: 0.005120\n",
      "\tTrue vs TransImpCls: 0.007834\n",
      "\tTrue vs TransImpClsSpa: 0.004871\n",
      "\tTrue vs spaGE: 0.003916\n",
      "\tTrue vs stPlus: 0.005142\n",
      "\tTrue vs Tangram: 0.008349\n"
     ]
    }
   ],
   "source": [
    "from sklearn.metrics import mean_squared_error\n",
    "moranIs = {name:mean_squared_error(spa_adata.uns['moranI'].loc[raw_shared_gene].I, imp_adata.uns['moranI'].loc[raw_shared_gene].I) for name, imp_adata in dict_adata.items()}\n",
    "\n",
    "print(\"Mean Squared Error\\nMoran's I:\\n\")\n",
    "print(\"\\n\".join([f\"\\tTrue vs {method}: {score:.6f}\" for method, score in moranIs.items()]))\n"
   ]
  },
  {
   "cell_type": "code",
   "execution_count": null,
   "metadata": {},
   "outputs": [],
   "source": []
  }
 ],
 "metadata": {
  "kernelspec": {
   "display_name": "py39",
   "language": "python",
   "name": "python3"
  },
  "language_info": {
   "codemirror_mode": {
    "name": "ipython",
    "version": 3
   },
   "file_extension": ".py",
   "mimetype": "text/x-python",
   "name": "python",
   "nbconvert_exporter": "python",
   "pygments_lexer": "ipython3",
   "version": "3.9.15 (main, Nov 24 2022, 14:31:59) \n[GCC 11.2.0]"
  },
  "orig_nbformat": 4,
  "vscode": {
   "interpreter": {
    "hash": "e8da81f65ceb90801c63ea0064300de9b9164522ea58b631889c934b5d41a013"
   }
  }
 },
 "nbformat": 4,
 "nbformat_minor": 2
}
