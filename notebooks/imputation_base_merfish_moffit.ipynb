{
 "cells": [
  {
   "cell_type": "code",
   "execution_count": 1,
   "metadata": {},
   "outputs": [],
   "source": [
    "import anndata\n",
    "import torch\n",
    "import stPlus\n",
    "import os\n",
    "\n",
    "import squidpy as sq\n",
    "import numpy as np\n",
    "import scanpy as sc\n",
    "import pandas as pd\n",
    "\n",
    "from sklearn.model_selection import KFold\n",
    "from transpa.eval_util import calc_corr\n",
    "from transpa.util import expTransImp, leiden_cluster, compute_autocorr\n",
    "from benchmark import SpaGE_impute, Tangram_impute\n",
    "import warnings\n",
    "\n",
    "warnings.filterwarnings('ignore')\n",
    "\n",
    "seed = 10\n",
    "device = torch.device(\"cuda:0\") if torch.cuda.is_available() else torch.device(\"cpu\")"
   ]
  },
  {
   "cell_type": "code",
   "execution_count": 2,
   "metadata": {},
   "outputs": [],
   "source": [
    "merfish_path = '../../data/ST/Merfish/merfish.h5ad'\n",
    "if os.path.exists(merfish_path):\n",
    "    spa_adata = sc.read(merfish_path)\n",
    "else:\n",
    "    merfish = pd.read_csv('../../data/ST/Merfish/Moffitt_and_Bambah-Mukku_et_al_merfish_all_cells.csv')\n",
    "    merfish_1 = merfish.loc[merfish['Animal_ID'] == 1, :]\n",
    "    merfish_1 = merfish_1.loc[merfish_1['Cell_class'] != 'Ambiguous',:]\n",
    "    merfish_meta = merfish_1.iloc[:,0:9]\n",
    "    merfish_data = merfish_1.iloc[:,9:171]\n",
    "    merfish_data = merfish_data.drop(columns = ['Blank_1','Blank_2','Blank_3','Blank_4','Blank_5','Fos'])\n",
    "\n",
    "    spa_adata = anndata.AnnData(merfish_data.values)\n",
    "    spa_adata.obs['X'] = merfish_1.Centroid_X.values\n",
    "    spa_adata.obs['Y'] = merfish_1.Centroid_Y.values\n",
    "    spa_adata.var_names = merfish_data.columns.values\n",
    "    spa_adata.var_names_make_unique()\n",
    "    sc.pp.normalize_total(spa_adata)\n",
    "    sc.pp.log1p(spa_adata)\n",
    "    spa_adata.write(merfish_path)\n",
    "\n",
    "\n",
    "Moffit_path = '../../data/scRNAseq/Moffit/moffit_adata.h5ad'\n",
    "\n",
    "if os.path.exists(Moffit_path):\n",
    "    Moffit_adata = sc.read(Moffit_path)\n",
    "else:\n",
    "    Moffit_adata = sc.read_mtx(\"../../data/scRNAseq/Moffit/GSE113576/matrix.mtx\").T\n",
    "    genes = pd.read_csv('../../data/scRNAseq/Moffit/GSE113576/genes.tsv',sep='\\t',header=None).loc[:, 1].values\n",
    "    barcodes = pd.read_csv('../../data/scRNAseq/Moffit/GSE113576/barcodes.tsv',sep='\\t',header=None).loc[:, 0].values\n",
    "\n",
    "    Moffit_adata.var_names = genes\n",
    "    Moffit_adata.obs_names = barcodes\n",
    "    Moffit_adata.var_names_make_unique()\n",
    "    classes, ct_list = leiden_cluster(Moffit_adata)\n",
    "    cls_key = 'leiden'\n",
    "    Moffit_adata.obs[cls_key] = classes\n",
    "    sc.pp.filter_genes(Moffit_adata, min_cells=10)\n",
    "    sc.pp.normalize_total(Moffit_adata)\n",
    "    sc.pp.log1p(Moffit_adata)\n",
    "    Moffit_adata.write(Moffit_path)\n",
    "    \n",
    "spa_adata.var_names_make_unique()\n",
    "Moffit_adata.var_names_make_unique()\n",
    "ct_list = np.unique(Moffit_adata.obs.leiden)\n",
    "classes = Moffit_adata.obs.leiden.values\n",
    "cls_key = 'leiden'"
   ]
  },
  {
   "cell_type": "code",
   "execution_count": 3,
   "metadata": {},
   "outputs": [
    {
     "data": {
      "text/plain": [
       "((64373, 155), (31299, 18646), (153,))"
      ]
     },
     "execution_count": 3,
     "metadata": {},
     "output_type": "execute_result"
    }
   ],
   "source": [
    "raw_spatial_df  = pd.DataFrame(spa_adata.X, columns=spa_adata.var_names)\n",
    "# raw_scrna_df    = pd.DataFrame.sparse.from_spmatrix(Moffit_adata.X, columns=Moffit_adata.var_names)\n",
    "raw_scrna_df    = pd.DataFrame(Moffit_adata.X.toarray(), columns=Moffit_adata.var_names)\n",
    "raw_shared_gene = np.intersect1d(raw_spatial_df.columns, raw_scrna_df.columns)\n",
    "\n",
    "raw_spatial_df.to_csv('../../output/merfish_raw.csv')\n",
    "raw_spatial_df.shape, raw_scrna_df.shape, raw_shared_gene.shape"
   ]
  },
  {
   "cell_type": "code",
   "execution_count": 4,
   "metadata": {},
   "outputs": [],
   "source": [
    "spa_adata.obsm['spatial'] = np.hstack([spa_adata.obs.X.values.reshape(-1,1), spa_adata.obs.Y.values.reshape(-1,1)])\n",
    "np.save('../../output/merfish_locations.npy', spa_adata.obsm['spatial'])\n",
    "sq.gr.spatial_neighbors(spa_adata)"
   ]
  },
  {
   "cell_type": "code",
   "execution_count": 5,
   "metadata": {},
   "outputs": [
    {
     "name": "stdout",
     "output_type": "stream",
     "text": [
      "\n",
      "===== Fold 1 =====\n",
      "Number of train genes: 122, Number of test genes: 31\n"
     ]
    },
    {
     "name": "stderr",
     "output_type": "stream",
     "text": [
      "[TransImp] Epoch: 1000/1000, loss: 0.562223, (IMP) 0.560559, (SPA) 1.0 x 0.001664: 100%|██████████| 1000/1000 [00:18<00:00, 55.49it/s]\n"
     ]
    },
    {
     "name": "stdout",
     "output_type": "stream",
     "text": [
      "fold 0, median correlation: 0.33793506902181053 (TransImpSpa)\n"
     ]
    },
    {
     "name": "stderr",
     "output_type": "stream",
     "text": [
      "[TransImp] Epoch: 1000/1000, loss: 0.843272, (IMP) 0.843272, (SPA) 1.0 x 0.000000: 100%|██████████| 1000/1000 [00:07<00:00, 135.72it/s]\n"
     ]
    },
    {
     "name": "stdout",
     "output_type": "stream",
     "text": [
      "fold 0, median correlation: 0.3571415145959039 (TransImpCls)\n"
     ]
    },
    {
     "name": "stderr",
     "output_type": "stream",
     "text": [
      "[TransImp] Epoch: 1000/1000, loss: 0.538523, (IMP) 0.538523, (SPA) 1.0 x 0.000000: 100%|██████████| 1000/1000 [00:11<00:00, 86.41it/s]\n"
     ]
    },
    {
     "name": "stdout",
     "output_type": "stream",
     "text": [
      "fold 0, median correlation: 0.3250004917567962 (TransImp)\n"
     ]
    },
    {
     "name": "stderr",
     "output_type": "stream",
     "text": [
      "[TransImp] Epoch: 1000/1000, loss: 0.848029, (IMP) 0.844415, (SPA) 1.0 x 0.003614: 100%|██████████| 1000/1000 [00:13<00:00, 72.17it/s]\n"
     ]
    },
    {
     "name": "stdout",
     "output_type": "stream",
     "text": [
      "fold 0, median correlation: 0.35256432756907835 (TransImpClsSpa)\n",
      "\t\t\t0.34134172014811964 (stPlus)\n",
      "\t\t\t0.33262536612669313 (spaGE)\n"
     ]
    },
    {
     "name": "stderr",
     "output_type": "stream",
     "text": [
      "INFO:root:122 training genes are saved in `uns``training_genes` of both single cell and spatial Anndatas.\n",
      "INFO:root:122 overlapped genes are saved in `uns``overlap_genes` of both single cell and spatial Anndatas.\n",
      "INFO:root:uniform based density prior is calculated and saved in `obs``uniform_density` of the spatial Anndata.\n",
      "INFO:root:rna count based density prior is calculated and saved in `obs``rna_count_based_density` of the spatial Anndata.\n",
      "INFO:root:Allocate tensors for mapping.\n",
      "INFO:root:Begin training with 122 genes and rna_count_based density_prior in clusters mode...\n",
      "INFO:root:Printing scores every 100 epochs.\n"
     ]
    },
    {
     "name": "stdout",
     "output_type": "stream",
     "text": [
      "Score: 0.426, KL reg: 0.088\n",
      "Score: 0.651, KL reg: 0.001\n",
      "Score: 0.653, KL reg: 0.001\n",
      "Score: 0.653, KL reg: 0.001\n",
      "Score: 0.654, KL reg: 0.001\n",
      "Score: 0.654, KL reg: 0.001\n",
      "Score: 0.654, KL reg: 0.001\n",
      "Score: 0.654, KL reg: 0.001\n",
      "Score: 0.654, KL reg: 0.001\n",
      "Score: 0.654, KL reg: 0.001\n"
     ]
    },
    {
     "name": "stderr",
     "output_type": "stream",
     "text": [
      "INFO:root:Saving results..\n"
     ]
    },
    {
     "name": "stdout",
     "output_type": "stream",
     "text": [
      "\t\t\t0.3418917369638313 (Tangram)\n",
      "\n",
      "===== Fold 2 =====\n",
      "Number of train genes: 122, Number of test genes: 31\n"
     ]
    },
    {
     "name": "stderr",
     "output_type": "stream",
     "text": [
      "[TransImp] Epoch: 1000/1000, loss: 0.572696, (IMP) 0.570908, (SPA) 1.0 x 0.001788: 100%|██████████| 1000/1000 [00:17<00:00, 57.34it/s]\n"
     ]
    },
    {
     "name": "stdout",
     "output_type": "stream",
     "text": [
      "fold 1, median correlation: 0.17477798270082537 (TransImpSpa)\n"
     ]
    },
    {
     "name": "stderr",
     "output_type": "stream",
     "text": [
      "[TransImp] Epoch: 1000/1000, loss: 0.825958, (IMP) 0.825958, (SPA) 1.0 x 0.000000: 100%|██████████| 1000/1000 [00:07<00:00, 138.35it/s]\n"
     ]
    },
    {
     "name": "stdout",
     "output_type": "stream",
     "text": [
      "fold 1, median correlation: 0.23239398400406225 (TransImpCls)\n"
     ]
    },
    {
     "name": "stderr",
     "output_type": "stream",
     "text": [
      "[TransImp] Epoch: 1000/1000, loss: 0.550727, (IMP) 0.550727, (SPA) 1.0 x 0.000000: 100%|██████████| 1000/1000 [00:11<00:00, 86.33it/s]\n"
     ]
    },
    {
     "name": "stdout",
     "output_type": "stream",
     "text": [
      "fold 1, median correlation: 0.1742707618499262 (TransImp)\n"
     ]
    },
    {
     "name": "stderr",
     "output_type": "stream",
     "text": [
      "[TransImp] Epoch: 1000/1000, loss: 0.830989, (IMP) 0.827212, (SPA) 1.0 x 0.003777: 100%|██████████| 1000/1000 [00:14<00:00, 70.01it/s]\n"
     ]
    },
    {
     "name": "stdout",
     "output_type": "stream",
     "text": [
      "fold 1, median correlation: 0.23028945243878232 (TransImpClsSpa)\n",
      "\t\t\t0.1796437873369204 (stPlus)\n",
      "\t\t\t0.17251574396986058 (spaGE)\n"
     ]
    },
    {
     "name": "stderr",
     "output_type": "stream",
     "text": [
      "INFO:root:122 training genes are saved in `uns``training_genes` of both single cell and spatial Anndatas.\n",
      "INFO:root:122 overlapped genes are saved in `uns``overlap_genes` of both single cell and spatial Anndatas.\n",
      "INFO:root:uniform based density prior is calculated and saved in `obs``uniform_density` of the spatial Anndata.\n",
      "INFO:root:rna count based density prior is calculated and saved in `obs``rna_count_based_density` of the spatial Anndata.\n",
      "INFO:root:Allocate tensors for mapping.\n",
      "INFO:root:Begin training with 122 genes and rna_count_based density_prior in clusters mode...\n",
      "INFO:root:Printing scores every 100 epochs.\n"
     ]
    },
    {
     "name": "stdout",
     "output_type": "stream",
     "text": [
      "Score: 0.436, KL reg: 0.107\n",
      "Score: 0.657, KL reg: 0.002\n",
      "Score: 0.658, KL reg: 0.002\n",
      "Score: 0.659, KL reg: 0.001\n",
      "Score: 0.659, KL reg: 0.001\n",
      "Score: 0.659, KL reg: 0.001\n",
      "Score: 0.659, KL reg: 0.001\n",
      "Score: 0.659, KL reg: 0.001\n",
      "Score: 0.659, KL reg: 0.001\n",
      "Score: 0.659, KL reg: 0.001\n"
     ]
    },
    {
     "name": "stderr",
     "output_type": "stream",
     "text": [
      "INFO:root:Saving results..\n"
     ]
    },
    {
     "name": "stdout",
     "output_type": "stream",
     "text": [
      "\t\t\t0.24070265477460304 (Tangram)\n",
      "\n",
      "===== Fold 3 =====\n",
      "Number of train genes: 122, Number of test genes: 31\n"
     ]
    },
    {
     "name": "stderr",
     "output_type": "stream",
     "text": [
      "[TransImp] Epoch: 1000/1000, loss: 0.489253, (IMP) 0.488233, (SPA) 1.0 x 0.001020: 100%|██████████| 1000/1000 [00:18<00:00, 55.11it/s]\n"
     ]
    },
    {
     "name": "stdout",
     "output_type": "stream",
     "text": [
      "fold 2, median correlation: 0.3130948853994587 (TransImpSpa)\n"
     ]
    },
    {
     "name": "stderr",
     "output_type": "stream",
     "text": [
      "[TransImp] Epoch: 1000/1000, loss: 0.730507, (IMP) 0.730507, (SPA) 1.0 x 0.000000: 100%|██████████| 1000/1000 [00:07<00:00, 139.15it/s]\n"
     ]
    },
    {
     "name": "stdout",
     "output_type": "stream",
     "text": [
      "fold 2, median correlation: 0.3050761280350354 (TransImpCls)\n"
     ]
    },
    {
     "name": "stderr",
     "output_type": "stream",
     "text": [
      "[TransImp] Epoch: 1000/1000, loss: 0.475512, (IMP) 0.475512, (SPA) 1.0 x 0.000000: 100%|██████████| 1000/1000 [00:11<00:00, 89.57it/s]\n"
     ]
    },
    {
     "name": "stdout",
     "output_type": "stream",
     "text": [
      "fold 2, median correlation: 0.31650081506612593 (TransImp)\n"
     ]
    },
    {
     "name": "stderr",
     "output_type": "stream",
     "text": [
      "[TransImp] Epoch: 1000/1000, loss: 0.734084, (IMP) 0.731797, (SPA) 1.0 x 0.002288: 100%|██████████| 1000/1000 [00:13<00:00, 71.97it/s]\n"
     ]
    },
    {
     "name": "stdout",
     "output_type": "stream",
     "text": [
      "fold 2, median correlation: 0.3053089050131768 (TransImpClsSpa)\n",
      "\t\t\t0.31492769801645554 (stPlus)\n",
      "\t\t\t0.28014813333488997 (spaGE)\n"
     ]
    },
    {
     "name": "stderr",
     "output_type": "stream",
     "text": [
      "INFO:root:122 training genes are saved in `uns``training_genes` of both single cell and spatial Anndatas.\n",
      "INFO:root:122 overlapped genes are saved in `uns``overlap_genes` of both single cell and spatial Anndatas.\n",
      "INFO:root:uniform based density prior is calculated and saved in `obs``uniform_density` of the spatial Anndata.\n",
      "INFO:root:rna count based density prior is calculated and saved in `obs``rna_count_based_density` of the spatial Anndata.\n",
      "INFO:root:Allocate tensors for mapping.\n",
      "INFO:root:Begin training with 122 genes and rna_count_based density_prior in clusters mode...\n",
      "INFO:root:Printing scores every 100 epochs.\n"
     ]
    },
    {
     "name": "stdout",
     "output_type": "stream",
     "text": [
      "Score: 0.436, KL reg: 0.104\n",
      "Score: 0.653, KL reg: 0.001\n",
      "Score: 0.655, KL reg: 0.001\n",
      "Score: 0.655, KL reg: 0.001\n",
      "Score: 0.655, KL reg: 0.001\n",
      "Score: 0.655, KL reg: 0.001\n",
      "Score: 0.655, KL reg: 0.001\n",
      "Score: 0.656, KL reg: 0.001\n",
      "Score: 0.656, KL reg: 0.001\n",
      "Score: 0.656, KL reg: 0.001\n"
     ]
    },
    {
     "name": "stderr",
     "output_type": "stream",
     "text": [
      "INFO:root:Saving results..\n"
     ]
    },
    {
     "name": "stdout",
     "output_type": "stream",
     "text": [
      "\t\t\t0.31214127083997534 (Tangram)\n",
      "\n",
      "===== Fold 4 =====\n",
      "Number of train genes: 123, Number of test genes: 30\n"
     ]
    },
    {
     "name": "stderr",
     "output_type": "stream",
     "text": [
      "[TransImp] Epoch: 1000/1000, loss: 0.570753, (IMP) 0.569009, (SPA) 1.0 x 0.001744: 100%|██████████| 1000/1000 [00:18<00:00, 55.54it/s]\n"
     ]
    },
    {
     "name": "stdout",
     "output_type": "stream",
     "text": [
      "fold 3, median correlation: 0.21166814314684462 (TransImpSpa)\n"
     ]
    },
    {
     "name": "stderr",
     "output_type": "stream",
     "text": [
      "[TransImp] Epoch: 1000/1000, loss: 0.831245, (IMP) 0.831245, (SPA) 1.0 x 0.000000: 100%|██████████| 1000/1000 [00:07<00:00, 131.46it/s]\n"
     ]
    },
    {
     "name": "stdout",
     "output_type": "stream",
     "text": [
      "fold 3, median correlation: 0.25244367023921 (TransImpCls)\n"
     ]
    },
    {
     "name": "stderr",
     "output_type": "stream",
     "text": [
      "[TransImp] Epoch: 1000/1000, loss: 0.551349, (IMP) 0.551349, (SPA) 1.0 x 0.000000: 100%|██████████| 1000/1000 [00:11<00:00, 86.10it/s]\n"
     ]
    },
    {
     "name": "stdout",
     "output_type": "stream",
     "text": [
      "fold 3, median correlation: 0.21959700544295122 (TransImp)\n"
     ]
    },
    {
     "name": "stderr",
     "output_type": "stream",
     "text": [
      "[TransImp] Epoch: 1000/1000, loss: 0.836673, (IMP) 0.832668, (SPA) 1.0 x 0.004005: 100%|██████████| 1000/1000 [00:14<00:00, 69.25it/s]\n"
     ]
    },
    {
     "name": "stdout",
     "output_type": "stream",
     "text": [
      "fold 3, median correlation: 0.25171255681861576 (TransImpClsSpa)\n",
      "\t\t\t0.2531887229414372 (stPlus)\n",
      "\t\t\t0.22008229426829667 (spaGE)\n"
     ]
    },
    {
     "name": "stderr",
     "output_type": "stream",
     "text": [
      "INFO:root:123 training genes are saved in `uns``training_genes` of both single cell and spatial Anndatas.\n",
      "INFO:root:123 overlapped genes are saved in `uns``overlap_genes` of both single cell and spatial Anndatas.\n",
      "INFO:root:uniform based density prior is calculated and saved in `obs``uniform_density` of the spatial Anndata.\n",
      "INFO:root:rna count based density prior is calculated and saved in `obs``rna_count_based_density` of the spatial Anndata.\n",
      "INFO:root:Allocate tensors for mapping.\n",
      "INFO:root:Begin training with 123 genes and rna_count_based density_prior in clusters mode...\n",
      "INFO:root:Printing scores every 100 epochs.\n"
     ]
    },
    {
     "name": "stdout",
     "output_type": "stream",
     "text": [
      "Score: 0.438, KL reg: 0.100\n",
      "Score: 0.655, KL reg: 0.001\n",
      "Score: 0.657, KL reg: 0.001\n",
      "Score: 0.657, KL reg: 0.001\n",
      "Score: 0.658, KL reg: 0.001\n",
      "Score: 0.658, KL reg: 0.001\n",
      "Score: 0.658, KL reg: 0.001\n",
      "Score: 0.658, KL reg: 0.001\n",
      "Score: 0.658, KL reg: 0.001\n",
      "Score: 0.658, KL reg: 0.001\n"
     ]
    },
    {
     "name": "stderr",
     "output_type": "stream",
     "text": [
      "INFO:root:Saving results..\n"
     ]
    },
    {
     "name": "stdout",
     "output_type": "stream",
     "text": [
      "\t\t\t0.24157645796444105 (Tangram)\n",
      "\n",
      "===== Fold 5 =====\n",
      "Number of train genes: 123, Number of test genes: 30\n"
     ]
    },
    {
     "name": "stderr",
     "output_type": "stream",
     "text": [
      "[TransImp] Epoch: 1000/1000, loss: 0.553660, (IMP) 0.552105, (SPA) 1.0 x 0.001555: 100%|██████████| 1000/1000 [00:18<00:00, 52.85it/s]\n"
     ]
    },
    {
     "name": "stdout",
     "output_type": "stream",
     "text": [
      "fold 4, median correlation: 0.2531674596593373 (TransImpSpa)\n"
     ]
    },
    {
     "name": "stderr",
     "output_type": "stream",
     "text": [
      "[TransImp] Epoch: 1000/1000, loss: 0.790528, (IMP) 0.790528, (SPA) 1.0 x 0.000000: 100%|██████████| 1000/1000 [00:07<00:00, 132.44it/s]\n"
     ]
    },
    {
     "name": "stdout",
     "output_type": "stream",
     "text": [
      "fold 4, median correlation: 0.2729298579520554 (TransImpCls)\n"
     ]
    },
    {
     "name": "stderr",
     "output_type": "stream",
     "text": [
      "[TransImp] Epoch: 1000/1000, loss: 0.529110, (IMP) 0.529110, (SPA) 1.0 x 0.000000: 100%|██████████| 1000/1000 [00:11<00:00, 85.78it/s]\n"
     ]
    },
    {
     "name": "stdout",
     "output_type": "stream",
     "text": [
      "fold 4, median correlation: 0.25130109140326035 (TransImp)\n"
     ]
    },
    {
     "name": "stderr",
     "output_type": "stream",
     "text": [
      "[TransImp] Epoch: 1000/1000, loss: 0.795890, (IMP) 0.791930, (SPA) 1.0 x 0.003960: 100%|██████████| 1000/1000 [00:14<00:00, 69.32it/s]\n"
     ]
    },
    {
     "name": "stdout",
     "output_type": "stream",
     "text": [
      "fold 4, median correlation: 0.27403045692845285 (TransImpClsSpa)\n",
      "\t\t\t0.2356610237098042 (stPlus)\n",
      "\t\t\t0.22733023498071797 (spaGE)\n"
     ]
    },
    {
     "name": "stderr",
     "output_type": "stream",
     "text": [
      "INFO:root:123 training genes are saved in `uns``training_genes` of both single cell and spatial Anndatas.\n",
      "INFO:root:123 overlapped genes are saved in `uns``overlap_genes` of both single cell and spatial Anndatas.\n",
      "INFO:root:uniform based density prior is calculated and saved in `obs``uniform_density` of the spatial Anndata.\n",
      "INFO:root:rna count based density prior is calculated and saved in `obs``rna_count_based_density` of the spatial Anndata.\n",
      "INFO:root:Allocate tensors for mapping.\n",
      "INFO:root:Begin training with 123 genes and rna_count_based density_prior in clusters mode...\n",
      "INFO:root:Printing scores every 100 epochs.\n"
     ]
    },
    {
     "name": "stdout",
     "output_type": "stream",
     "text": [
      "Score: 0.437, KL reg: 0.101\n",
      "Score: 0.661, KL reg: 0.002\n",
      "Score: 0.662, KL reg: 0.002\n",
      "Score: 0.663, KL reg: 0.002\n",
      "Score: 0.663, KL reg: 0.002\n",
      "Score: 0.663, KL reg: 0.002\n",
      "Score: 0.663, KL reg: 0.002\n",
      "Score: 0.663, KL reg: 0.002\n",
      "Score: 0.663, KL reg: 0.002\n",
      "Score: 0.663, KL reg: 0.002\n"
     ]
    },
    {
     "name": "stderr",
     "output_type": "stream",
     "text": [
      "INFO:root:Saving results..\n"
     ]
    },
    {
     "name": "stdout",
     "output_type": "stream",
     "text": [
      "\t\t\t0.2830948724182547 (Tangram)\n",
      "0.27322788572156775 (TransImpSpa) 0.2783631214199657 (TransImp) 0.28280039215836916 (TransImpCls) 0.2801339827156346 (TransImpClsSpa) 0.26358982611465287 (stPlus) 0.25811461426728405 (spaGE) 0.2893539778304469 (Tangram)\n"
     ]
    }
   ],
   "source": [
    "kf = KFold(n_splits=5, shuffle=True, random_state=0)\n",
    "kf.get_n_splits(raw_shared_gene)\n",
    "\n",
    "df_transImpSpa = pd.DataFrame(np.zeros((spa_adata.n_obs, len(raw_shared_gene))), columns=raw_shared_gene)\n",
    "df_transImpCls = pd.DataFrame(np.zeros((spa_adata.n_obs, len(raw_shared_gene))), columns=raw_shared_gene)\n",
    "df_transImpClsSpa = pd.DataFrame(np.zeros((spa_adata.n_obs, len(raw_shared_gene))), columns=raw_shared_gene)\n",
    "df_transImp = pd.DataFrame(np.zeros((spa_adata.n_obs, len(raw_shared_gene))), columns=raw_shared_gene)\n",
    "df_stplus_res = pd.DataFrame(np.zeros((spa_adata.n_obs, len(raw_shared_gene))), columns=raw_shared_gene)\n",
    "df_spaGE_res = pd.DataFrame(np.zeros((spa_adata.n_obs, len(raw_shared_gene))), columns=raw_shared_gene)\n",
    "df_tangram_res = pd.DataFrame(np.zeros((spa_adata.n_obs, len(raw_shared_gene))), columns=raw_shared_gene)\n",
    "\n",
    "\n",
    "for idx, (train_ind, test_ind) in enumerate(kf.split(raw_shared_gene)):    \n",
    "    print(f\"\\n===== Fold {idx+1} =====\\nNumber of train genes: {len(train_ind)}, Number of test genes: {len(test_ind)}\")\n",
    "    train_gene = raw_shared_gene[train_ind]\n",
    "    test_gene  = raw_shared_gene[test_ind]\n",
    "    \n",
    "    test_spatial_df = raw_spatial_df[test_gene]\n",
    "    spatial_df = raw_spatial_df[train_gene]\n",
    "    scrna_df   = raw_scrna_df\n",
    "\n",
    "    df_transImpSpa[test_gene] = expTransImp(\n",
    "            df_ref=raw_scrna_df,\n",
    "            df_tgt=raw_spatial_df,\n",
    "            train_gene=train_gene,\n",
    "            test_gene=test_gene,\n",
    "            signature_mode='cell',\n",
    "            mapping_mode='lowrank',\n",
    "            mapping_lowdim=128,\n",
    "            spa_adj=spa_adata.obsp['spatial_connectivities'].tocoo(),\n",
    "            seed=seed,\n",
    "            device=device)\n",
    "\n",
    "    corr_transImpSpa_res = calc_corr(raw_spatial_df, df_transImpSpa, test_gene)\n",
    "    print(f'fold {idx}, median correlation: {np.median(corr_transImpSpa_res)} (TransImpSpa)')\n",
    "\n",
    "    df_transImpCls[test_gene] = expTransImp(\n",
    "            df_ref=raw_scrna_df,\n",
    "            df_tgt=raw_spatial_df,\n",
    "            train_gene=train_gene,\n",
    "            test_gene=test_gene,\n",
    "            ct_list=ct_list,\n",
    "            classes=classes,\n",
    "            signature_mode='cluster',\n",
    "            mapping_mode='full',\n",
    "            seed=seed,\n",
    "            device=device)\n",
    "\n",
    "    corr_transImpSpa_res = calc_corr(raw_spatial_df, df_transImpCls, test_gene)\n",
    "    print(f'fold {idx}, median correlation: {np.median(corr_transImpSpa_res)} (TransImpCls)')\n",
    "\n",
    "    df_transImp[test_gene] = expTransImp(\n",
    "            df_ref=raw_scrna_df,\n",
    "            df_tgt=raw_spatial_df,\n",
    "            train_gene=train_gene,\n",
    "            test_gene=test_gene,\n",
    "            signature_mode='cell',\n",
    "            mapping_mode='lowrank',\n",
    "            mapping_lowdim=128,\n",
    "            seed=seed,\n",
    "            device=device)\n",
    "\n",
    "    corr_transImpSpa_res = calc_corr(raw_spatial_df, df_transImp, test_gene)\n",
    "    print(f'fold {idx}, median correlation: {np.median(corr_transImpSpa_res)} (TransImp)')\n",
    "\n",
    "    df_transImpClsSpa[test_gene] = expTransImp(\n",
    "            df_ref=raw_scrna_df,\n",
    "            df_tgt=raw_spatial_df,\n",
    "            train_gene=train_gene,\n",
    "            test_gene=test_gene,\n",
    "            ct_list=ct_list,\n",
    "            classes=classes,\n",
    "            spa_adj=spa_adata.obsp['spatial_connectivities'].tocoo(),\n",
    "            signature_mode='cluster',\n",
    "            mapping_mode='full',\n",
    "            wt_spa=1.0,\n",
    "            seed=seed,\n",
    "            device=device)\n",
    "\n",
    "    corr_transImpSpa_res = calc_corr(raw_spatial_df, df_transImpClsSpa, test_gene)\n",
    "    print(f'fold {idx}, median correlation: {np.median(corr_transImpSpa_res)} (TransImpClsSpa)')\n",
    "\n",
    "    df_stplus_res[test_gene] = stPlus.stPlus(spatial_df, scrna_df, test_gene, \"tmp_mm\", verbose=False, random_seed=seed, device=device)\n",
    "    corr_res_stplus = calc_corr(raw_spatial_df, df_stplus_res, test_gene)\n",
    "    print(f'\\t\\t\\t{np.median(corr_res_stplus)} (stPlus)')\n",
    "\n",
    "    df_spaGE_res[test_gene]  = SpaGE_impute(scrna_df, spatial_df, train_gene, test_gene)\n",
    "    corr_res_spaGE = calc_corr(raw_spatial_df, df_spaGE_res, test_gene)\n",
    "    print(f'\\t\\t\\t{np.median(corr_res_spaGE)} (spaGE)')\n",
    "\n",
    "    df_tangram_res[test_gene] = Tangram_impute(Moffit_adata, spa_adata, train_gene, test_gene, device, cls_key)\n",
    "    corr_res_tangram = calc_corr(raw_spatial_df, df_tangram_res, test_gene)\n",
    "    print(f'\\t\\t\\t{np.median(corr_res_tangram)} (Tangram)')\n",
    "\n",
    "corr_transImpSpa_res = calc_corr(raw_spatial_df, df_transImpSpa, raw_shared_gene)\n",
    "corr_transImp_res = calc_corr(raw_spatial_df, df_transImp, raw_shared_gene)\n",
    "corr_transImpCls_res = calc_corr(raw_spatial_df, df_transImpCls, raw_shared_gene)\n",
    "corr_transImpClsSpa_res = calc_corr(raw_spatial_df, df_transImpClsSpa, raw_shared_gene)\n",
    "corr_res_stplus = calc_corr(raw_spatial_df, df_stplus_res, raw_shared_gene)\n",
    "corr_res_spaGE = calc_corr(raw_spatial_df, df_spaGE_res, raw_shared_gene)\n",
    "corr_res_tangram = calc_corr(raw_spatial_df, df_tangram_res, raw_shared_gene)   \n",
    "\n",
    "print(np.median(corr_transImpSpa_res), \"(TransImpSpa)\", \n",
    "      np.median(corr_transImp_res), \"(TransImp)\", \n",
    "      np.median(corr_transImpCls_res), \"(TransImpCls)\", \n",
    "      np.median(corr_transImpClsSpa_res), \"(TransImpClsSpa)\", \n",
    "      np.median(corr_res_stplus), \"(stPlus)\", \n",
    "      np.median(corr_res_spaGE), \"(spaGE)\",\n",
    "      np.median(corr_res_tangram), \"(Tangram)\"\n",
    "      )"
   ]
  },
  {
   "cell_type": "code",
   "execution_count": 6,
   "metadata": {},
   "outputs": [],
   "source": [
    "df_transImp.to_csv('../../output/merfish_moffit_transImpute.csv')\n",
    "df_transImpSpa.to_csv('../../output/merfish_moffit_transImpSpa.csv')\n",
    "df_transImpCls.to_csv('../../output/merfish_moffit_transImpCls.csv')\n",
    "df_transImpClsSpa.to_csv('../../output/merfish_moffit_transImpClsSpa.csv')\n",
    "df_spaGE_res.to_csv('../../output/merfish_moffit_spaGE.csv')\n",
    "df_stplus_res.to_csv('../../output/merfish_moffit_stPlus.csv')\n",
    "df_tangram_res.to_csv('../../output/merfish_moffit_Tangram.csv')\n"
   ]
  },
  {
   "cell_type": "code",
   "execution_count": 7,
   "metadata": {},
   "outputs": [],
   "source": [
    "dict_df = {\"TransImp\":df_transImp, \n",
    "           \"TransImpSpa\":df_transImpSpa, \n",
    "           \"TransImpCls\":df_transImpCls,\n",
    "           \"TransImpClsSpa\":df_transImpClsSpa,\n",
    "           \"spaGE\": df_spaGE_res, \"stPlus\": df_stplus_res, \n",
    "           \"Tangram\":df_tangram_res\n",
    "           }\n",
    "sq.gr.spatial_autocorr(\n",
    "    spa_adata,\n",
    "    n_jobs=10,\n",
    ")\n",
    "sq.gr.spatial_autocorr(\n",
    "    spa_adata,\n",
    "    n_jobs=10,\n",
    "    mode='geary',\n",
    ")\n",
    "\n",
    "dict_adata = {name: compute_autocorr(spa_adata[:, raw_shared_gene].copy(), df) for name, df in dict_df.items()}\n"
   ]
  },
  {
   "cell_type": "code",
   "execution_count": 8,
   "metadata": {},
   "outputs": [
    {
     "name": "stdout",
     "output_type": "stream",
     "text": [
      "Mean Squared Error\n",
      "Moran's I:\n",
      "\n",
      "\tTrue vs TransImp: 0.008554\n",
      "\tTrue vs TransImpSpa: 0.005353\n",
      "\tTrue vs TransImpCls: 0.007834\n",
      "\tTrue vs TransImpClsSpa: 0.004871\n",
      "\tTrue vs spaGE: 0.003916\n",
      "\tTrue vs stPlus: 0.005143\n",
      "\tTrue vs Tangram: 0.008349\n",
      "Geary's C:\n",
      "\n",
      "\tTrue vs TransImp: 0.008628\n",
      "\tTrue vs TransImpSpa: 0.005370\n",
      "\tTrue vs TransImpCls: 0.007751\n",
      "\tTrue vs TransImpClsSpa: 0.004840\n",
      "\tTrue vs spaGE: 0.003970\n",
      "\tTrue vs stPlus: 0.005206\n",
      "\tTrue vs Tangram: 0.008244\n"
     ]
    }
   ],
   "source": [
    "from sklearn.metrics import mean_squared_error\n",
    "moranIs = {name:mean_squared_error(spa_adata.uns['moranI'].loc[raw_shared_gene].I, imp_adata.uns['moranI'].loc[raw_shared_gene].I) for name, imp_adata in dict_adata.items()}\n",
    "gearyCs = {name:mean_squared_error(spa_adata.uns['gearyC'].loc[raw_shared_gene].C, imp_adata.uns['gearyC'].loc[raw_shared_gene].C) for name, imp_adata in dict_adata.items()}\n",
    "\n",
    "print(\"Mean Squared Error\\nMoran's I:\\n\")\n",
    "print(\"\\n\".join([f\"\\tTrue vs {method}: {score:.6f}\" for method, score in moranIs.items()]))\n",
    "print(\"Geary's C:\\n\")\n",
    "print(\"\\n\".join([f\"\\tTrue vs {method}: {score:.6f}\" for method, score in gearyCs.items()]))\n"
   ]
  },
  {
   "cell_type": "code",
   "execution_count": null,
   "metadata": {},
   "outputs": [],
   "source": []
  }
 ],
 "metadata": {
  "interpreter": {
   "hash": "6882e18cf33c55392f753cb1e86fe7d6ba9af380909deeca032ff41f78588c0c"
  },
  "kernelspec": {
   "display_name": "Python 3.7.10 64-bit (conda)",
   "language": "python",
   "name": "python3"
  },
  "language_info": {
   "codemirror_mode": {
    "name": "ipython",
    "version": 3
   },
   "file_extension": ".py",
   "mimetype": "text/x-python",
   "name": "python",
   "nbconvert_exporter": "python",
   "pygments_lexer": "ipython3",
   "version": "3.7.12"
  },
  "orig_nbformat": 4
 },
 "nbformat": 4,
 "nbformat_minor": 2
}
